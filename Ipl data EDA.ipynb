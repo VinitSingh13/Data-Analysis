{
 "cells": [
  {
   "cell_type": "code",
   "execution_count": 1,
   "id": "1c3af7e1",
   "metadata": {},
   "outputs": [],
   "source": [
    "import numpy as np\n",
    "import pandas as pd\n",
    "import matplotlib as mpl\n",
    "import matplotlib.pyplot as plt\n",
    "import seaborn as sns\n",
    "%matplotlib inline"
   ]
  },
  {
   "cell_type": "markdown",
   "id": "facb0299",
   "metadata": {},
   "source": [
    "### Understanding data (finding nulls , usefull data , etc)"
   ]
  },
  {
   "cell_type": "code",
   "execution_count": 2,
   "id": "e5bcacc9",
   "metadata": {},
   "outputs": [],
   "source": [
    "match_df = pd.read_csv(r'D:\\ipl data set\\IPL Matches 2008-2020.csv')"
   ]
  },
  {
   "cell_type": "code",
   "execution_count": 3,
   "id": "93d09003",
   "metadata": {},
   "outputs": [
    {
     "data": {
      "text/html": [
       "<div>\n",
       "<style scoped>\n",
       "    .dataframe tbody tr th:only-of-type {\n",
       "        vertical-align: middle;\n",
       "    }\n",
       "\n",
       "    .dataframe tbody tr th {\n",
       "        vertical-align: top;\n",
       "    }\n",
       "\n",
       "    .dataframe thead th {\n",
       "        text-align: right;\n",
       "    }\n",
       "</style>\n",
       "<table border=\"1\" class=\"dataframe\">\n",
       "  <thead>\n",
       "    <tr style=\"text-align: right;\">\n",
       "      <th></th>\n",
       "      <th>id</th>\n",
       "      <th>city</th>\n",
       "      <th>date</th>\n",
       "      <th>player_of_match</th>\n",
       "      <th>venue</th>\n",
       "      <th>neutral_venue</th>\n",
       "      <th>team1</th>\n",
       "      <th>team2</th>\n",
       "      <th>toss_winner</th>\n",
       "      <th>toss_decision</th>\n",
       "      <th>winner</th>\n",
       "      <th>result</th>\n",
       "      <th>result_margin</th>\n",
       "      <th>eliminator</th>\n",
       "      <th>method</th>\n",
       "      <th>umpire1</th>\n",
       "      <th>umpire2</th>\n",
       "    </tr>\n",
       "  </thead>\n",
       "  <tbody>\n",
       "    <tr>\n",
       "      <th>0</th>\n",
       "      <td>335982</td>\n",
       "      <td>Bangalore</td>\n",
       "      <td>2008-04-18</td>\n",
       "      <td>BB McCullum</td>\n",
       "      <td>M Chinnaswamy Stadium</td>\n",
       "      <td>0</td>\n",
       "      <td>Royal Challengers Bangalore</td>\n",
       "      <td>Kolkata Knight Riders</td>\n",
       "      <td>Royal Challengers Bangalore</td>\n",
       "      <td>field</td>\n",
       "      <td>Kolkata Knight Riders</td>\n",
       "      <td>runs</td>\n",
       "      <td>140.0</td>\n",
       "      <td>N</td>\n",
       "      <td>NaN</td>\n",
       "      <td>Asad Rauf</td>\n",
       "      <td>RE Koertzen</td>\n",
       "    </tr>\n",
       "    <tr>\n",
       "      <th>1</th>\n",
       "      <td>335983</td>\n",
       "      <td>Chandigarh</td>\n",
       "      <td>2008-04-19</td>\n",
       "      <td>MEK Hussey</td>\n",
       "      <td>Punjab Cricket Association Stadium, Mohali</td>\n",
       "      <td>0</td>\n",
       "      <td>Kings XI Punjab</td>\n",
       "      <td>Chennai Super Kings</td>\n",
       "      <td>Chennai Super Kings</td>\n",
       "      <td>bat</td>\n",
       "      <td>Chennai Super Kings</td>\n",
       "      <td>runs</td>\n",
       "      <td>33.0</td>\n",
       "      <td>N</td>\n",
       "      <td>NaN</td>\n",
       "      <td>MR Benson</td>\n",
       "      <td>SL Shastri</td>\n",
       "    </tr>\n",
       "    <tr>\n",
       "      <th>2</th>\n",
       "      <td>335984</td>\n",
       "      <td>Delhi</td>\n",
       "      <td>2008-04-19</td>\n",
       "      <td>MF Maharoof</td>\n",
       "      <td>Feroz Shah Kotla</td>\n",
       "      <td>0</td>\n",
       "      <td>Delhi Daredevils</td>\n",
       "      <td>Rajasthan Royals</td>\n",
       "      <td>Rajasthan Royals</td>\n",
       "      <td>bat</td>\n",
       "      <td>Delhi Daredevils</td>\n",
       "      <td>wickets</td>\n",
       "      <td>9.0</td>\n",
       "      <td>N</td>\n",
       "      <td>NaN</td>\n",
       "      <td>Aleem Dar</td>\n",
       "      <td>GA Pratapkumar</td>\n",
       "    </tr>\n",
       "    <tr>\n",
       "      <th>3</th>\n",
       "      <td>335985</td>\n",
       "      <td>Mumbai</td>\n",
       "      <td>2008-04-20</td>\n",
       "      <td>MV Boucher</td>\n",
       "      <td>Wankhede Stadium</td>\n",
       "      <td>0</td>\n",
       "      <td>Mumbai Indians</td>\n",
       "      <td>Royal Challengers Bangalore</td>\n",
       "      <td>Mumbai Indians</td>\n",
       "      <td>bat</td>\n",
       "      <td>Royal Challengers Bangalore</td>\n",
       "      <td>wickets</td>\n",
       "      <td>5.0</td>\n",
       "      <td>N</td>\n",
       "      <td>NaN</td>\n",
       "      <td>SJ Davis</td>\n",
       "      <td>DJ Harper</td>\n",
       "    </tr>\n",
       "    <tr>\n",
       "      <th>4</th>\n",
       "      <td>335986</td>\n",
       "      <td>Kolkata</td>\n",
       "      <td>2008-04-20</td>\n",
       "      <td>DJ Hussey</td>\n",
       "      <td>Eden Gardens</td>\n",
       "      <td>0</td>\n",
       "      <td>Kolkata Knight Riders</td>\n",
       "      <td>Deccan Chargers</td>\n",
       "      <td>Deccan Chargers</td>\n",
       "      <td>bat</td>\n",
       "      <td>Kolkata Knight Riders</td>\n",
       "      <td>wickets</td>\n",
       "      <td>5.0</td>\n",
       "      <td>N</td>\n",
       "      <td>NaN</td>\n",
       "      <td>BF Bowden</td>\n",
       "      <td>K Hariharan</td>\n",
       "    </tr>\n",
       "  </tbody>\n",
       "</table>\n",
       "</div>"
      ],
      "text/plain": [
       "       id        city        date player_of_match  \\\n",
       "0  335982   Bangalore  2008-04-18     BB McCullum   \n",
       "1  335983  Chandigarh  2008-04-19      MEK Hussey   \n",
       "2  335984       Delhi  2008-04-19     MF Maharoof   \n",
       "3  335985      Mumbai  2008-04-20      MV Boucher   \n",
       "4  335986     Kolkata  2008-04-20       DJ Hussey   \n",
       "\n",
       "                                        venue  neutral_venue  \\\n",
       "0                       M Chinnaswamy Stadium              0   \n",
       "1  Punjab Cricket Association Stadium, Mohali              0   \n",
       "2                            Feroz Shah Kotla              0   \n",
       "3                            Wankhede Stadium              0   \n",
       "4                                Eden Gardens              0   \n",
       "\n",
       "                         team1                        team2  \\\n",
       "0  Royal Challengers Bangalore        Kolkata Knight Riders   \n",
       "1              Kings XI Punjab          Chennai Super Kings   \n",
       "2             Delhi Daredevils             Rajasthan Royals   \n",
       "3               Mumbai Indians  Royal Challengers Bangalore   \n",
       "4        Kolkata Knight Riders              Deccan Chargers   \n",
       "\n",
       "                   toss_winner toss_decision                       winner  \\\n",
       "0  Royal Challengers Bangalore         field        Kolkata Knight Riders   \n",
       "1          Chennai Super Kings           bat          Chennai Super Kings   \n",
       "2             Rajasthan Royals           bat             Delhi Daredevils   \n",
       "3               Mumbai Indians           bat  Royal Challengers Bangalore   \n",
       "4              Deccan Chargers           bat        Kolkata Knight Riders   \n",
       "\n",
       "    result  result_margin eliminator method    umpire1         umpire2  \n",
       "0     runs          140.0          N    NaN  Asad Rauf     RE Koertzen  \n",
       "1     runs           33.0          N    NaN  MR Benson      SL Shastri  \n",
       "2  wickets            9.0          N    NaN  Aleem Dar  GA Pratapkumar  \n",
       "3  wickets            5.0          N    NaN   SJ Davis       DJ Harper  \n",
       "4  wickets            5.0          N    NaN  BF Bowden     K Hariharan  "
      ]
     },
     "execution_count": 3,
     "metadata": {},
     "output_type": "execute_result"
    }
   ],
   "source": [
    "match_df.head()"
   ]
  },
  {
   "cell_type": "code",
   "execution_count": 4,
   "id": "bc92b114",
   "metadata": {},
   "outputs": [
    {
     "name": "stdout",
     "output_type": "stream",
     "text": [
      "<class 'pandas.core.frame.DataFrame'>\n",
      "RangeIndex: 816 entries, 0 to 815\n",
      "Data columns (total 17 columns):\n",
      " #   Column           Non-Null Count  Dtype  \n",
      "---  ------           --------------  -----  \n",
      " 0   id               816 non-null    int64  \n",
      " 1   city             803 non-null    object \n",
      " 2   date             816 non-null    object \n",
      " 3   player_of_match  812 non-null    object \n",
      " 4   venue            816 non-null    object \n",
      " 5   neutral_venue    816 non-null    int64  \n",
      " 6   team1            816 non-null    object \n",
      " 7   team2            816 non-null    object \n",
      " 8   toss_winner      816 non-null    object \n",
      " 9   toss_decision    816 non-null    object \n",
      " 10  winner           812 non-null    object \n",
      " 11  result           812 non-null    object \n",
      " 12  result_margin    799 non-null    float64\n",
      " 13  eliminator       812 non-null    object \n",
      " 14  method           19 non-null     object \n",
      " 15  umpire1          816 non-null    object \n",
      " 16  umpire2          816 non-null    object \n",
      "dtypes: float64(1), int64(2), object(14)\n",
      "memory usage: 108.5+ KB\n"
     ]
    }
   ],
   "source": [
    "match_df.info()"
   ]
  },
  {
   "cell_type": "code",
   "execution_count": 5,
   "id": "2467969f",
   "metadata": {},
   "outputs": [
    {
     "data": {
      "text/plain": [
       "id                   0\n",
       "city                13\n",
       "date                 0\n",
       "player_of_match      4\n",
       "venue                0\n",
       "neutral_venue        0\n",
       "team1                0\n",
       "team2                0\n",
       "toss_winner          0\n",
       "toss_decision        0\n",
       "winner               4\n",
       "result               4\n",
       "result_margin       17\n",
       "eliminator           4\n",
       "method             797\n",
       "umpire1              0\n",
       "umpire2              0\n",
       "dtype: int64"
      ]
     },
     "execution_count": 5,
     "metadata": {},
     "output_type": "execute_result"
    }
   ],
   "source": [
    "match_df.isna().sum()"
   ]
  },
  {
   "cell_type": "code",
   "execution_count": 6,
   "id": "f0482eb6",
   "metadata": {},
   "outputs": [],
   "source": [
    "match_df['method'].fillna(value='No',inplace=True)"
   ]
  },
  {
   "cell_type": "code",
   "execution_count": 7,
   "id": "42668bb9",
   "metadata": {},
   "outputs": [],
   "source": [
    "match_df['result'].fillna(value='NR',inplace=True)"
   ]
  },
  {
   "cell_type": "code",
   "execution_count": 8,
   "id": "5552d72e",
   "metadata": {},
   "outputs": [],
   "source": [
    "match_df['winner'].fillna(value='Undecided',inplace=True)"
   ]
  },
  {
   "cell_type": "code",
   "execution_count": 9,
   "id": "ff6bc4c5",
   "metadata": {},
   "outputs": [
    {
     "data": {
      "text/plain": [
       "id                  0\n",
       "city               13\n",
       "date                0\n",
       "player_of_match     4\n",
       "venue               0\n",
       "neutral_venue       0\n",
       "team1               0\n",
       "team2               0\n",
       "toss_winner         0\n",
       "toss_decision       0\n",
       "winner              0\n",
       "result              0\n",
       "result_margin      17\n",
       "eliminator          4\n",
       "method              0\n",
       "umpire1             0\n",
       "umpire2             0\n",
       "dtype: int64"
      ]
     },
     "execution_count": 9,
     "metadata": {},
     "output_type": "execute_result"
    }
   ],
   "source": [
    "match_df.isna().sum()"
   ]
  },
  {
   "cell_type": "code",
   "execution_count": 10,
   "id": "4744a64d",
   "metadata": {},
   "outputs": [
    {
     "data": {
      "text/plain": [
       "str"
      ]
     },
     "execution_count": 10,
     "metadata": {},
     "output_type": "execute_result"
    }
   ],
   "source": [
    "type(match_df['date'][0])"
   ]
  },
  {
   "cell_type": "code",
   "execution_count": 11,
   "id": "99bd0ee0",
   "metadata": {},
   "outputs": [],
   "source": [
    "year_of_match = match_df['date']\n",
    "list_year = []\n",
    "for x in year_of_match:\n",
    "    list_year.append(x[:4])\n",
    "    \n",
    "\n",
    "match_df['year'] = list_year"
   ]
  },
  {
   "cell_type": "code",
   "execution_count": 12,
   "id": "2635cdce",
   "metadata": {},
   "outputs": [
    {
     "data": {
      "text/plain": [
       "(816, 18)"
      ]
     },
     "execution_count": 12,
     "metadata": {},
     "output_type": "execute_result"
    }
   ],
   "source": [
    "match_df.shape"
   ]
  },
  {
   "cell_type": "markdown",
   "id": "95d44e46",
   "metadata": {},
   "source": [
    "### Drawing insights from data and plotting visualisations"
   ]
  },
  {
   "cell_type": "markdown",
   "id": "2800f82f",
   "metadata": {},
   "source": [
    "#### Team and there points (2008)"
   ]
  },
  {
   "cell_type": "code",
   "execution_count": 13,
   "id": "874b9667",
   "metadata": {},
   "outputs": [],
   "source": [
    "def calc_points(match_df):\n",
    "    if(match_df['result'] == 'tie'):\n",
    "        return 1\n",
    "    if(match_df['result'] == 'Undecided'):\n",
    "        return 1\n",
    "    else:\n",
    "        return 2"
   ]
  },
  {
   "cell_type": "code",
   "execution_count": 14,
   "id": "864e2977",
   "metadata": {},
   "outputs": [],
   "source": [
    "match_df['points'] = match_df.apply(calc_points,axis = 1)"
   ]
  },
  {
   "cell_type": "code",
   "execution_count": 15,
   "id": "5702687c",
   "metadata": {},
   "outputs": [],
   "source": [
    "teams_of_2008 = match_df[match_df['year'] == '2008']"
   ]
  },
  {
   "cell_type": "code",
   "execution_count": 16,
   "id": "e126b636",
   "metadata": {},
   "outputs": [
    {
     "data": {
      "text/plain": [
       "array(['Royal Challengers Bangalore', 'Kings XI Punjab',\n",
       "       'Delhi Daredevils', 'Mumbai Indians', 'Kolkata Knight Riders',\n",
       "       'Rajasthan Royals', 'Deccan Chargers', 'Chennai Super Kings'],\n",
       "      dtype=object)"
      ]
     },
     "execution_count": 16,
     "metadata": {},
     "output_type": "execute_result"
    }
   ],
   "source": [
    "teams_of_2008['team1'].unique()"
   ]
  },
  {
   "cell_type": "markdown",
   "id": "380f937b",
   "metadata": {},
   "source": [
    "As we can observe from the data that the results that in ipl 2008 , there were total 8 teams who participated in the tournament, and slowly as the ipl started becoming more famous and in the coming years more new teams were introduced"
   ]
  },
  {
   "cell_type": "code",
   "execution_count": 17,
   "id": "570bfa52",
   "metadata": {},
   "outputs": [
    {
     "data": {
      "text/html": [
       "<div>\n",
       "<style scoped>\n",
       "    .dataframe tbody tr th:only-of-type {\n",
       "        vertical-align: middle;\n",
       "    }\n",
       "\n",
       "    .dataframe tbody tr th {\n",
       "        vertical-align: top;\n",
       "    }\n",
       "\n",
       "    .dataframe thead th {\n",
       "        text-align: right;\n",
       "    }\n",
       "</style>\n",
       "<table border=\"1\" class=\"dataframe\">\n",
       "  <thead>\n",
       "    <tr style=\"text-align: right;\">\n",
       "      <th></th>\n",
       "      <th>Teams</th>\n",
       "      <th>Points</th>\n",
       "    </tr>\n",
       "  </thead>\n",
       "  <tbody>\n",
       "    <tr>\n",
       "      <th>6</th>\n",
       "      <td>Rajasthan Royals</td>\n",
       "      <td>26</td>\n",
       "    </tr>\n",
       "    <tr>\n",
       "      <th>3</th>\n",
       "      <td>Kings XI Punjab</td>\n",
       "      <td>20</td>\n",
       "    </tr>\n",
       "    <tr>\n",
       "      <th>0</th>\n",
       "      <td>Chennai Super Kings</td>\n",
       "      <td>18</td>\n",
       "    </tr>\n",
       "    <tr>\n",
       "      <th>2</th>\n",
       "      <td>Delhi Daredevils</td>\n",
       "      <td>14</td>\n",
       "    </tr>\n",
       "    <tr>\n",
       "      <th>5</th>\n",
       "      <td>Mumbai Indians</td>\n",
       "      <td>14</td>\n",
       "    </tr>\n",
       "    <tr>\n",
       "      <th>4</th>\n",
       "      <td>Kolkata Knight Riders</td>\n",
       "      <td>12</td>\n",
       "    </tr>\n",
       "    <tr>\n",
       "      <th>7</th>\n",
       "      <td>Royal Challengers Bangalore</td>\n",
       "      <td>8</td>\n",
       "    </tr>\n",
       "    <tr>\n",
       "      <th>1</th>\n",
       "      <td>Deccan Chargers</td>\n",
       "      <td>4</td>\n",
       "    </tr>\n",
       "  </tbody>\n",
       "</table>\n",
       "</div>"
      ],
      "text/plain": [
       "                         Teams  Points\n",
       "6             Rajasthan Royals      26\n",
       "3              Kings XI Punjab      20\n",
       "0          Chennai Super Kings      18\n",
       "2             Delhi Daredevils      14\n",
       "5               Mumbai Indians      14\n",
       "4        Kolkata Knight Riders      12\n",
       "7  Royal Challengers Bangalore       8\n",
       "1              Deccan Chargers       4"
      ]
     },
     "execution_count": 17,
     "metadata": {},
     "output_type": "execute_result"
    }
   ],
   "source": [
    "points_table = teams_of_2008.groupby(['winner']).sum().reset_index()[['winner','points']].rename(columns={'winner':'Teams','points':'Points'})\n",
    "points_table.sort_values('Points',inplace=True,ascending = False)\n",
    "points_table"
   ]
  },
  {
   "cell_type": "markdown",
   "id": "000faedd",
   "metadata": {},
   "source": [
    "#### Total matches played by all teams"
   ]
  },
  {
   "cell_type": "code",
   "execution_count": 18,
   "id": "85f3fa1a",
   "metadata": {},
   "outputs": [],
   "source": [
    "total_match = (teams_of_2008.groupby(['team1']).count() + teams_of_2008.groupby(['team2']).count())"
   ]
  },
  {
   "cell_type": "code",
   "execution_count": 19,
   "id": "21985332",
   "metadata": {},
   "outputs": [],
   "source": [
    "total_match.drop(['team1','team2'],axis=1,inplace=True)"
   ]
  },
  {
   "cell_type": "code",
   "execution_count": 20,
   "id": "909971ca",
   "metadata": {},
   "outputs": [
    {
     "data": {
      "text/html": [
       "<div>\n",
       "<style scoped>\n",
       "    .dataframe tbody tr th:only-of-type {\n",
       "        vertical-align: middle;\n",
       "    }\n",
       "\n",
       "    .dataframe tbody tr th {\n",
       "        vertical-align: top;\n",
       "    }\n",
       "\n",
       "    .dataframe thead th {\n",
       "        text-align: right;\n",
       "    }\n",
       "</style>\n",
       "<table border=\"1\" class=\"dataframe\">\n",
       "  <thead>\n",
       "    <tr style=\"text-align: right;\">\n",
       "      <th></th>\n",
       "      <th>Teams</th>\n",
       "      <th>Matches Played</th>\n",
       "    </tr>\n",
       "  </thead>\n",
       "  <tbody>\n",
       "    <tr>\n",
       "      <th>0</th>\n",
       "      <td>Chennai Super Kings</td>\n",
       "      <td>16</td>\n",
       "    </tr>\n",
       "    <tr>\n",
       "      <th>1</th>\n",
       "      <td>Deccan Chargers</td>\n",
       "      <td>14</td>\n",
       "    </tr>\n",
       "    <tr>\n",
       "      <th>2</th>\n",
       "      <td>Delhi Daredevils</td>\n",
       "      <td>14</td>\n",
       "    </tr>\n",
       "    <tr>\n",
       "      <th>3</th>\n",
       "      <td>Kings XI Punjab</td>\n",
       "      <td>15</td>\n",
       "    </tr>\n",
       "    <tr>\n",
       "      <th>4</th>\n",
       "      <td>Kolkata Knight Riders</td>\n",
       "      <td>13</td>\n",
       "    </tr>\n",
       "    <tr>\n",
       "      <th>5</th>\n",
       "      <td>Mumbai Indians</td>\n",
       "      <td>14</td>\n",
       "    </tr>\n",
       "    <tr>\n",
       "      <th>6</th>\n",
       "      <td>Rajasthan Royals</td>\n",
       "      <td>16</td>\n",
       "    </tr>\n",
       "    <tr>\n",
       "      <th>7</th>\n",
       "      <td>Royal Challengers Bangalore</td>\n",
       "      <td>14</td>\n",
       "    </tr>\n",
       "  </tbody>\n",
       "</table>\n",
       "</div>"
      ],
      "text/plain": [
       "                         Teams  Matches Played\n",
       "0          Chennai Super Kings              16\n",
       "1              Deccan Chargers              14\n",
       "2             Delhi Daredevils              14\n",
       "3              Kings XI Punjab              15\n",
       "4        Kolkata Knight Riders              13\n",
       "5               Mumbai Indians              14\n",
       "6             Rajasthan Royals              16\n",
       "7  Royal Challengers Bangalore              14"
      ]
     },
     "execution_count": 20,
     "metadata": {},
     "output_type": "execute_result"
    }
   ],
   "source": [
    "total_match.reset_index(inplace=True)\n",
    "total_match[['team1','result']].rename(columns={'team1':'Teams','result':'Matches Played'})"
   ]
  },
  {
   "cell_type": "markdown",
   "id": "efd88ffd",
   "metadata": {},
   "source": [
    "### Most man of the match(2008)"
   ]
  },
  {
   "cell_type": "code",
   "execution_count": 21,
   "id": "d74f0e3c",
   "metadata": {},
   "outputs": [
    {
     "data": {
      "text/plain": [
       "<AxesSubplot:xlabel='player_of_match', ylabel='count'>"
      ]
     },
     "execution_count": 21,
     "metadata": {},
     "output_type": "execute_result"
    },
    {
     "data": {
      "image/png": "[encoded data removed]",
      "text/plain": [
       "<Figure size 1600x640 with 1 Axes>"
      ]
     },
     "metadata": {
      "needs_background": "light"
     },
     "output_type": "display_data"
    }
   ],
   "source": [
    "plt.figure(figsize=(20, 8), dpi=80)\n",
    "plt.xticks(rotation = 90)\n",
    "g = sns.countplot(x='player_of_match', data = teams_of_2008)\n",
    "g"
   ]
  },
  {
   "cell_type": "markdown",
   "id": "d2fc88e9",
   "metadata": {},
   "source": [
    "From the above graph we can see Shaun Marsh had a good season and he was awarded man of the match for 5 times , by this we can also make a good assumption that shawn marsh may have been one of the top contender for most run scorer."
   ]
  },
  {
   "cell_type": "markdown",
   "id": "bf35bf27",
   "metadata": {},
   "source": [
    "### Toss affecting the match result (Team Wise)"
   ]
  },
  {
   "cell_type": "markdown",
   "id": "2254122c",
   "metadata": {},
   "source": [
    "Here we are checking for, does a team win a game if they win the toss "
   ]
  },
  {
   "cell_type": "code",
   "execution_count": 22,
   "id": "39a2855e",
   "metadata": {},
   "outputs": [],
   "source": [
    "toss_and_match_win = match_df[match_df['toss_winner'] == match_df['winner']]"
   ]
  },
  {
   "cell_type": "code",
   "execution_count": 23,
   "id": "06ec2b2e",
   "metadata": {},
   "outputs": [
    {
     "name": "stdout",
     "output_type": "stream",
     "text": [
      "51.23%\n"
     ]
    }
   ],
   "source": [
    "win_percnt = (toss_and_match_win['id'].count()/match_df['id'].count())*100\n",
    "print('{wp:.2f}%'.format(wp = win_percnt))"
   ]
  },
  {
   "cell_type": "markdown",
   "id": "f8bf1eb0",
   "metadata": {},
   "source": [
    "From above calculation we can come to an conclusion that, there are more than 50% chance of winning a match if a team wins a toss , which definitely makes sense, because before the match starts, both the teams take a close look at the pitch conditions and also observing the previous match result, team already decides, if they win the toss whether they will ball first or bat first.  "
   ]
  },
  {
   "cell_type": "code",
   "execution_count": 24,
   "id": "7d6c1ba7",
   "metadata": {},
   "outputs": [],
   "source": [
    "kkr = match_df[match_df['toss_winner'] == 'Kolkata Knight Riders']"
   ]
  },
  {
   "cell_type": "code",
   "execution_count": 25,
   "id": "065f51b8",
   "metadata": {},
   "outputs": [
    {
     "data": {
      "text/plain": [
       "<AxesSubplot:xlabel='winner', ylabel='count'>"
      ]
     },
     "execution_count": 25,
     "metadata": {},
     "output_type": "execute_result"
    },
    {
     "data": {
      "image/png": "[encoded data removed]",
      "text/plain": [
       "<Figure size 432x288 with 1 Axes>"
      ]
     },
     "metadata": {
      "needs_background": "light"
     },
     "output_type": "display_data"
    }
   ],
   "source": [
    "plt.xticks(rotation = 90)\n",
    "sns.countplot(x='winner',data = kkr)"
   ]
  },
  {
   "cell_type": "code",
   "execution_count": 26,
   "id": "947763ab",
   "metadata": {},
   "outputs": [],
   "source": [
    "csk = match_df[match_df['toss_winner'] == 'Chennai Super Kings']"
   ]
  },
  {
   "cell_type": "code",
   "execution_count": 27,
   "id": "13a9b879",
   "metadata": {},
   "outputs": [
    {
     "data": {
      "text/plain": [
       "<AxesSubplot:xlabel='winner', ylabel='count'>"
      ]
     },
     "execution_count": 27,
     "metadata": {},
     "output_type": "execute_result"
    },
    {
     "data": {
      "image/png": "[encoded data removed]",
      "text/plain": [
       "<Figure size 432x288 with 1 Axes>"
      ]
     },
     "metadata": {
      "needs_background": "light"
     },
     "output_type": "display_data"
    }
   ],
   "source": [
    "plt.xticks(rotation = 90)\n",
    "sns.countplot(x='winner',data = csk)"
   ]
  },
  {
   "cell_type": "code",
   "execution_count": 28,
   "id": "67c74d8b",
   "metadata": {},
   "outputs": [],
   "source": [
    "rcb = match_df[match_df['toss_winner'] == 'Royal Challengers Bangalore']"
   ]
  },
  {
   "cell_type": "code",
   "execution_count": 29,
   "id": "5935ead6",
   "metadata": {},
   "outputs": [
    {
     "data": {
      "text/plain": [
       "<AxesSubplot:xlabel='winner', ylabel='count'>"
      ]
     },
     "execution_count": 29,
     "metadata": {},
     "output_type": "execute_result"
    },
    {
     "data": {
      "image/png": "[encoded data removed]",
      "text/plain": [
       "<Figure size 432x288 with 1 Axes>"
      ]
     },
     "metadata": {
      "needs_background": "light"
     },
     "output_type": "display_data"
    }
   ],
   "source": [
    "plt.xticks(rotation = 90)\n",
    "sns.countplot(x='winner',data = rcb)"
   ]
  },
  {
   "cell_type": "markdown",
   "id": "e68eb459",
   "metadata": {},
   "source": [
    "We previously obtained a result, that there are more than 50% chance for a team to win the match who will win the toss, and by plotting the above three graphs for teams Chennai Super King, Kolkata Knight Riders and Royal Challengers Bangalore , we can cleary prove our calculations"
   ]
  },
  {
   "cell_type": "markdown",
   "id": "62b37f32",
   "metadata": {},
   "source": [
    "### Home Advantage for team (Teams playing at there home)"
   ]
  },
  {
   "cell_type": "code",
   "execution_count": 30,
   "id": "bf2e1b3d",
   "metadata": {},
   "outputs": [
    {
     "data": {
      "text/plain": [
       "array(['Royal Challengers Bangalore', 'Kings XI Punjab',\n",
       "       'Delhi Daredevils', 'Mumbai Indians', 'Kolkata Knight Riders',\n",
       "       'Rajasthan Royals', 'Deccan Chargers', 'Chennai Super Kings',\n",
       "       'Kochi Tuskers Kerala', 'Pune Warriors', 'Sunrisers Hyderabad',\n",
       "       'Gujarat Lions', 'Rising Pune Supergiants',\n",
       "       'Rising Pune Supergiant', 'Delhi Capitals'], dtype=object)"
      ]
     },
     "execution_count": 30,
     "metadata": {},
     "output_type": "execute_result"
    }
   ],
   "source": [
    "match_df['team1'].unique()"
   ]
  },
  {
   "cell_type": "code",
   "execution_count": 31,
   "id": "55ab5ed1",
   "metadata": {},
   "outputs": [],
   "source": [
    "home_match_data1 = match_df[match_df['neutral_venue'] == 0]\n",
    "home_match_data2 = home_match_data1[(home_match_data1['city'] != 'Dubai')]\n",
    "home_match_data2 = home_match_data2[home_match_data2['city'] != 'Sharjah']\n",
    "home_match_data2 = home_match_data2[home_match_data2['city'] != 'Abu Dhabi']\n",
    "home_match_data2 = home_match_data2[home_match_data2['winner'] != 'Undecided']"
   ]
  },
  {
   "cell_type": "code",
   "execution_count": 32,
   "id": "03945468",
   "metadata": {},
   "outputs": [],
   "source": [
    "def win(home_match_data2):\n",
    "    if(home_match_data2['winner'] == 'Royal Challengers Bangalore'):\n",
    "        return 'Bangalore'\n",
    "    if(home_match_data2['winner'] == 'Kings XI Punjab'):\n",
    "        return 'Punjab'\n",
    "    if(home_match_data2['winner'] == 'Delhi Daredevils'):\n",
    "        return 'Delhi'\n",
    "    if(home_match_data2['winner'] == 'Delhi Capitals'):\n",
    "        return 'Delhi'\n",
    "    if(home_match_data2['winner'] == 'Mumbai Indians'):\n",
    "        return 'Mumbai'\n",
    "    if(home_match_data2['winner'] == 'Kolkata Knight Riders'):\n",
    "        return 'Kolkata'\n",
    "    if(home_match_data2['winner'] == 'Rajasthan Royals'):\n",
    "        return 'Rajasthan'\n",
    "    if(home_match_data2['winner'] == 'Deccan Chargers'):\n",
    "        return 'Deccan'\n",
    "    if(home_match_data2['winner'] == 'Chennai Super Kings'):\n",
    "        return 'Chennai'\n",
    "    if(home_match_data2['winner'] == 'Kochi Tuskers Kerala'):\n",
    "        return 'Kerala'\n",
    "    if(home_match_data2['winner'] == 'Pune Warriors'):\n",
    "        return 'Pune'\n",
    "    if(home_match_data2['winner'] == 'Sunrisers Hyderabad'):\n",
    "        return 'Hyderabad'\n",
    "    if(home_match_data2['winner'] == 'Gujarat Lions'):\n",
    "        return 'Gujarat'\n",
    "    if(home_match_data2['winner'] == 'Rising Pune Supergiants'):\n",
    "        return 'Pune'\n",
    "    if(home_match_data2['winner'] == 'Rising Pune Supergiant'):\n",
    "        return 'Pune'"
   ]
  },
  {
   "cell_type": "code",
   "execution_count": 33,
   "id": "7388ba52",
   "metadata": {},
   "outputs": [],
   "source": [
    "home_match_data2['win'] = home_match_data2.apply(win,axis = 1)"
   ]
  },
  {
   "cell_type": "code",
   "execution_count": 34,
   "id": "52231032",
   "metadata": {},
   "outputs": [],
   "source": [
    "def assign_city(home_match_data2):\n",
    "    if(home_match_data2['city'] == 'Cuttack'):\n",
    "        if(home_match_data2['team1'] == 'Deccan Chargers' and ((home_match_data2['team2'] != 'Kings XI Punjab') \n",
    "           and (home_match_data2['team2'] != 'Kolkata Knight Riders'))):\n",
    "            return 'Deccan'\n",
    "        if(home_match_data2['team1'] == 'Kings XI Punjab' and ((home_match_data2['team2'] != 'Deccan Chargers') \n",
    "           and (home_match_data2['team2'] != 'Kolkata Knight Riders'))):\n",
    "            return 'Punjab'\n",
    "        if(home_match_data2['team1'] == 'Kolkata Knight Riders' and ((home_match_data2['team2'] != 'Deccan Chargers') \n",
    "           and (home_match_data2['team2'] != 'Kings XI Punjab'))):\n",
    "            return 'Kolkata'\n",
    "        if(home_match_data2['team2'] == 'Deccan Chargers' and ((home_match_data2['team1'] != 'Kings XI Punjab') \n",
    "           and (home_match_data2['team1'] != 'Kolkata Knight Riders'))):\n",
    "            return 'Deccan'\n",
    "        if(home_match_data2['team2'] == 'Kings XI Punjab' and ((home_match_data2['team1'] != 'Deccan Chargers') \n",
    "           and (home_match_data2['team1'] != 'Kolkata Knight Riders'))):\n",
    "            return 'Punjab'\n",
    "        if(home_match_data2['team2'] == 'Kolkata Knight Riders' and ((home_match_data2['team1'] != 'Deccan Chargers') \n",
    "           and (home_match_data2['team1'] != 'Kings XI Punjab'))):\n",
    "            return 'Kolkata'\n",
    "        if((home_match_data2['team1'] == 'Kolkata Knight Riders' or home_match_data2['team1'] == 'Deccan Chargers' or\n",
    "           home_match_data2['team1'] == 'Kings XI Punjab') and (home_match_data2['team2'] == 'Kolkata Knight Riders' \n",
    "           or home_match_data2['team2'] == 'Deccan Chargers' or home_match_data2['team2'] == 'Kings XI Punjab')):\n",
    "            return home_match_data2['win']\n",
    "        \n",
    "    if(home_match_data2['city'] == 'Hyderabad'):\n",
    "        if(home_match_data2['team1'] == 'Deccan Chargers' and (home_match_data2['team2'] != 'Sunrisers Hyderabad')):\n",
    "            return 'Deccan'\n",
    "        if(home_match_data2['team1'] == 'Sunrisers Hyderabad' and (home_match_data2['team2'] != 'Deccan Chargers')):\n",
    "            return 'Hyderabad'\n",
    "        if(home_match_data2['team2'] == 'Deccan Chargers' and (home_match_data2['team1'] != 'Sunrisers Hyderabad')):\n",
    "            return 'Deccan'\n",
    "        if(home_match_data2['team2'] == 'Sunrisers Hyderabad' and (home_match_data2['team1'] != 'Deccan Chargers')):\n",
    "            return 'Hyderabad'\n",
    "        if((home_match_data2['team1'] == 'Sunrisers Hyderabad' or home_match_data2['team1'] == 'Deccan Chargers') \n",
    "           and (home_match_data2['team2'] == 'Deccan Chargers' or home_match_data2['team2'] == 'Sunrisers Hyderabad')):\n",
    "            return home_match_data2['win']\n",
    "        if((home_match_data2['team1'] != 'Sunrisers Hyderabad' or home_match_data2['team1'] != 'Deccan Chargers') \n",
    "           and (home_match_data2['team2'] != 'Deccan Chargers' or home_match_data2['team2'] != 'Sunrisers Hyderabad')):\n",
    "            return 'Out Of Home'\n",
    "        \n",
    "    if(home_match_data2['city'] == 'Indore'):\n",
    "        if(home_match_data2['team1'] == 'Kochi Tuskers Kerala' and (home_match_data2['team2'] != 'Kings XI Punjab')):\n",
    "            return 'Kerala'\n",
    "        if(home_match_data2['team1'] == 'Kings XI Punjab' and (home_match_data2['team2'] != 'Kochi Tuskers Kerala')):\n",
    "            return 'Punjab'\n",
    "        if(home_match_data2['team2'] == 'Kings XI Punjab' and (home_match_data2['team1'] != 'Kochi Tuskers Kerala')):\n",
    "            return 'Punjab'\n",
    "        if(home_match_data2['team2'] == 'Kochi Tuskers Kerala' and (home_match_data2['team1'] != 'Kings XI Punjab')):\n",
    "            return 'Kerala'\n",
    "        if((home_match_data2['team1'] == 'Kochi Tuskers Kerala' or home_match_data2['team1'] == 'Kings XI Punjab') \n",
    "           and (home_match_data2['team2'] == 'Kings XI Punjab' or home_match_data2['team2'] == 'Kochi Tuskers Kerala')):\n",
    "            return home_match_data2['win']\n",
    "        \n",
    "    if(home_match_data2['city'] == 'Visakhapatnam'):\n",
    "        if(home_match_data2['team1'] == 'Deccan Chargers' and ((home_match_data2['team2'] != 'Sunrisers Hyderabad') \n",
    "           and (home_match_data2['team2'] != 'Mumbai Indians') and (home_match_data2['team2'] != 'Rising Pune Supergiants')\n",
    "           and (home_match_data2['team2'] != 'Rising Pune Supergiant'))):\n",
    "            return 'Deccan'\n",
    "        if(home_match_data2['team1'] == 'Sunrisers Hyderabad' and ((home_match_data2['team2'] != 'Deccan Chargers') \n",
    "           and (home_match_data2['team2'] != 'Mumbai Indians') and (home_match_data2['team2'] != 'Rising Pune Supergiants')\n",
    "           and (home_match_data2['team2'] != 'Rising Pune Supergiant'))):\n",
    "            return 'Hyderabad'\n",
    "        if(home_match_data2['team1'] == 'Mumbai Indians' and ((home_match_data2['team2'] != 'Deccan Chargers') \n",
    "           and (home_match_data2['team2'] != 'Sunrisers Hyderabad') and (home_match_data2['team2'] != 'Rising Pune Supergiants')\n",
    "           and (home_match_data2['team2'] != 'Rising Pune Supergiant'))):\n",
    "            return 'Mumbai'\n",
    "        if(home_match_data2['team1'] == 'Rising Pune Supergiants' and ((home_match_data2['team2'] != 'Deccan Chargers') \n",
    "           and (home_match_data2['team2'] != 'Sunrisers Hyderabad') and (home_match_data2['team2'] != 'Mumbai Indians')\n",
    "           and (home_match_data2['team2'] != 'Rising Pune Supergiant'))):\n",
    "            return 'Pune'\n",
    "        if(home_match_data2['team1'] == 'Rising Pune Supergiant' and ((home_match_data2['team2'] != 'Deccan Chargers') \n",
    "           and (home_match_data2['team2'] != 'Sunrisers Hyderabad') and (home_match_data2['team2'] != 'Mumbai Indians')\n",
    "           and (home_match_data2['team2'] != 'Rising Pune Supergiants'))):\n",
    "            return 'Pune'\n",
    "        if(home_match_data2['team2'] == 'Rising Pune Supergiant' and ((home_match_data2['team1'] != 'Deccan Chargers') \n",
    "           and (home_match_data2['team1'] != 'Sunrisers Hyderabad') and (home_match_data2['team1'] != 'Mumbai Indians')\n",
    "           and (home_match_data2['team1'] != 'Rising Pune Supergiants'))):\n",
    "            return 'Pune'  \n",
    "        if(home_match_data2['team2'] == 'Rising Pune Supergiants' and ((home_match_data2['team1'] != 'Deccan Chargers') \n",
    "           and (home_match_data2['team1'] != 'Sunrisers Hyderabad') and (home_match_data2['team1'] != 'Mumbai Indians')\n",
    "           and (home_match_data2['team1'] != 'Rising Pune Supergiant'))):\n",
    "            return 'Pune'\n",
    "        if(home_match_data2['team2'] == 'Mumbai Indians' and ((home_match_data2['team1'] != 'Deccan Chargers') \n",
    "           and (home_match_data2['team1'] != 'Sunrisers Hyderabad') and (home_match_data2['team1'] != 'Rising Pune Supergiants')\n",
    "           and (home_match_data2['team1'] != 'Rising Pune Supergiant'))):\n",
    "            return 'Mumbai'\n",
    "        if(home_match_data2['team2'] == 'Sunrisers Hyderabad' and ((home_match_data2['team1'] != 'Deccan Chargers') \n",
    "           and (home_match_data2['team1'] != 'Mumbai Indians') and (home_match_data2['team1'] != 'Rising Pune Supergiants')\n",
    "           and (home_match_data2['team1'] != 'Rising Pune Supergiant'))):\n",
    "            return 'Hyderabad'\n",
    "        if(home_match_data2['team2'] == 'Deccan Chargers' and ((home_match_data2['team1'] != 'Sunrisers Hyderabad') \n",
    "           and (home_match_data2['team1'] != 'Mumbai Indians') and (home_match_data2['team1'] != 'Rising Pune Supergiants')\n",
    "           and (home_match_data2['team1'] != 'Rising Pune Supergiant'))):\n",
    "            return 'Deccan'   \n",
    "        if((home_match_data2['team1'] == 'Sunrisers Hyderabad' or home_match_data2['team1'] == 'Deccan Chargers' or\n",
    "           home_match_data2['team1'] == 'Mumbai Indians' or home_match_data2['team1'] == 'Rising Pune Supergiants'\n",
    "           or home_match_data2['team1'] == 'Rising Pune Supergiant') and (home_match_data2['team2'] == 'Sunrisers Hyderabad' \n",
    "           or home_match_data2['team2'] == 'Deccan Chargers' or home_match_data2['team2'] == 'Mumbai Indians' or \n",
    "           home_match_data2['team2'] == 'Rising Pune Supergiants' or home_match_data2['team2'] == 'Rising Pune Supergiant')):\n",
    "            return home_match_data2['win']\n",
    "        if((home_match_data2['team1'] != 'Sunrisers Hyderabad' or home_match_data2['team1'] != 'Deccan Chargers' or\n",
    "           home_match_data2['team1'] != 'Mumbai Indians' or home_match_data2['team1'] != 'Rising Pune Supergiants'\n",
    "           or home_match_data2['team1'] != 'Rising Pune Supergiant') and (home_match_data2['team2'] != 'Sunrisers Hyderabad' \n",
    "           or home_match_data2['team2'] != 'Deccan Chargers' or home_match_data2['team2'] != 'Mumbai Indians' or \n",
    "           home_match_data2['team2'] != 'Rising Pune Supergiants' or home_match_data2['team2'] != 'Rising Pune Supergiant')):\n",
    "            return 'Out Of Home'\n",
    "        \n",
    "    if(home_match_data2['city'] == 'Pune'):\n",
    "        if(home_match_data2['team1'] == 'Pune Warriors' and ((home_match_data2['team2'] != 'Kings XI Punjab') \n",
    "           and (home_match_data2['team2'] != 'Chennai Super Kings') and (home_match_data2['team2'] != 'Rising Pune Supergiants')\n",
    "           and (home_match_data2['team2'] != 'Rising Pune Supergiant'))):\n",
    "            return 'Pune'\n",
    "        if(home_match_data2['team1'] == 'Kings XI Punjab' and ((home_match_data2['team2'] != 'Pune Warriors') \n",
    "           and (home_match_data2['team2'] != 'Chennai Super Kings') and (home_match_data2['team2'] != 'Rising Pune Supergiants')\n",
    "           and (home_match_data2['team2'] != 'Rising Pune Supergiant'))):\n",
    "            return 'Hyderabad'\n",
    "        if(home_match_data2['team1'] == 'Chennai Super Kings' and ((home_match_data2['team2'] != 'Kings XI Punjab') \n",
    "           and (home_match_data2['team2'] != 'Pune Warriors') and (home_match_data2['team2'] != 'Rising Pune Supergiants')\n",
    "           and (home_match_data2['team2'] != 'Rising Pune Supergiant'))):\n",
    "            return 'Mumbai'\n",
    "        if(home_match_data2['team1'] == 'Rising Pune Supergiants' and ((home_match_data2['team2'] != 'Chennai Super Kings') \n",
    "           and (home_match_data2['team2'] != 'Kings XI Punjab') and (home_match_data2['team2'] != 'Pune Warriors')\n",
    "           and (home_match_data2['team2'] != 'Rising Pune Supergiant'))):\n",
    "            return 'Pune'\n",
    "        if(home_match_data2['team1'] == 'Rising Pune Supergiant' and ((home_match_data2['team2'] != 'Chennai Super Kings') \n",
    "           and (home_match_data2['team2'] != 'Kings XI Punjab') and (home_match_data2['team2'] != 'Pune Warriors')\n",
    "           and (home_match_data2['team2'] != 'Rising Pune Supergiants'))):\n",
    "            return 'Pune'\n",
    "        if(home_match_data2['team2'] == 'Rising Pune Supergiant' and ((home_match_data2['team1'] != 'Chennai Super Kings') \n",
    "           and (home_match_data2['team1'] != 'Kings XI Punjab') and (home_match_data2['team1'] != 'Pune Warriors')\n",
    "           and (home_match_data2['team1'] != 'Rising Pune Supergiants'))):\n",
    "            return 'Pune'  \n",
    "        if(home_match_data2['team2'] == 'Rising Pune Supergiants' and ((home_match_data2['team1'] != 'Chennai Super Kings') \n",
    "           and (home_match_data2['team1'] != 'Kings XI Punjab') and (home_match_data2['team1'] != 'Pune Warriors')\n",
    "           and (home_match_data2['team1'] != 'Rising Pune Supergiant'))):\n",
    "            return 'Pune'\n",
    "        if(home_match_data2['team2'] == 'Chennai Super Kings' and ((home_match_data2['team1'] != 'Rising Pune Supergiants') \n",
    "           and (home_match_data2['team1'] != 'Kings XI Punjab') and (home_match_data2['team1'] != 'Pune Warriors')\n",
    "           and (home_match_data2['team1'] != 'Rising Pune Supergiant'))):\n",
    "            return 'Chennai'\n",
    "        if(home_match_data2['team2'] == 'Kings XI Punjab' and ((home_match_data2['team1'] != 'Chennai Super Kings') \n",
    "           and (home_match_data2['team1'] != 'Pune Warriors') and (home_match_data2['team1'] != 'Rising Pune Supergiants')\n",
    "           and (home_match_data2['team1'] != 'Rising Pune Supergiant'))):\n",
    "            return 'Punjab'\n",
    "        if(home_match_data2['team2'] == 'Pune Warriors' and ((home_match_data2['team1'] != 'Kings XI Punjab') \n",
    "           and (home_match_data2['team1'] != 'Chennai Super Kings') and (home_match_data2['team1'] != 'Rising Pune Supergiants')\n",
    "           and (home_match_data2['team1'] != 'Rising Pune Supergiant'))):\n",
    "            return 'Pune'   \n",
    "        if((home_match_data2['team1'] == 'Pune Warriors' or home_match_data2['team1'] == 'Kings XI Punjab' or\n",
    "           home_match_data2['team1'] == 'Chennai Super Kings' or home_match_data2['team1'] == 'Rising Pune Supergiants'\n",
    "           or home_match_data2['team1'] == 'Rising Pune Supergiant') and (home_match_data2['team2'] == 'Pune Warriors' \n",
    "           or home_match_data2['team2'] == 'Kings XI Punjab' or home_match_data2['team2'] == 'Chennai Super Kings' or \n",
    "           home_match_data2['team2'] == 'Rising Pune Supergiants' or home_match_data2['team2'] == 'Rising Pune Supergiant')):\n",
    "            return home_match_data2['win']\n",
    "        if((home_match_data2['team1'] != 'Pune Warriors' or home_match_data2['team1'] != 'Kings XI Punjab' or\n",
    "           home_match_data2['team1'] != 'Chennai Super Kings' or home_match_data2['team1'] != 'Rising Pune Supergiants'\n",
    "           or home_match_data2['team1'] != 'Rising Pune Supergiant') and (home_match_data2['team2'] != 'Pune Warriors' \n",
    "           or home_match_data2['team2'] != 'Kings XI Punjab' or home_match_data2['team2'] != 'Chennai Super Kings' or \n",
    "           home_match_data2['team2'] != 'Rising Pune Supergiants' or home_match_data2['team2'] != 'Rising Pune Supergiant')):\n",
    "            return 'Out Of Home'\n",
    "           \n",
    "    if(home_match_data2['city'] == 'Ranchi'):\n",
    "        if(home_match_data2['team1'] == 'Chennai Super Kings' and (home_match_data2['team2'] != 'Kolkata Knight Riders')):\n",
    "            return 'Chennai'\n",
    "        if(home_match_data2['team1'] == 'Kolkata Knight Riders' and (home_match_data2['team2'] != 'Chennai Super Kings')):\n",
    "            return 'Kolkata'\n",
    "        if(home_match_data2['team2'] == 'Chennai Super Kings' and (home_match_data2['team1'] != 'Kolkata Knight Riders')):\n",
    "            return 'Chennai'\n",
    "        if(home_match_data2['team2'] == 'Kolkata Knight Riders' and (home_match_data2['team1'] != 'Chennai Super Kings')):\n",
    "            return 'Kolkata'\n",
    "        if((home_match_data2['team1'] == 'Chennai Super Kings' or home_match_data2['team1'] == 'Kolkata Knight Riders') \n",
    "           and (home_match_data2['team2'] == 'Kolkata Knight Riders' or home_match_data2['team2'] == 'Chennai Super Kings')):\n",
    "            return home_match_data2['win']       \n",
    "               \n",
    "    if(home_match_data2['city'] == 'Chandigarh'or home_match_data2['city'] =='Dharamsala'):\n",
    "        return 'Punjab'\n",
    "    if(home_match_data2['city'] =='Delhi' or home_match_data2['city'] =='Raipur'):\n",
    "        return 'Delhi'\n",
    "    if(home_match_data2['city'] =='Bangalore' or home_match_data2['city'] =='Bengaluru'):\n",
    "        return 'Bangalore'\n",
    "    if(home_match_data2['city'] == 'Kolkata'):\n",
    "        return 'Kolkata'\n",
    "    if(home_match_data2['city'] == 'Chennai'):\n",
    "        return 'Chennai'\n",
    "    if(home_match_data2['city'] == 'Mumbai'):\n",
    "        return 'Mumbai'\n",
    "    if(home_match_data2['city'] == 'Ahmedabad' or home_match_data2['city'] == 'Jaipur'):\n",
    "        return 'Rajasthan'\n",
    "    if(home_match_data2['city'] == 'Kochi'):\n",
    "        return 'Kochi'\n",
    "    if(home_match_data2['city'] == 'Nagpur'):\n",
    "        return 'Deccan'\n",
    "    if(home_match_data2['city'] == 'Kanpur' or home_match_data2['city'] == 'Rajkot'):\n",
    "        return 'Gujarat'"
   ]
  },
  {
   "cell_type": "code",
   "execution_count": 35,
   "id": "b5f558ec",
   "metadata": {},
   "outputs": [],
   "source": [
    "home_match_data2['city_copy'] = home_match_data2.apply(assign_city,axis=1)"
   ]
  },
  {
   "cell_type": "code",
   "execution_count": 36,
   "id": "2083a1a6",
   "metadata": {},
   "outputs": [],
   "source": [
    "pd.set_option('display.max_columns', None)\n",
    "pd.set_option('display.max_rows', None)"
   ]
  },
  {
   "cell_type": "code",
   "execution_count": 37,
   "id": "fe0d6a7f",
   "metadata": {},
   "outputs": [],
   "source": [
    "kkr = home_match_data2[home_match_data2['city_copy'] == 'Kolkata']"
   ]
  },
  {
   "cell_type": "code",
   "execution_count": 38,
   "id": "ff5102d8",
   "metadata": {},
   "outputs": [
    {
     "data": {
      "text/plain": [
       "<AxesSubplot:xlabel='Teams', ylabel='Total Wins'>"
      ]
     },
     "execution_count": 38,
     "metadata": {},
     "output_type": "execute_result"
    },
    {
     "data": {
      "image/png": "[encoded data removed]",
      "text/plain": [
       "<Figure size 800x400 with 1 Axes>"
      ]
     },
     "metadata": {
      "needs_background": "light"
     },
     "output_type": "display_data"
    }
   ],
   "source": [
    "plt.figure(figsize=(10, 5), dpi=80)\n",
    "plt.xticks(rotation = 90)\n",
    "g = sns.countplot(x='win',data=kkr)\n",
    "plt.xlabel('Teams')\n",
    "plt.ylabel('Total Wins')\n",
    "g.yaxis.set_major_locator(plt.MultipleLocator(10))\n",
    "g"
   ]
  },
  {
   "cell_type": "code",
   "execution_count": 39,
   "id": "12f7cd2d",
   "metadata": {},
   "outputs": [],
   "source": [
    "pjb = kkr = home_match_data2[home_match_data2['city_copy'] == 'Punjab']"
   ]
  },
  {
   "cell_type": "code",
   "execution_count": 40,
   "id": "45d50275",
   "metadata": {},
   "outputs": [
    {
     "data": {
      "text/plain": [
       "<AxesSubplot:xlabel='Teams', ylabel='Total Wins'>"
      ]
     },
     "execution_count": 40,
     "metadata": {},
     "output_type": "execute_result"
    },
    {
     "data": {
      "image/png": "[encoded data removed]",
      "text/plain": [
       "<Figure size 800x400 with 1 Axes>"
      ]
     },
     "metadata": {
      "needs_background": "light"
     },
     "output_type": "display_data"
    }
   ],
   "source": [
    "plt.figure(figsize=(10, 5), dpi=80)\n",
    "plt.xticks(rotation = 90)\n",
    "g = sns.countplot(x='win',data=pjb)\n",
    "plt.xlabel('Teams')\n",
    "plt.ylabel('Total Wins')\n",
    "g.yaxis.set_major_locator(plt.MultipleLocator(10))\n",
    "g"
   ]
  },
  {
   "cell_type": "markdown",
   "id": "30f2ad05",
   "metadata": {},
   "source": [
    "It can be clearly observed from the above two graphs, that teams playing at there home has clear advantage as there win ratio increases a lot and it clearly makes sense as the team know well about there ground and pitch conditions and this leads to team winning more matches at there home."
   ]
  },
  {
   "cell_type": "markdown",
   "id": "76dfa5e6",
   "metadata": {},
   "source": [
    "### Toss favouring team percentage"
   ]
  },
  {
   "cell_type": "markdown",
   "id": "b9522851",
   "metadata": {},
   "source": [
    "#### We are checking for the teams who wins most tosses:"
   ]
  },
  {
   "cell_type": "code",
   "execution_count": 41,
   "id": "199219ea",
   "metadata": {},
   "outputs": [],
   "source": [
    "toss_win_count = match_df.groupby(['toss_winner']).count().reset_index()"
   ]
  },
  {
   "cell_type": "code",
   "execution_count": 42,
   "id": "74b2e5cb",
   "metadata": {},
   "outputs": [
    {
     "data": {
      "text/plain": [
       "<AxesSubplot:xlabel='Teams', ylabel='Toss Counts'>"
      ]
     },
     "execution_count": 42,
     "metadata": {},
     "output_type": "execute_result"
    },
    {
     "data": {
      "image/png": "[encoded data removed]",
      "text/plain": [
       "<Figure size 800x400 with 1 Axes>"
      ]
     },
     "metadata": {
      "needs_background": "light"
     },
     "output_type": "display_data"
    }
   ],
   "source": [
    "plt.figure(figsize=(10, 5), dpi=80)\n",
    "plt.xticks(rotation = 90)\n",
    "g = sns.barplot(x='toss_winner',y='id',data=toss_win_count)\n",
    "plt.xlabel('Teams')\n",
    "plt.ylabel('Toss Counts')\n",
    "g"
   ]
  },
  {
   "cell_type": "markdown",
   "id": "a2d1775f",
   "metadata": {},
   "source": [
    "We can see from the bar-graph that, Mumbai Indians are in the top of winning most of the tosses, and also there are teams like CSK, KKR are almost same as MI , so we can say that they also have good toss win ratio"
   ]
  },
  {
   "cell_type": "markdown",
   "id": "d698d0b8",
   "metadata": {},
   "source": [
    "### Ipl winners (year - wise)"
   ]
  },
  {
   "cell_type": "code",
   "execution_count": 43,
   "id": "f1c34249",
   "metadata": {},
   "outputs": [],
   "source": [
    "## Seperating month and date , from the column (date) in \"match_df\" data-frame and creating new columns for months and dates\n",
    "\n",
    "def mths(x):\n",
    "    return x.split('-')[1]\n",
    "\n",
    "match_df['month'] = match_df['date'].apply(mths)\n",
    "\n",
    "def dts(x):\n",
    "    return x.split('-')[2]\n",
    "\n",
    "match_df['only_date'] = match_df['date'].apply(dts)"
   ]
  },
  {
   "cell_type": "code",
   "execution_count": 44,
   "id": "a9fbf273",
   "metadata": {},
   "outputs": [
    {
     "data": {
      "text/html": [
       "<div>\n",
       "<style scoped>\n",
       "    .dataframe tbody tr th:only-of-type {\n",
       "        vertical-align: middle;\n",
       "    }\n",
       "\n",
       "    .dataframe tbody tr th {\n",
       "        vertical-align: top;\n",
       "    }\n",
       "\n",
       "    .dataframe thead th {\n",
       "        text-align: right;\n",
       "    }\n",
       "</style>\n",
       "<table border=\"1\" class=\"dataframe\">\n",
       "  <thead>\n",
       "    <tr style=\"text-align: right;\">\n",
       "      <th></th>\n",
       "      <th>id</th>\n",
       "      <th>city</th>\n",
       "      <th>date</th>\n",
       "      <th>player_of_match</th>\n",
       "      <th>venue</th>\n",
       "      <th>neutral_venue</th>\n",
       "      <th>team1</th>\n",
       "      <th>team2</th>\n",
       "      <th>toss_winner</th>\n",
       "      <th>toss_decision</th>\n",
       "      <th>winner</th>\n",
       "      <th>result</th>\n",
       "      <th>result_margin</th>\n",
       "      <th>eliminator</th>\n",
       "      <th>method</th>\n",
       "      <th>umpire1</th>\n",
       "      <th>umpire2</th>\n",
       "      <th>year</th>\n",
       "      <th>points</th>\n",
       "      <th>month</th>\n",
       "      <th>only_date</th>\n",
       "    </tr>\n",
       "  </thead>\n",
       "  <tbody>\n",
       "    <tr>\n",
       "      <th>0</th>\n",
       "      <td>335982</td>\n",
       "      <td>Bangalore</td>\n",
       "      <td>2008-04-18</td>\n",
       "      <td>BB McCullum</td>\n",
       "      <td>M Chinnaswamy Stadium</td>\n",
       "      <td>0</td>\n",
       "      <td>Royal Challengers Bangalore</td>\n",
       "      <td>Kolkata Knight Riders</td>\n",
       "      <td>Royal Challengers Bangalore</td>\n",
       "      <td>field</td>\n",
       "      <td>Kolkata Knight Riders</td>\n",
       "      <td>runs</td>\n",
       "      <td>140.0</td>\n",
       "      <td>N</td>\n",
       "      <td>No</td>\n",
       "      <td>Asad Rauf</td>\n",
       "      <td>RE Koertzen</td>\n",
       "      <td>2008</td>\n",
       "      <td>2</td>\n",
       "      <td>04</td>\n",
       "      <td>18</td>\n",
       "    </tr>\n",
       "    <tr>\n",
       "      <th>1</th>\n",
       "      <td>335983</td>\n",
       "      <td>Chandigarh</td>\n",
       "      <td>2008-04-19</td>\n",
       "      <td>MEK Hussey</td>\n",
       "      <td>Punjab Cricket Association Stadium, Mohali</td>\n",
       "      <td>0</td>\n",
       "      <td>Kings XI Punjab</td>\n",
       "      <td>Chennai Super Kings</td>\n",
       "      <td>Chennai Super Kings</td>\n",
       "      <td>bat</td>\n",
       "      <td>Chennai Super Kings</td>\n",
       "      <td>runs</td>\n",
       "      <td>33.0</td>\n",
       "      <td>N</td>\n",
       "      <td>No</td>\n",
       "      <td>MR Benson</td>\n",
       "      <td>SL Shastri</td>\n",
       "      <td>2008</td>\n",
       "      <td>2</td>\n",
       "      <td>04</td>\n",
       "      <td>19</td>\n",
       "    </tr>\n",
       "    <tr>\n",
       "      <th>2</th>\n",
       "      <td>335984</td>\n",
       "      <td>Delhi</td>\n",
       "      <td>2008-04-19</td>\n",
       "      <td>MF Maharoof</td>\n",
       "      <td>Feroz Shah Kotla</td>\n",
       "      <td>0</td>\n",
       "      <td>Delhi Daredevils</td>\n",
       "      <td>Rajasthan Royals</td>\n",
       "      <td>Rajasthan Royals</td>\n",
       "      <td>bat</td>\n",
       "      <td>Delhi Daredevils</td>\n",
       "      <td>wickets</td>\n",
       "      <td>9.0</td>\n",
       "      <td>N</td>\n",
       "      <td>No</td>\n",
       "      <td>Aleem Dar</td>\n",
       "      <td>GA Pratapkumar</td>\n",
       "      <td>2008</td>\n",
       "      <td>2</td>\n",
       "      <td>04</td>\n",
       "      <td>19</td>\n",
       "    </tr>\n",
       "    <tr>\n",
       "      <th>3</th>\n",
       "      <td>335985</td>\n",
       "      <td>Mumbai</td>\n",
       "      <td>2008-04-20</td>\n",
       "      <td>MV Boucher</td>\n",
       "      <td>Wankhede Stadium</td>\n",
       "      <td>0</td>\n",
       "      <td>Mumbai Indians</td>\n",
       "      <td>Royal Challengers Bangalore</td>\n",
       "      <td>Mumbai Indians</td>\n",
       "      <td>bat</td>\n",
       "      <td>Royal Challengers Bangalore</td>\n",
       "      <td>wickets</td>\n",
       "      <td>5.0</td>\n",
       "      <td>N</td>\n",
       "      <td>No</td>\n",
       "      <td>SJ Davis</td>\n",
       "      <td>DJ Harper</td>\n",
       "      <td>2008</td>\n",
       "      <td>2</td>\n",
       "      <td>04</td>\n",
       "      <td>20</td>\n",
       "    </tr>\n",
       "    <tr>\n",
       "      <th>4</th>\n",
       "      <td>335986</td>\n",
       "      <td>Kolkata</td>\n",
       "      <td>2008-04-20</td>\n",
       "      <td>DJ Hussey</td>\n",
       "      <td>Eden Gardens</td>\n",
       "      <td>0</td>\n",
       "      <td>Kolkata Knight Riders</td>\n",
       "      <td>Deccan Chargers</td>\n",
       "      <td>Deccan Chargers</td>\n",
       "      <td>bat</td>\n",
       "      <td>Kolkata Knight Riders</td>\n",
       "      <td>wickets</td>\n",
       "      <td>5.0</td>\n",
       "      <td>N</td>\n",
       "      <td>No</td>\n",
       "      <td>BF Bowden</td>\n",
       "      <td>K Hariharan</td>\n",
       "      <td>2008</td>\n",
       "      <td>2</td>\n",
       "      <td>04</td>\n",
       "      <td>20</td>\n",
       "    </tr>\n",
       "  </tbody>\n",
       "</table>\n",
       "</div>"
      ],
      "text/plain": [
       "       id        city        date player_of_match  \\\n",
       "0  335982   Bangalore  2008-04-18     BB McCullum   \n",
       "1  335983  Chandigarh  2008-04-19      MEK Hussey   \n",
       "2  335984       Delhi  2008-04-19     MF Maharoof   \n",
       "3  335985      Mumbai  2008-04-20      MV Boucher   \n",
       "4  335986     Kolkata  2008-04-20       DJ Hussey   \n",
       "\n",
       "                                        venue  neutral_venue  \\\n",
       "0                       M Chinnaswamy Stadium              0   \n",
       "1  Punjab Cricket Association Stadium, Mohali              0   \n",
       "2                            Feroz Shah Kotla              0   \n",
       "3                            Wankhede Stadium              0   \n",
       "4                                Eden Gardens              0   \n",
       "\n",
       "                         team1                        team2  \\\n",
       "0  Royal Challengers Bangalore        Kolkata Knight Riders   \n",
       "1              Kings XI Punjab          Chennai Super Kings   \n",
       "2             Delhi Daredevils             Rajasthan Royals   \n",
       "3               Mumbai Indians  Royal Challengers Bangalore   \n",
       "4        Kolkata Knight Riders              Deccan Chargers   \n",
       "\n",
       "                   toss_winner toss_decision                       winner  \\\n",
       "0  Royal Challengers Bangalore         field        Kolkata Knight Riders   \n",
       "1          Chennai Super Kings           bat          Chennai Super Kings   \n",
       "2             Rajasthan Royals           bat             Delhi Daredevils   \n",
       "3               Mumbai Indians           bat  Royal Challengers Bangalore   \n",
       "4              Deccan Chargers           bat        Kolkata Knight Riders   \n",
       "\n",
       "    result  result_margin eliminator method    umpire1         umpire2  year  \\\n",
       "0     runs          140.0          N     No  Asad Rauf     RE Koertzen  2008   \n",
       "1     runs           33.0          N     No  MR Benson      SL Shastri  2008   \n",
       "2  wickets            9.0          N     No  Aleem Dar  GA Pratapkumar  2008   \n",
       "3  wickets            5.0          N     No   SJ Davis       DJ Harper  2008   \n",
       "4  wickets            5.0          N     No  BF Bowden     K Hariharan  2008   \n",
       "\n",
       "   points month only_date  \n",
       "0       2    04        18  \n",
       "1       2    04        19  \n",
       "2       2    04        19  \n",
       "3       2    04        20  \n",
       "4       2    04        20  "
      ]
     },
     "execution_count": 44,
     "metadata": {},
     "output_type": "execute_result"
    }
   ],
   "source": [
    "match_df.head()"
   ]
  },
  {
   "cell_type": "code",
   "execution_count": 45,
   "id": "9b1c18c8",
   "metadata": {},
   "outputs": [
    {
     "data": {
      "text/plain": [
       "array(['2008', '2009', '2010', '2011', '2012', '2013', '2014', '2015',\n",
       "       '2016', '2017', '2018', '2019', '2020'], dtype=object)"
      ]
     },
     "execution_count": 45,
     "metadata": {},
     "output_type": "execute_result"
    }
   ],
   "source": [
    "match_df['year'].unique()"
   ]
  },
  {
   "cell_type": "code",
   "execution_count": 46,
   "id": "4041370b",
   "metadata": {},
   "outputs": [
    {
     "data": {
      "text/html": [
       "<div>\n",
       "<style scoped>\n",
       "    .dataframe tbody tr th:only-of-type {\n",
       "        vertical-align: middle;\n",
       "    }\n",
       "\n",
       "    .dataframe tbody tr th {\n",
       "        vertical-align: top;\n",
       "    }\n",
       "\n",
       "    .dataframe thead th {\n",
       "        text-align: right;\n",
       "    }\n",
       "</style>\n",
       "<table border=\"1\" class=\"dataframe\">\n",
       "  <thead>\n",
       "    <tr style=\"text-align: right;\">\n",
       "      <th></th>\n",
       "      <th>year</th>\n",
       "      <th>winner</th>\n",
       "    </tr>\n",
       "  </thead>\n",
       "  <tbody>\n",
       "    <tr>\n",
       "      <th>0</th>\n",
       "      <td>2008</td>\n",
       "      <td>Rajasthan Royals</td>\n",
       "    </tr>\n",
       "    <tr>\n",
       "      <th>1</th>\n",
       "      <td>2009</td>\n",
       "      <td>Deccan Chargers</td>\n",
       "    </tr>\n",
       "    <tr>\n",
       "      <th>2</th>\n",
       "      <td>2010</td>\n",
       "      <td>Chennai Super Kings</td>\n",
       "    </tr>\n",
       "    <tr>\n",
       "      <th>3</th>\n",
       "      <td>2011</td>\n",
       "      <td>Chennai Super Kings</td>\n",
       "    </tr>\n",
       "    <tr>\n",
       "      <th>4</th>\n",
       "      <td>2012</td>\n",
       "      <td>Kolkata Knight Riders</td>\n",
       "    </tr>\n",
       "    <tr>\n",
       "      <th>5</th>\n",
       "      <td>2013</td>\n",
       "      <td>Mumbai Indians</td>\n",
       "    </tr>\n",
       "    <tr>\n",
       "      <th>6</th>\n",
       "      <td>2014</td>\n",
       "      <td>Kolkata Knight Riders</td>\n",
       "    </tr>\n",
       "    <tr>\n",
       "      <th>7</th>\n",
       "      <td>2015</td>\n",
       "      <td>Mumbai Indians</td>\n",
       "    </tr>\n",
       "    <tr>\n",
       "      <th>8</th>\n",
       "      <td>2016</td>\n",
       "      <td>Sunrisers Hyderabad</td>\n",
       "    </tr>\n",
       "    <tr>\n",
       "      <th>9</th>\n",
       "      <td>2017</td>\n",
       "      <td>Mumbai Indians</td>\n",
       "    </tr>\n",
       "    <tr>\n",
       "      <th>10</th>\n",
       "      <td>2018</td>\n",
       "      <td>Chennai Super Kings</td>\n",
       "    </tr>\n",
       "    <tr>\n",
       "      <th>11</th>\n",
       "      <td>2019</td>\n",
       "      <td>Mumbai Indians</td>\n",
       "    </tr>\n",
       "    <tr>\n",
       "      <th>12</th>\n",
       "      <td>2020</td>\n",
       "      <td>Mumbai Indians</td>\n",
       "    </tr>\n",
       "  </tbody>\n",
       "</table>\n",
       "</div>"
      ],
      "text/plain": [
       "    year                 winner\n",
       "0   2008       Rajasthan Royals\n",
       "1   2009        Deccan Chargers\n",
       "2   2010    Chennai Super Kings\n",
       "3   2011    Chennai Super Kings\n",
       "4   2012  Kolkata Knight Riders\n",
       "5   2013         Mumbai Indians\n",
       "6   2014  Kolkata Knight Riders\n",
       "7   2015         Mumbai Indians\n",
       "8   2016    Sunrisers Hyderabad\n",
       "9   2017         Mumbai Indians\n",
       "10  2018    Chennai Super Kings\n",
       "11  2019         Mumbai Indians\n",
       "12  2020         Mumbai Indians"
      ]
     },
     "execution_count": 46,
     "metadata": {},
     "output_type": "execute_result"
    }
   ],
   "source": [
    "match_df['month'] = match_df['month'].astype(int)\n",
    "match_df['only_date'] = match_df['only_date'].astype(int)\n",
    "\n",
    "df_2008 = match_df[match_df['year'] == '2008'].sort_values(['month','date'],ascending=False).iloc[0][['year','winner']].to_frame()\n",
    "df_2009 = match_df[match_df['year'] == '2009'].sort_values(['month','date'],ascending=False).iloc[0][['year','winner']].to_frame()\n",
    "df_2010 = match_df[match_df['year'] == '2010'].sort_values(['month','date'],ascending=False).iloc[0][['year','winner']].to_frame()\n",
    "df_2011 = match_df[match_df['year'] == '2011'].sort_values(['month','date'],ascending=False).iloc[0][['year','winner']].to_frame()\n",
    "df_2012 = match_df[match_df['year'] == '2012'].sort_values(['month','date'],ascending=False).iloc[0][['year','winner']].to_frame()\n",
    "df_2013 = match_df[match_df['year'] == '2013'].sort_values(['month','date'],ascending=False).iloc[0][['year','winner']].to_frame()\n",
    "df_2014 = match_df[match_df['year'] == '2014'].sort_values(['month','date'],ascending=False).iloc[0][['year','winner']].to_frame()\n",
    "df_2015 = match_df[match_df['year'] == '2015'].sort_values(['month','date'],ascending=False).iloc[0][['year','winner']].to_frame()\n",
    "df_2016 = match_df[match_df['year'] == '2016'].sort_values(['month','date'],ascending=False).iloc[0][['year','winner']].to_frame()\n",
    "df_2017 = match_df[match_df['year'] == '2017'].sort_values(['month','date'],ascending=False).iloc[0][['year','winner']].to_frame()\n",
    "df_2018 = match_df[match_df['year'] == '2018'].sort_values(['month','date'],ascending=False).iloc[0][['year','winner']].to_frame()\n",
    "df_2019 = match_df[match_df['year'] == '2019'].sort_values(['month','date'],ascending=False).iloc[0][['year','winner']].to_frame()\n",
    "df_2020 = match_df[match_df['year'] == '2020'].sort_values(['month','date'],ascending=False).iloc[0][['year','winner']].to_frame()\n",
    "\n",
    "combining_data = pd.concat([df_2008,df_2009,df_2010,df_2011,df_2012,df_2013,df_2014,\n",
    "                          df_2015,df_2016,df_2017,df_2018,df_2019,df_2020],axis = 1)\n",
    "ipl_winners = combining_data.transpose()\n",
    "ipl_winners = ipl_winners.reset_index(drop=True)\n",
    "ipl_winners\n",
    "# print(ipl_winners.to_string(index=False))"
   ]
  },
  {
   "cell_type": "markdown",
   "id": "5f5d9007",
   "metadata": {},
   "source": [
    "From the above table we can see the winners of ipl in the respective years, and we can also see MI has won it for most numbers of times and at second spot we have CSK with most title wins. i.e (3)"
   ]
  },
  {
   "cell_type": "markdown",
   "id": "4d8b77df",
   "metadata": {},
   "source": [
    "### Rain affecting game"
   ]
  },
  {
   "cell_type": "code",
   "execution_count": 47,
   "id": "3163b429",
   "metadata": {},
   "outputs": [],
   "source": [
    "rain_disturb_play = match_df.groupby(['method']).count().reset_index()['id']"
   ]
  },
  {
   "cell_type": "code",
   "execution_count": 48,
   "id": "98b9ff88",
   "metadata": {},
   "outputs": [
    {
     "data": {
      "image/png": "[encoded data removed]",
      "text/plain": [
       "<Figure size 800x800 with 1 Axes>"
      ]
     },
     "metadata": {},
     "output_type": "display_data"
    }
   ],
   "source": [
    "plt.figure(figsize=(10,10), dpi=80)\n",
    "label = ['D/L','No Method']\n",
    "color =['#43d3e0','#e63235']\n",
    "\n",
    "method,txt,per = plt.pie(rain_disturb_play, labels=label, autopct='%1.0f%%',colors=color,pctdistance=0.8, labeldistance=1.1)\n",
    "plt.legend(method,label, bbox_to_anchor=(0.6,0.9), loc=\"center right\", fontsize=10, \n",
    "           bbox_transform=plt.gcf().transFigure)\n",
    "plt.subplots_adjust(left=0.0, bottom=0.5, right=0.6)"
   ]
  },
  {
   "cell_type": "markdown",
   "id": "69bd8fae",
   "metadata": {},
   "source": [
    "What is Duckworth-Lewis?\n",
    "\n",
    "Duckworth-Lewis is based on the idea of compensating rain-affected teams for the loss of \"run-scoring resources\". The D/L method works on the basis that teams have two resources to make runs with: the number of overs to be bowled and the number of wickets in hand"
   ]
  },
  {
   "cell_type": "markdown",
   "id": "be5a0e86",
   "metadata": {},
   "source": [
    "We can clearly observe from the above pie-chart, there were only 2 percent of games that had to be decided using DuckWorth-Lewis method "
   ]
  },
  {
   "cell_type": "markdown",
   "id": "98a17cde",
   "metadata": {},
   "source": [
    "## Reading the new data (Ball-by-Ball Analysis)"
   ]
  },
  {
   "cell_type": "code",
   "execution_count": 49,
   "id": "68d734f2",
   "metadata": {},
   "outputs": [],
   "source": [
    "complete_match_df = pd.read_csv(r'D:\\ipl data set\\IPL Ball-by-Ball 2008-2020.csv')"
   ]
  },
  {
   "cell_type": "code",
   "execution_count": 50,
   "id": "c018609d",
   "metadata": {},
   "outputs": [
    {
     "data": {
      "text/html": [
       "<div>\n",
       "<style scoped>\n",
       "    .dataframe tbody tr th:only-of-type {\n",
       "        vertical-align: middle;\n",
       "    }\n",
       "\n",
       "    .dataframe tbody tr th {\n",
       "        vertical-align: top;\n",
       "    }\n",
       "\n",
       "    .dataframe thead th {\n",
       "        text-align: right;\n",
       "    }\n",
       "</style>\n",
       "<table border=\"1\" class=\"dataframe\">\n",
       "  <thead>\n",
       "    <tr style=\"text-align: right;\">\n",
       "      <th></th>\n",
       "      <th>id</th>\n",
       "      <th>inning</th>\n",
       "      <th>over</th>\n",
       "      <th>ball</th>\n",
       "      <th>batsman</th>\n",
       "      <th>non_striker</th>\n",
       "      <th>bowler</th>\n",
       "      <th>batsman_runs</th>\n",
       "      <th>extra_runs</th>\n",
       "      <th>total_runs</th>\n",
       "      <th>non_boundary</th>\n",
       "      <th>is_wicket</th>\n",
       "      <th>dismissal_kind</th>\n",
       "      <th>player_dismissed</th>\n",
       "      <th>fielder</th>\n",
       "      <th>extras_type</th>\n",
       "      <th>batting_team</th>\n",
       "      <th>bowling_team</th>\n",
       "    </tr>\n",
       "  </thead>\n",
       "  <tbody>\n",
       "    <tr>\n",
       "      <th>0</th>\n",
       "      <td>335982</td>\n",
       "      <td>1</td>\n",
       "      <td>6</td>\n",
       "      <td>5</td>\n",
       "      <td>RT Ponting</td>\n",
       "      <td>BB McCullum</td>\n",
       "      <td>AA Noffke</td>\n",
       "      <td>1</td>\n",
       "      <td>0</td>\n",
       "      <td>1</td>\n",
       "      <td>0</td>\n",
       "      <td>0</td>\n",
       "      <td>NaN</td>\n",
       "      <td>NaN</td>\n",
       "      <td>NaN</td>\n",
       "      <td>NaN</td>\n",
       "      <td>Kolkata Knight Riders</td>\n",
       "      <td>Royal Challengers Bangalore</td>\n",
       "    </tr>\n",
       "    <tr>\n",
       "      <th>1</th>\n",
       "      <td>335982</td>\n",
       "      <td>1</td>\n",
       "      <td>6</td>\n",
       "      <td>6</td>\n",
       "      <td>BB McCullum</td>\n",
       "      <td>RT Ponting</td>\n",
       "      <td>AA Noffke</td>\n",
       "      <td>1</td>\n",
       "      <td>0</td>\n",
       "      <td>1</td>\n",
       "      <td>0</td>\n",
       "      <td>0</td>\n",
       "      <td>NaN</td>\n",
       "      <td>NaN</td>\n",
       "      <td>NaN</td>\n",
       "      <td>NaN</td>\n",
       "      <td>Kolkata Knight Riders</td>\n",
       "      <td>Royal Challengers Bangalore</td>\n",
       "    </tr>\n",
       "    <tr>\n",
       "      <th>2</th>\n",
       "      <td>335982</td>\n",
       "      <td>1</td>\n",
       "      <td>7</td>\n",
       "      <td>1</td>\n",
       "      <td>BB McCullum</td>\n",
       "      <td>RT Ponting</td>\n",
       "      <td>Z Khan</td>\n",
       "      <td>0</td>\n",
       "      <td>0</td>\n",
       "      <td>0</td>\n",
       "      <td>0</td>\n",
       "      <td>0</td>\n",
       "      <td>NaN</td>\n",
       "      <td>NaN</td>\n",
       "      <td>NaN</td>\n",
       "      <td>NaN</td>\n",
       "      <td>Kolkata Knight Riders</td>\n",
       "      <td>Royal Challengers Bangalore</td>\n",
       "    </tr>\n",
       "    <tr>\n",
       "      <th>3</th>\n",
       "      <td>335982</td>\n",
       "      <td>1</td>\n",
       "      <td>7</td>\n",
       "      <td>2</td>\n",
       "      <td>BB McCullum</td>\n",
       "      <td>RT Ponting</td>\n",
       "      <td>Z Khan</td>\n",
       "      <td>1</td>\n",
       "      <td>0</td>\n",
       "      <td>1</td>\n",
       "      <td>0</td>\n",
       "      <td>0</td>\n",
       "      <td>NaN</td>\n",
       "      <td>NaN</td>\n",
       "      <td>NaN</td>\n",
       "      <td>NaN</td>\n",
       "      <td>Kolkata Knight Riders</td>\n",
       "      <td>Royal Challengers Bangalore</td>\n",
       "    </tr>\n",
       "    <tr>\n",
       "      <th>4</th>\n",
       "      <td>335982</td>\n",
       "      <td>1</td>\n",
       "      <td>7</td>\n",
       "      <td>3</td>\n",
       "      <td>RT Ponting</td>\n",
       "      <td>BB McCullum</td>\n",
       "      <td>Z Khan</td>\n",
       "      <td>1</td>\n",
       "      <td>0</td>\n",
       "      <td>1</td>\n",
       "      <td>0</td>\n",
       "      <td>0</td>\n",
       "      <td>NaN</td>\n",
       "      <td>NaN</td>\n",
       "      <td>NaN</td>\n",
       "      <td>NaN</td>\n",
       "      <td>Kolkata Knight Riders</td>\n",
       "      <td>Royal Challengers Bangalore</td>\n",
       "    </tr>\n",
       "  </tbody>\n",
       "</table>\n",
       "</div>"
      ],
      "text/plain": [
       "       id  inning  over  ball      batsman  non_striker     bowler  \\\n",
       "0  335982       1     6     5   RT Ponting  BB McCullum  AA Noffke   \n",
       "1  335982       1     6     6  BB McCullum   RT Ponting  AA Noffke   \n",
       "2  335982       1     7     1  BB McCullum   RT Ponting     Z Khan   \n",
       "3  335982       1     7     2  BB McCullum   RT Ponting     Z Khan   \n",
       "4  335982       1     7     3   RT Ponting  BB McCullum     Z Khan   \n",
       "\n",
       "   batsman_runs  extra_runs  total_runs  non_boundary  is_wicket  \\\n",
       "0             1           0           1             0          0   \n",
       "1             1           0           1             0          0   \n",
       "2             0           0           0             0          0   \n",
       "3             1           0           1             0          0   \n",
       "4             1           0           1             0          0   \n",
       "\n",
       "  dismissal_kind player_dismissed fielder extras_type           batting_team  \\\n",
       "0            NaN              NaN     NaN         NaN  Kolkata Knight Riders   \n",
       "1            NaN              NaN     NaN         NaN  Kolkata Knight Riders   \n",
       "2            NaN              NaN     NaN         NaN  Kolkata Knight Riders   \n",
       "3            NaN              NaN     NaN         NaN  Kolkata Knight Riders   \n",
       "4            NaN              NaN     NaN         NaN  Kolkata Knight Riders   \n",
       "\n",
       "                  bowling_team  \n",
       "0  Royal Challengers Bangalore  \n",
       "1  Royal Challengers Bangalore  \n",
       "2  Royal Challengers Bangalore  \n",
       "3  Royal Challengers Bangalore  \n",
       "4  Royal Challengers Bangalore  "
      ]
     },
     "execution_count": 50,
     "metadata": {},
     "output_type": "execute_result"
    }
   ],
   "source": [
    "complete_match_df.head()"
   ]
  },
  {
   "cell_type": "code",
   "execution_count": 51,
   "id": "e0a76679",
   "metadata": {},
   "outputs": [
    {
     "name": "stdout",
     "output_type": "stream",
     "text": [
      "<class 'pandas.core.frame.DataFrame'>\n",
      "RangeIndex: 193468 entries, 0 to 193467\n",
      "Data columns (total 18 columns):\n",
      " #   Column            Non-Null Count   Dtype \n",
      "---  ------            --------------   ----- \n",
      " 0   id                193468 non-null  int64 \n",
      " 1   inning            193468 non-null  int64 \n",
      " 2   over              193468 non-null  int64 \n",
      " 3   ball              193468 non-null  int64 \n",
      " 4   batsman           193468 non-null  object\n",
      " 5   non_striker       193468 non-null  object\n",
      " 6   bowler            193468 non-null  object\n",
      " 7   batsman_runs      193468 non-null  int64 \n",
      " 8   extra_runs        193468 non-null  int64 \n",
      " 9   total_runs        193468 non-null  int64 \n",
      " 10  non_boundary      193468 non-null  int64 \n",
      " 11  is_wicket         193468 non-null  int64 \n",
      " 12  dismissal_kind    9495 non-null    object\n",
      " 13  player_dismissed  9495 non-null    object\n",
      " 14  fielder           6784 non-null    object\n",
      " 15  extras_type       10233 non-null   object\n",
      " 16  batting_team      193468 non-null  object\n",
      " 17  bowling_team      193277 non-null  object\n",
      "dtypes: int64(9), object(9)\n",
      "memory usage: 26.6+ MB\n"
     ]
    }
   ],
   "source": [
    "complete_match_df.info()"
   ]
  },
  {
   "cell_type": "code",
   "execution_count": 52,
   "id": "177a0b29",
   "metadata": {},
   "outputs": [
    {
     "data": {
      "text/plain": [
       "id                       0\n",
       "inning                   0\n",
       "over                     0\n",
       "ball                     0\n",
       "batsman                  0\n",
       "non_striker              0\n",
       "bowler                   0\n",
       "batsman_runs             0\n",
       "extra_runs               0\n",
       "total_runs               0\n",
       "non_boundary             0\n",
       "is_wicket                0\n",
       "dismissal_kind      183973\n",
       "player_dismissed    183973\n",
       "fielder             186684\n",
       "extras_type         183235\n",
       "batting_team             0\n",
       "bowling_team           191\n",
       "dtype: int64"
      ]
     },
     "execution_count": 52,
     "metadata": {},
     "output_type": "execute_result"
    }
   ],
   "source": [
    "complete_match_df.isna().sum()"
   ]
  },
  {
   "cell_type": "code",
   "execution_count": 53,
   "id": "eae55f54",
   "metadata": {},
   "outputs": [],
   "source": [
    "## Merging two different dataframe:\n",
    "\n",
    "df2 = pd.merge(match_df,complete_match_df,how='inner',on='id') "
   ]
  },
  {
   "cell_type": "code",
   "execution_count": null,
   "id": "8e03ba22",
   "metadata": {},
   "outputs": [],
   "source": []
  },
  {
   "cell_type": "markdown",
   "id": "41f8c607",
   "metadata": {},
   "source": [
    "### Most sixes hit (year - wise) [New data set  used]"
   ]
  },
  {
   "cell_type": "code",
   "execution_count": 54,
   "id": "afd93f46",
   "metadata": {},
   "outputs": [],
   "source": [
    "sixes = df2[df2['batsman_runs'] == 6]"
   ]
  },
  {
   "cell_type": "code",
   "execution_count": 55,
   "id": "76eac829",
   "metadata": {},
   "outputs": [],
   "source": [
    "sixes_year_wise = sixes.groupby(['year']).count().reset_index()"
   ]
  },
  {
   "cell_type": "code",
   "execution_count": 56,
   "id": "ed4e7ebe",
   "metadata": {},
   "outputs": [
    {
     "data": {
      "text/plain": [
       "Text(0, 0.5, 'Nuumber Of Sixes')"
      ]
     },
     "execution_count": 56,
     "metadata": {},
     "output_type": "execute_result"
    },
    {
     "data": {
      "image/png": "[encoded data removed]",
      "text/plain": [
       "<Figure size 640x320 with 1 Axes>"
      ]
     },
     "metadata": {
      "needs_background": "light"
     },
     "output_type": "display_data"
    }
   ],
   "source": [
    "plt.figure(figsize=(8,4), dpi=80)\n",
    "plt.xticks(rotation = 90)\n",
    "mpl.rcParams.update(mpl.rcParamsDefault)\n",
    "sns.barplot(x='year', y='id', data=sixes_year_wise)\n",
    "plt.xlabel('Years')\n",
    "plt.ylabel('Nuumber Of Sixes')"
   ]
  },
  {
   "cell_type": "markdown",
   "id": "79abfc5b",
   "metadata": {},
   "source": [
    "The above graph shows that the most sixes hit, combining all the teams was in the year 2018 and no doubt ipl 2018 was one of the most entertaining year for all the ipl fans as all the matches were very intresting to watch and was packed with full of action"
   ]
  },
  {
   "cell_type": "markdown",
   "id": "970ae717",
   "metadata": {},
   "source": [
    "### Main reason for dismissal of the batsmen "
   ]
  },
  {
   "cell_type": "code",
   "execution_count": 57,
   "id": "8b98d9a1",
   "metadata": {},
   "outputs": [],
   "source": [
    "df = complete_match_df.dropna(subset=['dismissal_kind'])"
   ]
  },
  {
   "cell_type": "code",
   "execution_count": 58,
   "id": "c09a31e5",
   "metadata": {},
   "outputs": [],
   "source": [
    "dismissal_type = df.groupby(['dismissal_kind']).count().reset_index()"
   ]
  },
  {
   "cell_type": "code",
   "execution_count": 59,
   "id": "f384a10a",
   "metadata": {},
   "outputs": [
    {
     "data": {
      "text/plain": [
       "Text(0, 0.5, 'Total Count')"
      ]
     },
     "execution_count": 59,
     "metadata": {},
     "output_type": "execute_result"
    },
    {
     "data": {
      "image/png": "[encoded data removed]",
      "text/plain": [
       "<Figure size 640x480 with 1 Axes>"
      ]
     },
     "metadata": {},
     "output_type": "display_data"
    }
   ],
   "source": [
    "plt.xticks(rotation = 90)\n",
    "sns.barplot(x=dismissal_type['dismissal_kind'],y=dismissal_type['id'])\n",
    "plt.xlabel('Types of Dismissal')\n",
    "plt.ylabel('Total Count')"
   ]
  },
  {
   "cell_type": "markdown",
   "id": "0f7b5149",
   "metadata": {},
   "source": [
    "The above bar-graph clearly shows that majority of the dismissals in ipl tournament is due to catch out and the second highest is bowled"
   ]
  },
  {
   "cell_type": "markdown",
   "id": "2b7ddc68",
   "metadata": {},
   "source": [
    "### Bowler who dismissed a particular batmen for maximum number of times"
   ]
  },
  {
   "cell_type": "code",
   "execution_count": 60,
   "id": "a14ac984",
   "metadata": {},
   "outputs": [],
   "source": [
    "## We can use the below code to know which bowler has dismissed a particular batsmen for maximum number of times\n",
    "\n",
    "bowler = list(complete_match_df['bowler'].unique())\n",
    "\n",
    "bowler_and_wickets = {new_list: 0 for new_list in bowler}\n",
    "\n",
    "def dismissal_count(df2,batsmenname):\n",
    "    if((df2['player_dismissed'] == batsmenname) and (df2['is_wicket'] == 1)):\n",
    "        bowler_and_wickets['{b}'.format(b=df2['bowler'])] = bowler_and_wickets['{b}'.format(b=df2['bowler'])] + 1\n",
    "        \n",
    "df2.apply(dismissal_count, batsmenname='V Kohli',axis=1).head()   \n",
    "\n",
    "\n",
    "data_items = bowler_and_wickets.items()\n",
    "data_list = list(data_items)\n",
    "\n",
    "df = pd.DataFrame(data_list,columns=['Bowler','Dismissal'])\n",
    "dismissal_count = df.sort_values('Dismissal',ascending=False).head()"
   ]
  },
  {
   "cell_type": "code",
   "execution_count": 61,
   "id": "7e5a9d0e",
   "metadata": {},
   "outputs": [
    {
     "data": {
      "text/plain": [
       "Text(0, 0.5, 'Dismissal Count')"
      ]
     },
     "execution_count": 61,
     "metadata": {},
     "output_type": "execute_result"
    },
    {
     "data": {
      "image/png": "[encoded data removed]",
      "text/plain": [
       "<Figure size 640x320 with 1 Axes>"
      ]
     },
     "metadata": {},
     "output_type": "display_data"
    }
   ],
   "source": [
    "plt.figure(figsize=(8,4), dpi=80)\n",
    "plt.xticks(rotation = 90)\n",
    "sns.barplot(x='Bowler',y='Dismissal',data=dismissal_count.head())\n",
    "plt.xlabel('Bowler')\n",
    "plt.ylabel('Dismissal Count')"
   ]
  },
  {
   "cell_type": "markdown",
   "id": "860966fa",
   "metadata": {},
   "source": [
    "The above bar graph shows that V.Kholi is dismissed by Sandeep sharma for most number of times i.e (7), combinining all the ipl seasons. By this graph we can easily observe that V.Kholi needs to bat more cautiously against Sandeep Sharma and the bowling team can surely use Sandeep Sharma as one of the prominent bowler against V.Kholi"
   ]
  },
  {
   "cell_type": "markdown",
   "id": "0c5c817c",
   "metadata": {},
   "source": [
    "### Bowler with most number of wickets(year-wise)"
   ]
  },
  {
   "cell_type": "code",
   "execution_count": 62,
   "id": "70308fdf",
   "metadata": {},
   "outputs": [
    {
     "data": {
      "text/html": [
       "<div>\n",
       "<style scoped>\n",
       "    .dataframe tbody tr th:only-of-type {\n",
       "        vertical-align: middle;\n",
       "    }\n",
       "\n",
       "    .dataframe tbody tr th {\n",
       "        vertical-align: top;\n",
       "    }\n",
       "\n",
       "    .dataframe thead th {\n",
       "        text-align: right;\n",
       "    }\n",
       "</style>\n",
       "<table border=\"1\" class=\"dataframe\">\n",
       "  <thead>\n",
       "    <tr style=\"text-align: right;\">\n",
       "      <th></th>\n",
       "      <th>bowler</th>\n",
       "      <th>wickets</th>\n",
       "      <th>year</th>\n",
       "    </tr>\n",
       "  </thead>\n",
       "  <tbody>\n",
       "    <tr>\n",
       "      <th>0</th>\n",
       "      <td>Sohail Tanvir</td>\n",
       "      <td>22</td>\n",
       "      <td>2008</td>\n",
       "    </tr>\n",
       "    <tr>\n",
       "      <th>1</th>\n",
       "      <td>RP Singh</td>\n",
       "      <td>23</td>\n",
       "      <td>2009</td>\n",
       "    </tr>\n",
       "    <tr>\n",
       "      <th>2</th>\n",
       "      <td>PP Ojha</td>\n",
       "      <td>21</td>\n",
       "      <td>2010</td>\n",
       "    </tr>\n",
       "    <tr>\n",
       "      <th>3</th>\n",
       "      <td>SL Malinga</td>\n",
       "      <td>28</td>\n",
       "      <td>2011</td>\n",
       "    </tr>\n",
       "    <tr>\n",
       "      <th>4</th>\n",
       "      <td>M Morkel</td>\n",
       "      <td>25</td>\n",
       "      <td>2012</td>\n",
       "    </tr>\n",
       "    <tr>\n",
       "      <th>5</th>\n",
       "      <td>DJ Bravo</td>\n",
       "      <td>32</td>\n",
       "      <td>2013</td>\n",
       "    </tr>\n",
       "    <tr>\n",
       "      <th>6</th>\n",
       "      <td>MM Sharma</td>\n",
       "      <td>23</td>\n",
       "      <td>2014</td>\n",
       "    </tr>\n",
       "    <tr>\n",
       "      <th>7</th>\n",
       "      <td>DJ Bravo</td>\n",
       "      <td>26</td>\n",
       "      <td>2015</td>\n",
       "    </tr>\n",
       "    <tr>\n",
       "      <th>8</th>\n",
       "      <td>B Kumar</td>\n",
       "      <td>23</td>\n",
       "      <td>2016</td>\n",
       "    </tr>\n",
       "    <tr>\n",
       "      <th>9</th>\n",
       "      <td>B Kumar</td>\n",
       "      <td>26</td>\n",
       "      <td>2017</td>\n",
       "    </tr>\n",
       "    <tr>\n",
       "      <th>10</th>\n",
       "      <td>AJ Tye</td>\n",
       "      <td>24</td>\n",
       "      <td>2018</td>\n",
       "    </tr>\n",
       "    <tr>\n",
       "      <th>11</th>\n",
       "      <td>Imran Tahir</td>\n",
       "      <td>26</td>\n",
       "      <td>2019</td>\n",
       "    </tr>\n",
       "    <tr>\n",
       "      <th>12</th>\n",
       "      <td>K Rabada</td>\n",
       "      <td>30</td>\n",
       "      <td>2020</td>\n",
       "    </tr>\n",
       "  </tbody>\n",
       "</table>\n",
       "</div>"
      ],
      "text/plain": [
       "           bowler wickets  year\n",
       "0   Sohail Tanvir      22  2008\n",
       "1        RP Singh      23  2009\n",
       "2         PP Ojha      21  2010\n",
       "3      SL Malinga      28  2011\n",
       "4        M Morkel      25  2012\n",
       "5        DJ Bravo      32  2013\n",
       "6       MM Sharma      23  2014\n",
       "7        DJ Bravo      26  2015\n",
       "8         B Kumar      23  2016\n",
       "9         B Kumar      26  2017\n",
       "10         AJ Tye      24  2018\n",
       "11    Imran Tahir      26  2019\n",
       "12       K Rabada      30  2020"
      ]
     },
     "execution_count": 62,
     "metadata": {},
     "output_type": "execute_result"
    }
   ],
   "source": [
    "is_wicket = df2[(df2['is_wicket'] == 1) & (df2['dismissal_kind'] != 'run out')]\n",
    "most_wickets_year_wise = is_wicket.groupby(['year','bowler']).count().reset_index()\n",
    "\n",
    "df_2008 = most_wickets_year_wise[most_wickets_year_wise['year'] == '2008'].sort_values('id',ascending=False).iloc[0][['bowler','id','year']].to_frame()\n",
    "df_2009 = most_wickets_year_wise[most_wickets_year_wise['year'] == '2009'].sort_values('id',ascending=False).iloc[0][['bowler','id','year']].to_frame()\n",
    "df_2010 = most_wickets_year_wise[most_wickets_year_wise['year'] == '2010'].sort_values('id',ascending=False).iloc[0][['bowler','id','year']].to_frame()\n",
    "df_2011 = most_wickets_year_wise[most_wickets_year_wise['year'] == '2011'].sort_values('id',ascending=False).iloc[0][['bowler','id','year']].to_frame()\n",
    "df_2012 = most_wickets_year_wise[most_wickets_year_wise['year'] == '2012'].sort_values('id',ascending=False).iloc[0][['bowler','id','year']].to_frame()\n",
    "df_2013 = most_wickets_year_wise[most_wickets_year_wise['year'] == '2013'].sort_values('id',ascending=False).iloc[0][['bowler','id','year']].to_frame()\n",
    "df_2014 = most_wickets_year_wise[most_wickets_year_wise['year'] == '2014'].sort_values('id',ascending=False).iloc[0][['bowler','id','year']].to_frame()\n",
    "df_2015 = most_wickets_year_wise[most_wickets_year_wise['year'] == '2015'].sort_values('id',ascending=False).iloc[0][['bowler','id','year']].to_frame()\n",
    "df_2016 = most_wickets_year_wise[most_wickets_year_wise['year'] == '2016'].sort_values('id',ascending=False).iloc[0][['bowler','id','year']].to_frame()\n",
    "df_2017 = most_wickets_year_wise[most_wickets_year_wise['year'] == '2017'].sort_values('id',ascending=False).iloc[0][['bowler','id','year']].to_frame()\n",
    "df_2018 = most_wickets_year_wise[most_wickets_year_wise['year'] == '2018'].sort_values('id',ascending=False).iloc[0][['bowler','id','year']].to_frame()\n",
    "df_2019 = most_wickets_year_wise[most_wickets_year_wise['year'] == '2019'].sort_values('id',ascending=False).iloc[0][['bowler','id','year']].to_frame()\n",
    "df_2020 = most_wickets_year_wise[most_wickets_year_wise['year'] == '2020'].sort_values('id',ascending=False).iloc[0][['bowler','id','year']].to_frame()\n",
    "\n",
    "combining_data = pd.concat([df_2008,df_2009,df_2010,df_2011,df_2012,df_2013,df_2014,\n",
    "                          df_2015,df_2016,df_2017,df_2018,df_2019,df_2020],axis = 1)\n",
    "highest_wicket_takers = combining_data.transpose()\n",
    "highest_wicket_takers = highest_wicket_takers.reset_index(drop=True)\n",
    "highest_wicket_takers = highest_wicket_takers.rename(columns={'id':'wickets'})\n",
    "highest_wicket_takers"
   ]
  },
  {
   "cell_type": "code",
   "execution_count": 63,
   "id": "b697ee96",
   "metadata": {},
   "outputs": [
    {
     "data": {
      "image/png": "[encoded data removed]",
      "text/plain": [
       "<Figure size 800x400 with 1 Axes>"
      ]
     },
     "metadata": {},
     "output_type": "display_data"
    }
   ],
   "source": [
    "g=highest_wicket_takers.plot(kind='bar',x='bowler',width=0.75,figsize=(8,4),legend=False)\n",
    "y=list(highest_wicket_takers['year'])\n",
    "plt.xlabel('Bowlers')\n",
    "plt.ylabel('Wickets')\n",
    "\n",
    "count=-0.1\n",
    "\n",
    "for index,value in enumerate(y):\n",
    "    g.text(count,10,value,rotation=90)\n",
    "    count+=1\n",
    "    "
   ]
  },
  {
   "cell_type": "markdown",
   "id": "ce408699",
   "metadata": {},
   "source": [
    "### Which teams bowls the most extras year - wise"
   ]
  },
  {
   "cell_type": "code",
   "execution_count": 64,
   "id": "b5babbd5",
   "metadata": {},
   "outputs": [],
   "source": [
    "def extras_count(year):\n",
    "    extras = df2[df2['extra_runs'] != 0]\n",
    "    extras = extras[extras['year'] == '{y}'.format(y=year)]\n",
    "    extras = extras.groupby(['bowling_team']).sum().reset_index()\n",
    "    runs = list(extras['extra_runs'])\n",
    "    plt.figure(figsize=(8,4), dpi=80)\n",
    "    g = sns.barplot(x='bowling_team',y='extra_runs',data=extras)\n",
    "    plt.xlabel('Teams')\n",
    "    plt.ylabel('Extras Given')\n",
    "    plt.xticks(rotation = 90)\n",
    "    count = -0.1\n",
    "    for index,value in enumerate(runs):\n",
    "        g.text(count,40,value,rotation=90,fontweight='bold')\n",
    "        count+=1"
   ]
  },
  {
   "cell_type": "code",
   "execution_count": 65,
   "id": "84d41fa2",
   "metadata": {},
   "outputs": [
    {
     "data": {
      "image/png": "[encoded data removed]",
      "text/plain": [
       "<Figure size 640x320 with 1 Axes>"
      ]
     },
     "metadata": {},
     "output_type": "display_data"
    }
   ],
   "source": [
    "'''\n",
    "We can pass any year between (2008 to 2020) as parameter in the function and get graph for teams with there \n",
    "\"extra run\" for that year\n",
    "'''\n",
    "\n",
    "extras_count('2018')"
   ]
  },
  {
   "cell_type": "markdown",
   "id": "888b388f",
   "metadata": {},
   "source": [
    "The above graph gives us a clear picture that in the year 2018, RCB(Royal Challengers Banglore) was the team who gave the most extras , i.e they gave a total extras of 142 runs throughout there entire matches"
   ]
  },
  {
   "cell_type": "markdown",
   "id": "9f91396c",
   "metadata": {},
   "source": [
    "### Which type of extras has highest percentage "
   ]
  },
  {
   "cell_type": "code",
   "execution_count": 66,
   "id": "26488b60",
   "metadata": {},
   "outputs": [
    {
     "data": {
      "image/png": "[encoded data removed]",
      "text/plain": [
       "<Figure size 800x800 with 1 Axes>"
      ]
     },
     "metadata": {},
     "output_type": "display_data"
    }
   ],
   "source": [
    "extras = complete_match_df.dropna(subset=['extras_type'])\n",
    "extras = extras.groupby(['extras_type']).count().reset_index()\n",
    "\n",
    "plt.figure(figsize=(10,10), dpi=80)\n",
    "label = list(extras['extras_type'])\n",
    "color = ['#4c5ee0','#f27d07','#46f207','#f20f07','#b407f2']\n",
    "\n",
    "method,txt,per = plt.pie(extras['id'], autopct='%1.0f%%', colors=color, pctdistance=0.8, labeldistance=1.1)\n",
    "plt.legend(method,label, bbox_to_anchor=(0.6,0.9), loc=\"center right\", fontsize=10, \n",
    "           bbox_transform=plt.gcf().transFigure)\n",
    "plt.subplots_adjust(left=0.0, bottom=0.5, right=0.6)"
   ]
  },
  {
   "cell_type": "markdown",
   "id": "1796a303",
   "metadata": {},
   "source": [
    "Majority of the extra runs come through wides and legbyes, and in entire ipl season between 2008-2020 none of an extra run is come through a penalty, as it can be clearly observed from the pie chart"
   ]
  },
  {
   "cell_type": "markdown",
   "id": "2f6c1e76",
   "metadata": {},
   "source": [
    "### Won the toss, choose to bat and won the match "
   ]
  },
  {
   "cell_type": "markdown",
   "id": "4208bee5",
   "metadata": {},
   "source": [
    "Here we are checking for, which team has highest winning ratio if they win the toss and decide to bat first"
   ]
  },
  {
   "cell_type": "code",
   "execution_count": 67,
   "id": "086b3012",
   "metadata": {},
   "outputs": [],
   "source": [
    "bat_first = match_df[match_df['toss_decision'] == 'bat']\n",
    "bat_first = bat_first[bat_first['toss_winner'] == bat_first['winner']]"
   ]
  },
  {
   "cell_type": "code",
   "execution_count": 68,
   "id": "772e0833",
   "metadata": {},
   "outputs": [
    {
     "data": {
      "text/plain": [
       "Text(0, 0.5, 'Bat First Win Match')"
      ]
     },
     "execution_count": 68,
     "metadata": {},
     "output_type": "execute_result"
    },
    {
     "data": {
      "image/png": "[encoded data removed]",
      "text/plain": [
       "<Figure size 640x320 with 1 Axes>"
      ]
     },
     "metadata": {},
     "output_type": "display_data"
    }
   ],
   "source": [
    "plt.figure(figsize=(8,4), dpi=80)\n",
    "plt.xticks(rotation = 90)\n",
    "sns.countplot(x='toss_winner',data=bat_first)\n",
    "plt.xlabel('Teams')\n",
    "plt.ylabel('Bat First Win Match')"
   ]
  },
  {
   "cell_type": "markdown",
   "id": "12f2de88",
   "metadata": {},
   "source": [
    "We can see that CSK win most of the natch when they decide to bat first. We can also observe one more important thing that there should be total 15 teams but, the graph shows result for only 11 teams , so there is a possibility that there might be some error in our visualisation or may be the other 4 teams might have choose to bat and did not win the match , so we need to check for other 4 teams whether our assumption is right or wrong. "
   ]
  },
  {
   "cell_type": "code",
   "execution_count": 69,
   "id": "19775c21",
   "metadata": {},
   "outputs": [
    {
     "data": {
      "text/plain": [
       "array(['Royal Challengers Bangalore', 'Kings XI Punjab',\n",
       "       'Delhi Daredevils', 'Mumbai Indians', 'Kolkata Knight Riders',\n",
       "       'Rajasthan Royals', 'Deccan Chargers', 'Chennai Super Kings',\n",
       "       'Kochi Tuskers Kerala', 'Pune Warriors', 'Sunrisers Hyderabad',\n",
       "       'Gujarat Lions', 'Rising Pune Supergiants',\n",
       "       'Rising Pune Supergiant', 'Delhi Capitals'], dtype=object)"
      ]
     },
     "execution_count": 69,
     "metadata": {},
     "output_type": "execute_result"
    }
   ],
   "source": [
    "match_df['team1'].unique()"
   ]
  },
  {
   "cell_type": "code",
   "execution_count": 70,
   "id": "97f7303d",
   "metadata": {},
   "outputs": [
    {
     "data": {
      "text/html": [
       "<div>\n",
       "<style scoped>\n",
       "    .dataframe tbody tr th:only-of-type {\n",
       "        vertical-align: middle;\n",
       "    }\n",
       "\n",
       "    .dataframe tbody tr th {\n",
       "        vertical-align: top;\n",
       "    }\n",
       "\n",
       "    .dataframe thead th {\n",
       "        text-align: right;\n",
       "    }\n",
       "</style>\n",
       "<table border=\"1\" class=\"dataframe\">\n",
       "  <thead>\n",
       "    <tr style=\"text-align: right;\">\n",
       "      <th></th>\n",
       "      <th>id</th>\n",
       "      <th>city</th>\n",
       "      <th>date</th>\n",
       "      <th>player_of_match</th>\n",
       "      <th>venue</th>\n",
       "      <th>neutral_venue</th>\n",
       "      <th>team1</th>\n",
       "      <th>team2</th>\n",
       "      <th>toss_winner</th>\n",
       "      <th>toss_decision</th>\n",
       "      <th>winner</th>\n",
       "      <th>result</th>\n",
       "      <th>result_margin</th>\n",
       "      <th>eliminator</th>\n",
       "      <th>method</th>\n",
       "      <th>umpire1</th>\n",
       "      <th>umpire2</th>\n",
       "      <th>year</th>\n",
       "      <th>points</th>\n",
       "      <th>month</th>\n",
       "      <th>only_date</th>\n",
       "    </tr>\n",
       "  </thead>\n",
       "  <tbody>\n",
       "    <tr>\n",
       "      <th>177</th>\n",
       "      <td>501200</td>\n",
       "      <td>Kochi</td>\n",
       "      <td>2011-04-09</td>\n",
       "      <td>AB de Villiers</td>\n",
       "      <td>Nehru Stadium</td>\n",
       "      <td>0</td>\n",
       "      <td>Kochi Tuskers Kerala</td>\n",
       "      <td>Royal Challengers Bangalore</td>\n",
       "      <td>Kochi Tuskers Kerala</td>\n",
       "      <td>bat</td>\n",
       "      <td>Royal Challengers Bangalore</td>\n",
       "      <td>wickets</td>\n",
       "      <td>6.0</td>\n",
       "      <td>N</td>\n",
       "      <td>No</td>\n",
       "      <td>HDPK Dharmasena</td>\n",
       "      <td>K Hariharan</td>\n",
       "      <td>2011</td>\n",
       "      <td>2</td>\n",
       "      <td>4</td>\n",
       "      <td>9</td>\n",
       "    </tr>\n",
       "    <tr>\n",
       "      <th>184</th>\n",
       "      <td>501207</td>\n",
       "      <td>Mumbai</td>\n",
       "      <td>2011-04-13</td>\n",
       "      <td>MD Mishra</td>\n",
       "      <td>Dr DY Patil Sports Academy</td>\n",
       "      <td>0</td>\n",
       "      <td>Pune Warriors</td>\n",
       "      <td>Kochi Tuskers Kerala</td>\n",
       "      <td>Kochi Tuskers Kerala</td>\n",
       "      <td>bat</td>\n",
       "      <td>Pune Warriors</td>\n",
       "      <td>wickets</td>\n",
       "      <td>4.0</td>\n",
       "      <td>N</td>\n",
       "      <td>No</td>\n",
       "      <td>S Asnani</td>\n",
       "      <td>PR Reiffel</td>\n",
       "      <td>2011</td>\n",
       "      <td>2</td>\n",
       "      <td>4</td>\n",
       "      <td>13</td>\n",
       "    </tr>\n",
       "    <tr>\n",
       "      <th>223</th>\n",
       "      <td>501247</td>\n",
       "      <td>Bangalore</td>\n",
       "      <td>2011-05-08</td>\n",
       "      <td>CH Gayle</td>\n",
       "      <td>M Chinnaswamy Stadium</td>\n",
       "      <td>0</td>\n",
       "      <td>Royal Challengers Bangalore</td>\n",
       "      <td>Kochi Tuskers Kerala</td>\n",
       "      <td>Kochi Tuskers Kerala</td>\n",
       "      <td>bat</td>\n",
       "      <td>Royal Challengers Bangalore</td>\n",
       "      <td>wickets</td>\n",
       "      <td>9.0</td>\n",
       "      <td>N</td>\n",
       "      <td>No</td>\n",
       "      <td>Aleem Dar</td>\n",
       "      <td>SS Hazare</td>\n",
       "      <td>2011</td>\n",
       "      <td>2</td>\n",
       "      <td>5</td>\n",
       "      <td>8</td>\n",
       "    </tr>\n",
       "  </tbody>\n",
       "</table>\n",
       "</div>"
      ],
      "text/plain": [
       "         id       city        date player_of_match  \\\n",
       "177  501200      Kochi  2011-04-09  AB de Villiers   \n",
       "184  501207     Mumbai  2011-04-13       MD Mishra   \n",
       "223  501247  Bangalore  2011-05-08        CH Gayle   \n",
       "\n",
       "                          venue  neutral_venue                        team1  \\\n",
       "177               Nehru Stadium              0         Kochi Tuskers Kerala   \n",
       "184  Dr DY Patil Sports Academy              0                Pune Warriors   \n",
       "223       M Chinnaswamy Stadium              0  Royal Challengers Bangalore   \n",
       "\n",
       "                           team2           toss_winner toss_decision  \\\n",
       "177  Royal Challengers Bangalore  Kochi Tuskers Kerala           bat   \n",
       "184         Kochi Tuskers Kerala  Kochi Tuskers Kerala           bat   \n",
       "223         Kochi Tuskers Kerala  Kochi Tuskers Kerala           bat   \n",
       "\n",
       "                          winner   result  result_margin eliminator method  \\\n",
       "177  Royal Challengers Bangalore  wickets            6.0          N     No   \n",
       "184                Pune Warriors  wickets            4.0          N     No   \n",
       "223  Royal Challengers Bangalore  wickets            9.0          N     No   \n",
       "\n",
       "             umpire1      umpire2  year  points  month  only_date  \n",
       "177  HDPK Dharmasena  K Hariharan  2011       2      4          9  \n",
       "184         S Asnani   PR Reiffel  2011       2      4         13  \n",
       "223        Aleem Dar    SS Hazare  2011       2      5          8  "
      ]
     },
     "execution_count": 70,
     "metadata": {},
     "output_type": "execute_result"
    }
   ],
   "source": [
    "ktk = match_df[(match_df['toss_winner'] == 'Kochi Tuskers Kerala') & (match_df['toss_decision'] == 'bat')]\n",
    "ktk"
   ]
  },
  {
   "cell_type": "code",
   "execution_count": 71,
   "id": "2d07406e",
   "metadata": {},
   "outputs": [
    {
     "data": {
      "text/html": [
       "<div>\n",
       "<style scoped>\n",
       "    .dataframe tbody tr th:only-of-type {\n",
       "        vertical-align: middle;\n",
       "    }\n",
       "\n",
       "    .dataframe tbody tr th {\n",
       "        vertical-align: top;\n",
       "    }\n",
       "\n",
       "    .dataframe thead th {\n",
       "        text-align: right;\n",
       "    }\n",
       "</style>\n",
       "<table border=\"1\" class=\"dataframe\">\n",
       "  <thead>\n",
       "    <tr style=\"text-align: right;\">\n",
       "      <th></th>\n",
       "      <th>id</th>\n",
       "      <th>city</th>\n",
       "      <th>date</th>\n",
       "      <th>player_of_match</th>\n",
       "      <th>venue</th>\n",
       "      <th>neutral_venue</th>\n",
       "      <th>team1</th>\n",
       "      <th>team2</th>\n",
       "      <th>toss_winner</th>\n",
       "      <th>toss_decision</th>\n",
       "      <th>winner</th>\n",
       "      <th>result</th>\n",
       "      <th>result_margin</th>\n",
       "      <th>eliminator</th>\n",
       "      <th>method</th>\n",
       "      <th>umpire1</th>\n",
       "      <th>umpire2</th>\n",
       "      <th>year</th>\n",
       "      <th>points</th>\n",
       "      <th>month</th>\n",
       "      <th>only_date</th>\n",
       "    </tr>\n",
       "  </thead>\n",
       "  <tbody>\n",
       "    <tr>\n",
       "      <th>522</th>\n",
       "      <td>980911</td>\n",
       "      <td>Rajkot</td>\n",
       "      <td>2016-04-14</td>\n",
       "      <td>AJ Finch</td>\n",
       "      <td>Saurashtra Cricket Association Stadium</td>\n",
       "      <td>0</td>\n",
       "      <td>Gujarat Lions</td>\n",
       "      <td>Rising Pune Supergiants</td>\n",
       "      <td>Rising Pune Supergiants</td>\n",
       "      <td>bat</td>\n",
       "      <td>Gujarat Lions</td>\n",
       "      <td>wickets</td>\n",
       "      <td>7.0</td>\n",
       "      <td>N</td>\n",
       "      <td>No</td>\n",
       "      <td>VA Kulkarni</td>\n",
       "      <td>CK Nandan</td>\n",
       "      <td>2016</td>\n",
       "      <td>2</td>\n",
       "      <td>4</td>\n",
       "      <td>14</td>\n",
       "    </tr>\n",
       "    <tr>\n",
       "      <th>526</th>\n",
       "      <td>980919</td>\n",
       "      <td>Chandigarh</td>\n",
       "      <td>2016-04-17</td>\n",
       "      <td>M Vohra</td>\n",
       "      <td>Punjab Cricket Association IS Bindra Stadium, ...</td>\n",
       "      <td>0</td>\n",
       "      <td>Kings XI Punjab</td>\n",
       "      <td>Rising Pune Supergiants</td>\n",
       "      <td>Rising Pune Supergiants</td>\n",
       "      <td>bat</td>\n",
       "      <td>Kings XI Punjab</td>\n",
       "      <td>wickets</td>\n",
       "      <td>6.0</td>\n",
       "      <td>N</td>\n",
       "      <td>No</td>\n",
       "      <td>S Ravi</td>\n",
       "      <td>C Shamshuddin</td>\n",
       "      <td>2016</td>\n",
       "      <td>2</td>\n",
       "      <td>4</td>\n",
       "      <td>17</td>\n",
       "    </tr>\n",
       "    <tr>\n",
       "      <th>561</th>\n",
       "      <td>980989</td>\n",
       "      <td>Kolkata</td>\n",
       "      <td>2016-05-14</td>\n",
       "      <td>YK Pathan</td>\n",
       "      <td>Eden Gardens</td>\n",
       "      <td>0</td>\n",
       "      <td>Kolkata Knight Riders</td>\n",
       "      <td>Rising Pune Supergiants</td>\n",
       "      <td>Rising Pune Supergiants</td>\n",
       "      <td>bat</td>\n",
       "      <td>Kolkata Knight Riders</td>\n",
       "      <td>wickets</td>\n",
       "      <td>8.0</td>\n",
       "      <td>N</td>\n",
       "      <td>D/L</td>\n",
       "      <td>A Nand Kishore</td>\n",
       "      <td>BNJ Oxenford</td>\n",
       "      <td>2016</td>\n",
       "      <td>2</td>\n",
       "      <td>5</td>\n",
       "      <td>14</td>\n",
       "    </tr>\n",
       "  </tbody>\n",
       "</table>\n",
       "</div>"
      ],
      "text/plain": [
       "         id        city        date player_of_match  \\\n",
       "522  980911      Rajkot  2016-04-14        AJ Finch   \n",
       "526  980919  Chandigarh  2016-04-17         M Vohra   \n",
       "561  980989     Kolkata  2016-05-14       YK Pathan   \n",
       "\n",
       "                                                 venue  neutral_venue  \\\n",
       "522             Saurashtra Cricket Association Stadium              0   \n",
       "526  Punjab Cricket Association IS Bindra Stadium, ...              0   \n",
       "561                                       Eden Gardens              0   \n",
       "\n",
       "                     team1                    team2              toss_winner  \\\n",
       "522          Gujarat Lions  Rising Pune Supergiants  Rising Pune Supergiants   \n",
       "526        Kings XI Punjab  Rising Pune Supergiants  Rising Pune Supergiants   \n",
       "561  Kolkata Knight Riders  Rising Pune Supergiants  Rising Pune Supergiants   \n",
       "\n",
       "    toss_decision                 winner   result  result_margin eliminator  \\\n",
       "522           bat          Gujarat Lions  wickets            7.0          N   \n",
       "526           bat        Kings XI Punjab  wickets            6.0          N   \n",
       "561           bat  Kolkata Knight Riders  wickets            8.0          N   \n",
       "\n",
       "    method         umpire1        umpire2  year  points  month  only_date  \n",
       "522     No     VA Kulkarni      CK Nandan  2016       2      4         14  \n",
       "526     No          S Ravi  C Shamshuddin  2016       2      4         17  \n",
       "561    D/L  A Nand Kishore   BNJ Oxenford  2016       2      5         14  "
      ]
     },
     "execution_count": 71,
     "metadata": {},
     "output_type": "execute_result"
    }
   ],
   "source": [
    "rpss = match_df[(match_df['toss_winner'] == 'Rising Pune Supergiants') & (match_df['toss_decision'] == 'bat')]\n",
    "rpss"
   ]
  },
  {
   "cell_type": "code",
   "execution_count": 72,
   "id": "0a963f38",
   "metadata": {},
   "outputs": [
    {
     "data": {
      "text/html": [
       "<div>\n",
       "<style scoped>\n",
       "    .dataframe tbody tr th:only-of-type {\n",
       "        vertical-align: middle;\n",
       "    }\n",
       "\n",
       "    .dataframe tbody tr th {\n",
       "        vertical-align: top;\n",
       "    }\n",
       "\n",
       "    .dataframe thead th {\n",
       "        text-align: right;\n",
       "    }\n",
       "</style>\n",
       "<table border=\"1\" class=\"dataframe\">\n",
       "  <thead>\n",
       "    <tr style=\"text-align: right;\">\n",
       "      <th></th>\n",
       "      <th>id</th>\n",
       "      <th>city</th>\n",
       "      <th>date</th>\n",
       "      <th>player_of_match</th>\n",
       "      <th>venue</th>\n",
       "      <th>neutral_venue</th>\n",
       "      <th>team1</th>\n",
       "      <th>team2</th>\n",
       "      <th>toss_winner</th>\n",
       "      <th>toss_decision</th>\n",
       "      <th>winner</th>\n",
       "      <th>result</th>\n",
       "      <th>result_margin</th>\n",
       "      <th>eliminator</th>\n",
       "      <th>method</th>\n",
       "      <th>umpire1</th>\n",
       "      <th>umpire2</th>\n",
       "      <th>year</th>\n",
       "      <th>points</th>\n",
       "      <th>month</th>\n",
       "      <th>only_date</th>\n",
       "    </tr>\n",
       "  </thead>\n",
       "  <tbody>\n",
       "  </tbody>\n",
       "</table>\n",
       "</div>"
      ],
      "text/plain": [
       "Empty DataFrame\n",
       "Columns: [id, city, date, player_of_match, venue, neutral_venue, team1, team2, toss_winner, toss_decision, winner, result, result_margin, eliminator, method, umpire1, umpire2, year, points, month, only_date]\n",
       "Index: []"
      ]
     },
     "execution_count": 72,
     "metadata": {},
     "output_type": "execute_result"
    }
   ],
   "source": [
    "rps = match_df[(match_df['toss_winner'] == 'Rising Pune Supergiant') & (match_df['toss_decision'] == 'bat')]\n",
    "rps"
   ]
  },
  {
   "cell_type": "code",
   "execution_count": 73,
   "id": "5ac0c72f",
   "metadata": {},
   "outputs": [
    {
     "data": {
      "text/html": [
       "<div>\n",
       "<style scoped>\n",
       "    .dataframe tbody tr th:only-of-type {\n",
       "        vertical-align: middle;\n",
       "    }\n",
       "\n",
       "    .dataframe tbody tr th {\n",
       "        vertical-align: top;\n",
       "    }\n",
       "\n",
       "    .dataframe thead th {\n",
       "        text-align: right;\n",
       "    }\n",
       "</style>\n",
       "<table border=\"1\" class=\"dataframe\">\n",
       "  <thead>\n",
       "    <tr style=\"text-align: right;\">\n",
       "      <th></th>\n",
       "      <th>id</th>\n",
       "      <th>city</th>\n",
       "      <th>date</th>\n",
       "      <th>player_of_match</th>\n",
       "      <th>venue</th>\n",
       "      <th>neutral_venue</th>\n",
       "      <th>team1</th>\n",
       "      <th>team2</th>\n",
       "      <th>toss_winner</th>\n",
       "      <th>toss_decision</th>\n",
       "      <th>winner</th>\n",
       "      <th>result</th>\n",
       "      <th>result_margin</th>\n",
       "      <th>eliminator</th>\n",
       "      <th>method</th>\n",
       "      <th>umpire1</th>\n",
       "      <th>umpire2</th>\n",
       "      <th>year</th>\n",
       "      <th>points</th>\n",
       "      <th>month</th>\n",
       "      <th>only_date</th>\n",
       "    </tr>\n",
       "  </thead>\n",
       "  <tbody>\n",
       "    <tr>\n",
       "      <th>610</th>\n",
       "      <td>1082625</td>\n",
       "      <td>Rajkot</td>\n",
       "      <td>2017-04-29</td>\n",
       "      <td>KH Pandya</td>\n",
       "      <td>Saurashtra Cricket Association Stadium</td>\n",
       "      <td>0</td>\n",
       "      <td>Gujarat Lions</td>\n",
       "      <td>Mumbai Indians</td>\n",
       "      <td>Gujarat Lions</td>\n",
       "      <td>bat</td>\n",
       "      <td>Mumbai Indians</td>\n",
       "      <td>tie</td>\n",
       "      <td>NaN</td>\n",
       "      <td>Y</td>\n",
       "      <td>No</td>\n",
       "      <td>AK Chaudhary</td>\n",
       "      <td>CB Gaffaney</td>\n",
       "      <td>2017</td>\n",
       "      <td>1</td>\n",
       "      <td>4</td>\n",
       "      <td>29</td>\n",
       "    </tr>\n",
       "  </tbody>\n",
       "</table>\n",
       "</div>"
      ],
      "text/plain": [
       "          id    city        date player_of_match  \\\n",
       "610  1082625  Rajkot  2017-04-29       KH Pandya   \n",
       "\n",
       "                                      venue  neutral_venue          team1  \\\n",
       "610  Saurashtra Cricket Association Stadium              0  Gujarat Lions   \n",
       "\n",
       "              team2    toss_winner toss_decision          winner result  \\\n",
       "610  Mumbai Indians  Gujarat Lions           bat  Mumbai Indians    tie   \n",
       "\n",
       "     result_margin eliminator method       umpire1      umpire2  year  points  \\\n",
       "610            NaN          Y     No  AK Chaudhary  CB Gaffaney  2017       1   \n",
       "\n",
       "     month  only_date  \n",
       "610      4         29  "
      ]
     },
     "execution_count": 73,
     "metadata": {},
     "output_type": "execute_result"
    }
   ],
   "source": [
    "gl = match_df[(match_df['toss_winner'] == 'Gujarat Lions') & (match_df['toss_decision'] == 'bat')]\n",
    "gl"
   ]
  },
  {
   "cell_type": "markdown",
   "id": "3cc747ea",
   "metadata": {},
   "source": [
    "We can see from above four tables, that our assumption was correct, the four teams which are not displayed on graphs have not won any match , when they won the toss and chose to bat"
   ]
  },
  {
   "cell_type": "markdown",
   "id": "1967420b",
   "metadata": {},
   "source": [
    "### Team who batted first and won match"
   ]
  },
  {
   "cell_type": "markdown",
   "id": "96bfb7b7",
   "metadata": {},
   "source": [
    "Here we are checking for, which of the team has highest winning ratio if they bat first in a match "
   ]
  },
  {
   "cell_type": "code",
   "execution_count": 74,
   "id": "1ea13c6c",
   "metadata": {},
   "outputs": [],
   "source": [
    "batting_first = df2[df2['inning'] == 1]\n",
    "batting_first = batting_first[batting_first['winner'] == batting_first['batting_team']]\n",
    "batting_first = batting_first.groupby('date').last()\n",
    "batting_first = batting_first.reset_index()"
   ]
  },
  {
   "cell_type": "code",
   "execution_count": 75,
   "id": "a929ba74",
   "metadata": {},
   "outputs": [
    {
     "data": {
      "text/plain": [
       "Text(0, 0.5, 'Bat First Win Match')"
      ]
     },
     "execution_count": 75,
     "metadata": {},
     "output_type": "execute_result"
    },
    {
     "data": {
      "image/png": "[encoded data removed]",
      "text/plain": [
       "<Figure size 640x320 with 1 Axes>"
      ]
     },
     "metadata": {},
     "output_type": "display_data"
    }
   ],
   "source": [
    "plt.figure(figsize=(8,4), dpi=80)\n",
    "plt.xticks(rotation = 90)\n",
    "sns.countplot(x='batting_team',data=batting_first)\n",
    "plt.xlabel('Teams')\n",
    "plt.ylabel('Bat First Win Match')"
   ]
  },
  {
   "cell_type": "markdown",
   "id": "0e64dc9b",
   "metadata": {},
   "source": [
    "The above graph tells us that no matter a team wins or losses a toss, but if they bat first MI(Mumbai Indian) is the team who wins there most matches"
   ]
  },
  {
   "cell_type": "markdown",
   "id": "11bf6b04",
   "metadata": {},
   "source": [
    "### Highest run in an over year wise distribution"
   ]
  },
  {
   "cell_type": "code",
   "execution_count": 197,
   "id": "b249f70c",
   "metadata": {},
   "outputs": [],
   "source": [
    "highest_run = df2.groupby(['year','month','only_date','inning','over','batsman',\n",
    "                           'bowler','bowling_team','batting_team'])['batsman_runs'].sum().reset_index()\n",
    "idx = highest_run.groupby(['year'])['batsman_runs'].transform(max) == highest_run['batsman_runs']\n",
    "highest_run = highest_run[idx]\n",
    "highest_run.drop(['month','only_date','inning','over'],axis=1,inplace=True)\n",
    "highest_run.rename(columns={'year':'Year','batsman':'Batsman','bowler':'Bowler','bowling_team':'Bowling Team',\n",
    "                            'batting_team':'Batting Team','batsman_runs':'Runs'},inplace=True)"
   ]
  },
  {
   "cell_type": "code",
   "execution_count": 199,
   "id": "e58811c6",
   "metadata": {},
   "outputs": [
    {
     "data": {
      "text/html": [
       "<div>\n",
       "<style scoped>\n",
       "    .dataframe tbody tr th:only-of-type {\n",
       "        vertical-align: middle;\n",
       "    }\n",
       "\n",
       "    .dataframe tbody tr th {\n",
       "        vertical-align: top;\n",
       "    }\n",
       "\n",
       "    .dataframe thead th {\n",
       "        text-align: right;\n",
       "    }\n",
       "</style>\n",
       "<table border=\"1\" class=\"dataframe\">\n",
       "  <thead>\n",
       "    <tr style=\"text-align: right;\">\n",
       "      <th></th>\n",
       "      <th>Year</th>\n",
       "      <th>Batsman</th>\n",
       "      <th>Bowler</th>\n",
       "      <th>Bowling Team</th>\n",
       "      <th>Batting Team</th>\n",
       "      <th>Runs</th>\n",
       "    </tr>\n",
       "  </thead>\n",
       "  <tbody>\n",
       "    <tr>\n",
       "      <th>0</th>\n",
       "      <td>2008</td>\n",
       "      <td>V Sehwag</td>\n",
       "      <td>A Symonds</td>\n",
       "      <td>Deccan Chargers</td>\n",
       "      <td>Delhi Daredevils</td>\n",
       "      <td>30</td>\n",
       "    </tr>\n",
       "    <tr>\n",
       "      <th>1</th>\n",
       "      <td>2009</td>\n",
       "      <td>MS Dhoni</td>\n",
       "      <td>VRV Singh</td>\n",
       "      <td>Kings XI Punjab</td>\n",
       "      <td>Chennai Super Kings</td>\n",
       "      <td>24</td>\n",
       "    </tr>\n",
       "    <tr>\n",
       "      <th>2</th>\n",
       "      <td>2009</td>\n",
       "      <td>TM Dilshan</td>\n",
       "      <td>Shoaib Ahmed</td>\n",
       "      <td>Deccan Chargers</td>\n",
       "      <td>Delhi Daredevils</td>\n",
       "      <td>24</td>\n",
       "    </tr>\n",
       "    <tr>\n",
       "      <th>3</th>\n",
       "      <td>2010</td>\n",
       "      <td>RV Uthappa</td>\n",
       "      <td>S Sreesanth</td>\n",
       "      <td>Kings XI Punjab</td>\n",
       "      <td>Royal Challengers Bangalore</td>\n",
       "      <td>25</td>\n",
       "    </tr>\n",
       "    <tr>\n",
       "      <th>4</th>\n",
       "      <td>2011</td>\n",
       "      <td>CH Gayle</td>\n",
       "      <td>P Parameswaran</td>\n",
       "      <td>Kochi Tuskers Kerala</td>\n",
       "      <td>Royal Challengers Bangalore</td>\n",
       "      <td>36</td>\n",
       "    </tr>\n",
       "    <tr>\n",
       "      <th>5</th>\n",
       "      <td>2012</td>\n",
       "      <td>CH Gayle</td>\n",
       "      <td>R Sharma</td>\n",
       "      <td>Pune Warriors</td>\n",
       "      <td>Royal Challengers Bangalore</td>\n",
       "      <td>30</td>\n",
       "    </tr>\n",
       "    <tr>\n",
       "      <th>6</th>\n",
       "      <td>2013</td>\n",
       "      <td>CH Gayle</td>\n",
       "      <td>MR Marsh</td>\n",
       "      <td>Pune Warriors</td>\n",
       "      <td>Royal Challengers Bangalore</td>\n",
       "      <td>28</td>\n",
       "    </tr>\n",
       "    <tr>\n",
       "      <th>7</th>\n",
       "      <td>2013</td>\n",
       "      <td>CH Gayle</td>\n",
       "      <td>AJ Finch</td>\n",
       "      <td>Pune Warriors</td>\n",
       "      <td>Royal Challengers Bangalore</td>\n",
       "      <td>28</td>\n",
       "    </tr>\n",
       "    <tr>\n",
       "      <th>8</th>\n",
       "      <td>2014</td>\n",
       "      <td>SK Raina</td>\n",
       "      <td>P Awana</td>\n",
       "      <td>Kings XI Punjab</td>\n",
       "      <td>Chennai Super Kings</td>\n",
       "      <td>32</td>\n",
       "    </tr>\n",
       "    <tr>\n",
       "      <th>9</th>\n",
       "      <td>2015</td>\n",
       "      <td>CH Gayle</td>\n",
       "      <td>B Kumar</td>\n",
       "      <td>Sunrisers Hyderabad</td>\n",
       "      <td>Royal Challengers Bangalore</td>\n",
       "      <td>24</td>\n",
       "    </tr>\n",
       "    <tr>\n",
       "      <th>10</th>\n",
       "      <td>2016</td>\n",
       "      <td>V Kohli</td>\n",
       "      <td>S Kaushik</td>\n",
       "      <td>Gujarat Lions</td>\n",
       "      <td>Royal Challengers Bangalore</td>\n",
       "      <td>30</td>\n",
       "    </tr>\n",
       "    <tr>\n",
       "      <th>11</th>\n",
       "      <td>2017</td>\n",
       "      <td>HH Pandya</td>\n",
       "      <td>AB Dinda</td>\n",
       "      <td>Rising Pune Supergiant</td>\n",
       "      <td>Mumbai Indians</td>\n",
       "      <td>28</td>\n",
       "    </tr>\n",
       "    <tr>\n",
       "      <th>12</th>\n",
       "      <td>2018</td>\n",
       "      <td>SS Iyer</td>\n",
       "      <td>Shivam Mavi</td>\n",
       "      <td>Kolkata Knight Riders</td>\n",
       "      <td>Delhi Daredevils</td>\n",
       "      <td>28</td>\n",
       "    </tr>\n",
       "    <tr>\n",
       "      <th>13</th>\n",
       "      <td>2018</td>\n",
       "      <td>JC Buttler</td>\n",
       "      <td>Shivam Mavi</td>\n",
       "      <td>Kolkata Knight Riders</td>\n",
       "      <td>Rajasthan Royals</td>\n",
       "      <td>28</td>\n",
       "    </tr>\n",
       "    <tr>\n",
       "      <th>14</th>\n",
       "      <td>2019</td>\n",
       "      <td>AD Russell</td>\n",
       "      <td>TG Southee</td>\n",
       "      <td>Royal Challengers Bangalore</td>\n",
       "      <td>Kolkata Knight Riders</td>\n",
       "      <td>28</td>\n",
       "    </tr>\n",
       "    <tr>\n",
       "      <th>15</th>\n",
       "      <td>2019</td>\n",
       "      <td>JC Buttler</td>\n",
       "      <td>AS Joseph</td>\n",
       "      <td>Mumbai Indians</td>\n",
       "      <td>Rajasthan Royals</td>\n",
       "      <td>28</td>\n",
       "    </tr>\n",
       "    <tr>\n",
       "      <th>16</th>\n",
       "      <td>2020</td>\n",
       "      <td>R Tewatia</td>\n",
       "      <td>SS Cottrell</td>\n",
       "      <td>Kings XI Punjab</td>\n",
       "      <td>Rajasthan Royals</td>\n",
       "      <td>30</td>\n",
       "    </tr>\n",
       "  </tbody>\n",
       "</table>\n",
       "</div>"
      ],
      "text/plain": [
       "    Year     Batsman          Bowler                 Bowling Team  \\\n",
       "0   2008    V Sehwag       A Symonds              Deccan Chargers   \n",
       "1   2009    MS Dhoni       VRV Singh              Kings XI Punjab   \n",
       "2   2009  TM Dilshan    Shoaib Ahmed              Deccan Chargers   \n",
       "3   2010  RV Uthappa     S Sreesanth              Kings XI Punjab   \n",
       "4   2011    CH Gayle  P Parameswaran         Kochi Tuskers Kerala   \n",
       "5   2012    CH Gayle        R Sharma                Pune Warriors   \n",
       "6   2013    CH Gayle        MR Marsh                Pune Warriors   \n",
       "7   2013    CH Gayle        AJ Finch                Pune Warriors   \n",
       "8   2014    SK Raina         P Awana              Kings XI Punjab   \n",
       "9   2015    CH Gayle         B Kumar          Sunrisers Hyderabad   \n",
       "10  2016     V Kohli       S Kaushik                Gujarat Lions   \n",
       "11  2017   HH Pandya        AB Dinda       Rising Pune Supergiant   \n",
       "12  2018     SS Iyer     Shivam Mavi        Kolkata Knight Riders   \n",
       "13  2018  JC Buttler     Shivam Mavi        Kolkata Knight Riders   \n",
       "14  2019  AD Russell      TG Southee  Royal Challengers Bangalore   \n",
       "15  2019  JC Buttler       AS Joseph               Mumbai Indians   \n",
       "16  2020   R Tewatia     SS Cottrell              Kings XI Punjab   \n",
       "\n",
       "                   Batting Team  Runs  \n",
       "0              Delhi Daredevils    30  \n",
       "1           Chennai Super Kings    24  \n",
       "2              Delhi Daredevils    24  \n",
       "3   Royal Challengers Bangalore    25  \n",
       "4   Royal Challengers Bangalore    36  \n",
       "5   Royal Challengers Bangalore    30  \n",
       "6   Royal Challengers Bangalore    28  \n",
       "7   Royal Challengers Bangalore    28  \n",
       "8           Chennai Super Kings    32  \n",
       "9   Royal Challengers Bangalore    24  \n",
       "10  Royal Challengers Bangalore    30  \n",
       "11               Mumbai Indians    28  \n",
       "12             Delhi Daredevils    28  \n",
       "13             Rajasthan Royals    28  \n",
       "14        Kolkata Knight Riders    28  \n",
       "15             Rajasthan Royals    28  \n",
       "16             Rajasthan Royals    30  "
      ]
     },
     "execution_count": 199,
     "metadata": {},
     "output_type": "execute_result"
    }
   ],
   "source": [
    "highest_run.reset_index(drop=True)"
   ]
  }
 ],
 "metadata": {
  "kernelspec": {
   "display_name": "Python 3",
   "language": "python",
   "name": "python3"
  },
  "language_info": {
   "codemirror_mode": {
    "name": "ipython",
    "version": 3
   },
   "file_extension": ".py",
   "mimetype": "text/x-python",
   "name": "python",
   "nbconvert_exporter": "python",
   "pygments_lexer": "ipython3",
   "version": "3.8.8"
  }
 },
 "nbformat": 4,
 "nbformat_minor": 5
}
