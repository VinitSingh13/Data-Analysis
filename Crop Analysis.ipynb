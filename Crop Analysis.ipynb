{
 "cells": [
  {
   "cell_type": "code",
   "execution_count": 1,
   "id": "371e230f",
   "metadata": {},
   "outputs": [],
   "source": [
    "import numpy as np\n",
    "import pandas as pd"
   ]
  },
  {
   "cell_type": "markdown",
   "id": "5292f62a",
   "metadata": {},
   "source": [
    "#### Reading the dataset"
   ]
  },
  {
   "cell_type": "code",
   "execution_count": 2,
   "id": "d929d3c7",
   "metadata": {},
   "outputs": [
    {
     "name": "stderr",
     "output_type": "stream",
     "text": [
      "C:\\Users\\Vinit\\anaconda3\\lib\\site-packages\\IPython\\core\\interactiveshell.py:3165: DtypeWarning: Columns (11,12,14,15) have mixed types.Specify dtype option on import or set low_memory=False.\n",
      "  has_raised = await self.run_ast_nodes(code_ast.body, cell_name,\n"
     ]
    },
    {
     "data": {
      "text/html": [
       "<div>\n",
       "<style scoped>\n",
       "    .dataframe tbody tr th:only-of-type {\n",
       "        vertical-align: middle;\n",
       "    }\n",
       "\n",
       "    .dataframe tbody tr th {\n",
       "        vertical-align: top;\n",
       "    }\n",
       "\n",
       "    .dataframe thead th {\n",
       "        text-align: right;\n",
       "    }\n",
       "</style>\n",
       "<table border=\"1\" class=\"dataframe\">\n",
       "  <thead>\n",
       "    <tr style=\"text-align: right;\">\n",
       "      <th></th>\n",
       "      <th>Sno</th>\n",
       "      <th>State_Name</th>\n",
       "      <th>District_Name</th>\n",
       "      <th>Crop_Year</th>\n",
       "      <th>Season</th>\n",
       "      <th>Crop</th>\n",
       "      <th>Area</th>\n",
       "      <th>Production</th>\n",
       "      <th>Unnamed: 8</th>\n",
       "      <th>Sno.1</th>\n",
       "      <th>Unnamed: 10</th>\n",
       "      <th>State_Name.1</th>\n",
       "      <th>District_Name.1</th>\n",
       "      <th>Crop_Year.1</th>\n",
       "      <th>Season.1</th>\n",
       "      <th>Crop.1</th>\n",
       "      <th>Area.1</th>\n",
       "      <th>Production.1</th>\n",
       "    </tr>\n",
       "  </thead>\n",
       "  <tbody>\n",
       "    <tr>\n",
       "      <th>0</th>\n",
       "      <td>1</td>\n",
       "      <td>Andaman and Nicobar Islands</td>\n",
       "      <td>NICOBARS</td>\n",
       "      <td>2000</td>\n",
       "      <td>Kharif</td>\n",
       "      <td>Arecanut</td>\n",
       "      <td>1254.0</td>\n",
       "      <td>2000.0</td>\n",
       "      <td>NaN</td>\n",
       "      <td>191620.0</td>\n",
       "      <td>NaN</td>\n",
       "      <td>Telangana</td>\n",
       "      <td>NIZAMABAD</td>\n",
       "      <td>1998.0</td>\n",
       "      <td>Kharif</td>\n",
       "      <td>Arhar/Tur</td>\n",
       "      <td>2200.0</td>\n",
       "      <td>800.0</td>\n",
       "    </tr>\n",
       "    <tr>\n",
       "      <th>1</th>\n",
       "      <td>2</td>\n",
       "      <td>Andaman and Nicobar Islands</td>\n",
       "      <td>NICOBARS</td>\n",
       "      <td>2000</td>\n",
       "      <td>Kharif</td>\n",
       "      <td>Other Kharif pulses</td>\n",
       "      <td>2.0</td>\n",
       "      <td>1.0</td>\n",
       "      <td>NaN</td>\n",
       "      <td>191621.0</td>\n",
       "      <td>NaN</td>\n",
       "      <td>Telangana</td>\n",
       "      <td>NIZAMABAD</td>\n",
       "      <td>1998.0</td>\n",
       "      <td>Kharif</td>\n",
       "      <td>Castor seed</td>\n",
       "      <td>200.0</td>\n",
       "      <td>100.0</td>\n",
       "    </tr>\n",
       "    <tr>\n",
       "      <th>2</th>\n",
       "      <td>3</td>\n",
       "      <td>Andaman and Nicobar Islands</td>\n",
       "      <td>NICOBARS</td>\n",
       "      <td>2000</td>\n",
       "      <td>Kharif</td>\n",
       "      <td>Rice</td>\n",
       "      <td>102.0</td>\n",
       "      <td>321.0</td>\n",
       "      <td>NaN</td>\n",
       "      <td>191622.0</td>\n",
       "      <td>NaN</td>\n",
       "      <td>Telangana</td>\n",
       "      <td>NIZAMABAD</td>\n",
       "      <td>1998.0</td>\n",
       "      <td>Kharif</td>\n",
       "      <td>Cotton(lint)</td>\n",
       "      <td>20000.0</td>\n",
       "      <td>28500.0</td>\n",
       "    </tr>\n",
       "    <tr>\n",
       "      <th>3</th>\n",
       "      <td>4</td>\n",
       "      <td>Andaman and Nicobar Islands</td>\n",
       "      <td>NICOBARS</td>\n",
       "      <td>2000</td>\n",
       "      <td>Whole Year</td>\n",
       "      <td>Banana</td>\n",
       "      <td>176.0</td>\n",
       "      <td>641.0</td>\n",
       "      <td>NaN</td>\n",
       "      <td>191623.0</td>\n",
       "      <td>NaN</td>\n",
       "      <td>Telangana</td>\n",
       "      <td>NIZAMABAD</td>\n",
       "      <td>1998.0</td>\n",
       "      <td>Kharif</td>\n",
       "      <td>Groundnut</td>\n",
       "      <td>300.0</td>\n",
       "      <td>400.0</td>\n",
       "    </tr>\n",
       "    <tr>\n",
       "      <th>4</th>\n",
       "      <td>5</td>\n",
       "      <td>Andaman and Nicobar Islands</td>\n",
       "      <td>NICOBARS</td>\n",
       "      <td>2000</td>\n",
       "      <td>Whole Year</td>\n",
       "      <td>Cashewnut</td>\n",
       "      <td>720.0</td>\n",
       "      <td>165.0</td>\n",
       "      <td>NaN</td>\n",
       "      <td>191624.0</td>\n",
       "      <td>NaN</td>\n",
       "      <td>Telangana</td>\n",
       "      <td>NIZAMABAD</td>\n",
       "      <td>1998.0</td>\n",
       "      <td>Kharif</td>\n",
       "      <td>Jowar</td>\n",
       "      <td>3400.0</td>\n",
       "      <td>2000.0</td>\n",
       "    </tr>\n",
       "  </tbody>\n",
       "</table>\n",
       "</div>"
      ],
      "text/plain": [
       "   Sno                   State_Name District_Name  Crop_Year      Season  \\\n",
       "0    1  Andaman and Nicobar Islands      NICOBARS       2000      Kharif   \n",
       "1    2  Andaman and Nicobar Islands      NICOBARS       2000      Kharif   \n",
       "2    3  Andaman and Nicobar Islands      NICOBARS       2000      Kharif   \n",
       "3    4  Andaman and Nicobar Islands      NICOBARS       2000  Whole Year   \n",
       "4    5  Andaman and Nicobar Islands      NICOBARS       2000  Whole Year   \n",
       "\n",
       "                  Crop    Area  Production  Unnamed: 8     Sno.1  Unnamed: 10  \\\n",
       "0             Arecanut  1254.0      2000.0         NaN  191620.0          NaN   \n",
       "1  Other Kharif pulses     2.0         1.0         NaN  191621.0          NaN   \n",
       "2                 Rice   102.0       321.0         NaN  191622.0          NaN   \n",
       "3               Banana   176.0       641.0         NaN  191623.0          NaN   \n",
       "4            Cashewnut   720.0       165.0         NaN  191624.0          NaN   \n",
       "\n",
       "  State_Name.1 District_Name.1  Crop_Year.1 Season.1        Crop.1   Area.1  \\\n",
       "0    Telangana       NIZAMABAD       1998.0   Kharif     Arhar/Tur   2200.0   \n",
       "1    Telangana       NIZAMABAD       1998.0   Kharif   Castor seed    200.0   \n",
       "2    Telangana       NIZAMABAD       1998.0   Kharif  Cotton(lint)  20000.0   \n",
       "3    Telangana       NIZAMABAD       1998.0   Kharif     Groundnut    300.0   \n",
       "4    Telangana       NIZAMABAD       1998.0   Kharif         Jowar   3400.0   \n",
       "\n",
       "   Production.1  \n",
       "0         800.0  \n",
       "1         100.0  \n",
       "2       28500.0  \n",
       "3         400.0  \n",
       "4        2000.0  "
      ]
     },
     "execution_count": 2,
     "metadata": {},
     "output_type": "execute_result"
    }
   ],
   "source": [
    "crop_df = pd.read_csv(r'D:\\Project\\Data Set - Crop_production1.csv')\n",
    "crop_df.head()"
   ]
  },
  {
   "cell_type": "code",
   "execution_count": 3,
   "id": "230d088c",
   "metadata": {},
   "outputs": [
    {
     "name": "stdout",
     "output_type": "stream",
     "text": [
      "<class 'pandas.core.frame.DataFrame'>\n",
      "RangeIndex: 191619 entries, 0 to 191618\n",
      "Data columns (total 18 columns):\n",
      " #   Column           Non-Null Count   Dtype  \n",
      "---  ------           --------------   -----  \n",
      " 0   Sno              191619 non-null  int64  \n",
      " 1   State_Name       191619 non-null  object \n",
      " 2   District_Name    191619 non-null  object \n",
      " 3   Crop_Year        191619 non-null  int64  \n",
      " 4   Season           191619 non-null  object \n",
      " 5   Crop             191619 non-null  object \n",
      " 6   Area             191619 non-null  float64\n",
      " 7   Production       188147 non-null  float64\n",
      " 8   Unnamed: 8       0 non-null       float64\n",
      " 9   Sno.1            54472 non-null   float64\n",
      " 10  Unnamed: 10      0 non-null       float64\n",
      " 11  State_Name.1     54472 non-null   object \n",
      " 12  District_Name.1  54472 non-null   object \n",
      " 13  Crop_Year.1      54472 non-null   float64\n",
      " 14  Season.1         54472 non-null   object \n",
      " 15  Crop.1           54472 non-null   object \n",
      " 16  Area.1           54472 non-null   float64\n",
      " 17  Production.1     54214 non-null   float64\n",
      "dtypes: float64(8), int64(2), object(8)\n",
      "memory usage: 26.3+ MB\n"
     ]
    }
   ],
   "source": [
    "crop_df.info()"
   ]
  },
  {
   "cell_type": "markdown",
   "id": "3e174246",
   "metadata": {},
   "source": [
    "#### Deleting unwanted columns"
   ]
  },
  {
   "cell_type": "code",
   "execution_count": 4,
   "id": "eadd458f",
   "metadata": {},
   "outputs": [],
   "source": [
    "crop_df.drop(['Unnamed: 8','Unnamed: 10'],axis = 1,inplace=True)"
   ]
  },
  {
   "cell_type": "code",
   "execution_count": 5,
   "id": "e956339f",
   "metadata": {},
   "outputs": [
    {
     "data": {
      "text/html": [
       "<div>\n",
       "<style scoped>\n",
       "    .dataframe tbody tr th:only-of-type {\n",
       "        vertical-align: middle;\n",
       "    }\n",
       "\n",
       "    .dataframe tbody tr th {\n",
       "        vertical-align: top;\n",
       "    }\n",
       "\n",
       "    .dataframe thead th {\n",
       "        text-align: right;\n",
       "    }\n",
       "</style>\n",
       "<table border=\"1\" class=\"dataframe\">\n",
       "  <thead>\n",
       "    <tr style=\"text-align: right;\">\n",
       "      <th></th>\n",
       "      <th>Sno</th>\n",
       "      <th>State_Name</th>\n",
       "      <th>District_Name</th>\n",
       "      <th>Crop_Year</th>\n",
       "      <th>Season</th>\n",
       "      <th>Crop</th>\n",
       "      <th>Area</th>\n",
       "      <th>Production</th>\n",
       "      <th>Sno.1</th>\n",
       "      <th>State_Name.1</th>\n",
       "      <th>District_Name.1</th>\n",
       "      <th>Crop_Year.1</th>\n",
       "      <th>Season.1</th>\n",
       "      <th>Crop.1</th>\n",
       "      <th>Area.1</th>\n",
       "      <th>Production.1</th>\n",
       "    </tr>\n",
       "  </thead>\n",
       "  <tbody>\n",
       "    <tr>\n",
       "      <th>0</th>\n",
       "      <td>1</td>\n",
       "      <td>Andaman and Nicobar Islands</td>\n",
       "      <td>NICOBARS</td>\n",
       "      <td>2000</td>\n",
       "      <td>Kharif</td>\n",
       "      <td>Arecanut</td>\n",
       "      <td>1254.0</td>\n",
       "      <td>2000.0</td>\n",
       "      <td>191620.0</td>\n",
       "      <td>Telangana</td>\n",
       "      <td>NIZAMABAD</td>\n",
       "      <td>1998.0</td>\n",
       "      <td>Kharif</td>\n",
       "      <td>Arhar/Tur</td>\n",
       "      <td>2200.0</td>\n",
       "      <td>800.0</td>\n",
       "    </tr>\n",
       "    <tr>\n",
       "      <th>1</th>\n",
       "      <td>2</td>\n",
       "      <td>Andaman and Nicobar Islands</td>\n",
       "      <td>NICOBARS</td>\n",
       "      <td>2000</td>\n",
       "      <td>Kharif</td>\n",
       "      <td>Other Kharif pulses</td>\n",
       "      <td>2.0</td>\n",
       "      <td>1.0</td>\n",
       "      <td>191621.0</td>\n",
       "      <td>Telangana</td>\n",
       "      <td>NIZAMABAD</td>\n",
       "      <td>1998.0</td>\n",
       "      <td>Kharif</td>\n",
       "      <td>Castor seed</td>\n",
       "      <td>200.0</td>\n",
       "      <td>100.0</td>\n",
       "    </tr>\n",
       "    <tr>\n",
       "      <th>2</th>\n",
       "      <td>3</td>\n",
       "      <td>Andaman and Nicobar Islands</td>\n",
       "      <td>NICOBARS</td>\n",
       "      <td>2000</td>\n",
       "      <td>Kharif</td>\n",
       "      <td>Rice</td>\n",
       "      <td>102.0</td>\n",
       "      <td>321.0</td>\n",
       "      <td>191622.0</td>\n",
       "      <td>Telangana</td>\n",
       "      <td>NIZAMABAD</td>\n",
       "      <td>1998.0</td>\n",
       "      <td>Kharif</td>\n",
       "      <td>Cotton(lint)</td>\n",
       "      <td>20000.0</td>\n",
       "      <td>28500.0</td>\n",
       "    </tr>\n",
       "    <tr>\n",
       "      <th>3</th>\n",
       "      <td>4</td>\n",
       "      <td>Andaman and Nicobar Islands</td>\n",
       "      <td>NICOBARS</td>\n",
       "      <td>2000</td>\n",
       "      <td>Whole Year</td>\n",
       "      <td>Banana</td>\n",
       "      <td>176.0</td>\n",
       "      <td>641.0</td>\n",
       "      <td>191623.0</td>\n",
       "      <td>Telangana</td>\n",
       "      <td>NIZAMABAD</td>\n",
       "      <td>1998.0</td>\n",
       "      <td>Kharif</td>\n",
       "      <td>Groundnut</td>\n",
       "      <td>300.0</td>\n",
       "      <td>400.0</td>\n",
       "    </tr>\n",
       "    <tr>\n",
       "      <th>4</th>\n",
       "      <td>5</td>\n",
       "      <td>Andaman and Nicobar Islands</td>\n",
       "      <td>NICOBARS</td>\n",
       "      <td>2000</td>\n",
       "      <td>Whole Year</td>\n",
       "      <td>Cashewnut</td>\n",
       "      <td>720.0</td>\n",
       "      <td>165.0</td>\n",
       "      <td>191624.0</td>\n",
       "      <td>Telangana</td>\n",
       "      <td>NIZAMABAD</td>\n",
       "      <td>1998.0</td>\n",
       "      <td>Kharif</td>\n",
       "      <td>Jowar</td>\n",
       "      <td>3400.0</td>\n",
       "      <td>2000.0</td>\n",
       "    </tr>\n",
       "  </tbody>\n",
       "</table>\n",
       "</div>"
      ],
      "text/plain": [
       "   Sno                   State_Name District_Name  Crop_Year      Season  \\\n",
       "0    1  Andaman and Nicobar Islands      NICOBARS       2000      Kharif   \n",
       "1    2  Andaman and Nicobar Islands      NICOBARS       2000      Kharif   \n",
       "2    3  Andaman and Nicobar Islands      NICOBARS       2000      Kharif   \n",
       "3    4  Andaman and Nicobar Islands      NICOBARS       2000  Whole Year   \n",
       "4    5  Andaman and Nicobar Islands      NICOBARS       2000  Whole Year   \n",
       "\n",
       "                  Crop    Area  Production     Sno.1 State_Name.1  \\\n",
       "0             Arecanut  1254.0      2000.0  191620.0    Telangana   \n",
       "1  Other Kharif pulses     2.0         1.0  191621.0    Telangana   \n",
       "2                 Rice   102.0       321.0  191622.0    Telangana   \n",
       "3               Banana   176.0       641.0  191623.0    Telangana   \n",
       "4            Cashewnut   720.0       165.0  191624.0    Telangana   \n",
       "\n",
       "  District_Name.1  Crop_Year.1 Season.1        Crop.1   Area.1  Production.1  \n",
       "0       NIZAMABAD       1998.0   Kharif     Arhar/Tur   2200.0         800.0  \n",
       "1       NIZAMABAD       1998.0   Kharif   Castor seed    200.0         100.0  \n",
       "2       NIZAMABAD       1998.0   Kharif  Cotton(lint)  20000.0       28500.0  \n",
       "3       NIZAMABAD       1998.0   Kharif     Groundnut    300.0         400.0  \n",
       "4       NIZAMABAD       1998.0   Kharif         Jowar   3400.0        2000.0  "
      ]
     },
     "execution_count": 5,
     "metadata": {},
     "output_type": "execute_result"
    }
   ],
   "source": [
    "crop_df.head()"
   ]
  },
  {
   "cell_type": "markdown",
   "id": "f6d347dd",
   "metadata": {},
   "source": [
    "#### Arranging the data in given in a systematic manner , which will make it easy to read "
   ]
  },
  {
   "cell_type": "code",
   "execution_count": 6,
   "id": "49e5db03",
   "metadata": {},
   "outputs": [],
   "source": [
    "similar_columns1 = crop_df[['Sno.1','State_Name.1','District_Name.1','Crop_Year.1','Season.1','Crop.1','Area.1','Production.1']]"
   ]
  },
  {
   "cell_type": "code",
   "execution_count": 7,
   "id": "fff08db4",
   "metadata": {},
   "outputs": [],
   "source": [
    "similar_columns1=similar_columns1.rename(columns={'Sno.1':'Sno','State_Name.1':'State_Name','District_Name.1':'District_Name','Crop_Year.1':'Crop_Year','Season.1':'Season','Crop.1':'Crop','Area.1':'Area','Production.1':'Production'})"
   ]
  },
  {
   "cell_type": "code",
   "execution_count": 8,
   "id": "0be19d21",
   "metadata": {},
   "outputs": [],
   "source": [
    "similar_columns1 = similar_columns1.dropna()"
   ]
  },
  {
   "cell_type": "code",
   "execution_count": 9,
   "id": "1c2d289d",
   "metadata": {},
   "outputs": [
    {
     "data": {
      "text/html": [
       "<div>\n",
       "<style scoped>\n",
       "    .dataframe tbody tr th:only-of-type {\n",
       "        vertical-align: middle;\n",
       "    }\n",
       "\n",
       "    .dataframe tbody tr th {\n",
       "        vertical-align: top;\n",
       "    }\n",
       "\n",
       "    .dataframe thead th {\n",
       "        text-align: right;\n",
       "    }\n",
       "</style>\n",
       "<table border=\"1\" class=\"dataframe\">\n",
       "  <thead>\n",
       "    <tr style=\"text-align: right;\">\n",
       "      <th></th>\n",
       "      <th>Sno</th>\n",
       "      <th>State_Name</th>\n",
       "      <th>District_Name</th>\n",
       "      <th>Crop_Year</th>\n",
       "      <th>Season</th>\n",
       "      <th>Crop</th>\n",
       "      <th>Area</th>\n",
       "      <th>Production</th>\n",
       "    </tr>\n",
       "  </thead>\n",
       "  <tbody>\n",
       "    <tr>\n",
       "      <th>0</th>\n",
       "      <td>191620.0</td>\n",
       "      <td>Telangana</td>\n",
       "      <td>NIZAMABAD</td>\n",
       "      <td>1998.0</td>\n",
       "      <td>Kharif</td>\n",
       "      <td>Arhar/Tur</td>\n",
       "      <td>2200.0</td>\n",
       "      <td>800.0</td>\n",
       "    </tr>\n",
       "    <tr>\n",
       "      <th>1</th>\n",
       "      <td>191621.0</td>\n",
       "      <td>Telangana</td>\n",
       "      <td>NIZAMABAD</td>\n",
       "      <td>1998.0</td>\n",
       "      <td>Kharif</td>\n",
       "      <td>Castor seed</td>\n",
       "      <td>200.0</td>\n",
       "      <td>100.0</td>\n",
       "    </tr>\n",
       "    <tr>\n",
       "      <th>2</th>\n",
       "      <td>191622.0</td>\n",
       "      <td>Telangana</td>\n",
       "      <td>NIZAMABAD</td>\n",
       "      <td>1998.0</td>\n",
       "      <td>Kharif</td>\n",
       "      <td>Cotton(lint)</td>\n",
       "      <td>20000.0</td>\n",
       "      <td>28500.0</td>\n",
       "    </tr>\n",
       "    <tr>\n",
       "      <th>3</th>\n",
       "      <td>191623.0</td>\n",
       "      <td>Telangana</td>\n",
       "      <td>NIZAMABAD</td>\n",
       "      <td>1998.0</td>\n",
       "      <td>Kharif</td>\n",
       "      <td>Groundnut</td>\n",
       "      <td>300.0</td>\n",
       "      <td>400.0</td>\n",
       "    </tr>\n",
       "    <tr>\n",
       "      <th>4</th>\n",
       "      <td>191624.0</td>\n",
       "      <td>Telangana</td>\n",
       "      <td>NIZAMABAD</td>\n",
       "      <td>1998.0</td>\n",
       "      <td>Kharif</td>\n",
       "      <td>Jowar</td>\n",
       "      <td>3400.0</td>\n",
       "      <td>2000.0</td>\n",
       "    </tr>\n",
       "  </tbody>\n",
       "</table>\n",
       "</div>"
      ],
      "text/plain": [
       "        Sno State_Name District_Name  Crop_Year  Season          Crop  \\\n",
       "0  191620.0  Telangana     NIZAMABAD     1998.0  Kharif     Arhar/Tur   \n",
       "1  191621.0  Telangana     NIZAMABAD     1998.0  Kharif   Castor seed   \n",
       "2  191622.0  Telangana     NIZAMABAD     1998.0  Kharif  Cotton(lint)   \n",
       "3  191623.0  Telangana     NIZAMABAD     1998.0  Kharif     Groundnut   \n",
       "4  191624.0  Telangana     NIZAMABAD     1998.0  Kharif         Jowar   \n",
       "\n",
       "      Area  Production  \n",
       "0   2200.0       800.0  \n",
       "1    200.0       100.0  \n",
       "2  20000.0     28500.0  \n",
       "3    300.0       400.0  \n",
       "4   3400.0      2000.0  "
      ]
     },
     "execution_count": 9,
     "metadata": {},
     "output_type": "execute_result"
    }
   ],
   "source": [
    "similar_columns1.head()"
   ]
  },
  {
   "cell_type": "code",
   "execution_count": 10,
   "id": "e614a2b5",
   "metadata": {},
   "outputs": [],
   "source": [
    "similar_columns = crop_df[['Sno','State_Name','District_Name','Crop_Year','Season','Crop','Area','Production']]"
   ]
  },
  {
   "cell_type": "code",
   "execution_count": 11,
   "id": "b6e1cffe",
   "metadata": {},
   "outputs": [
    {
     "data": {
      "text/html": [
       "<div>\n",
       "<style scoped>\n",
       "    .dataframe tbody tr th:only-of-type {\n",
       "        vertical-align: middle;\n",
       "    }\n",
       "\n",
       "    .dataframe tbody tr th {\n",
       "        vertical-align: top;\n",
       "    }\n",
       "\n",
       "    .dataframe thead th {\n",
       "        text-align: right;\n",
       "    }\n",
       "</style>\n",
       "<table border=\"1\" class=\"dataframe\">\n",
       "  <thead>\n",
       "    <tr style=\"text-align: right;\">\n",
       "      <th></th>\n",
       "      <th>Sno</th>\n",
       "      <th>State_Name</th>\n",
       "      <th>District_Name</th>\n",
       "      <th>Crop_Year</th>\n",
       "      <th>Season</th>\n",
       "      <th>Crop</th>\n",
       "      <th>Area</th>\n",
       "      <th>Production</th>\n",
       "    </tr>\n",
       "  </thead>\n",
       "  <tbody>\n",
       "    <tr>\n",
       "      <th>0</th>\n",
       "      <td>1</td>\n",
       "      <td>Andaman and Nicobar Islands</td>\n",
       "      <td>NICOBARS</td>\n",
       "      <td>2000</td>\n",
       "      <td>Kharif</td>\n",
       "      <td>Arecanut</td>\n",
       "      <td>1254.0</td>\n",
       "      <td>2000.0</td>\n",
       "    </tr>\n",
       "    <tr>\n",
       "      <th>1</th>\n",
       "      <td>2</td>\n",
       "      <td>Andaman and Nicobar Islands</td>\n",
       "      <td>NICOBARS</td>\n",
       "      <td>2000</td>\n",
       "      <td>Kharif</td>\n",
       "      <td>Other Kharif pulses</td>\n",
       "      <td>2.0</td>\n",
       "      <td>1.0</td>\n",
       "    </tr>\n",
       "    <tr>\n",
       "      <th>2</th>\n",
       "      <td>3</td>\n",
       "      <td>Andaman and Nicobar Islands</td>\n",
       "      <td>NICOBARS</td>\n",
       "      <td>2000</td>\n",
       "      <td>Kharif</td>\n",
       "      <td>Rice</td>\n",
       "      <td>102.0</td>\n",
       "      <td>321.0</td>\n",
       "    </tr>\n",
       "    <tr>\n",
       "      <th>3</th>\n",
       "      <td>4</td>\n",
       "      <td>Andaman and Nicobar Islands</td>\n",
       "      <td>NICOBARS</td>\n",
       "      <td>2000</td>\n",
       "      <td>Whole Year</td>\n",
       "      <td>Banana</td>\n",
       "      <td>176.0</td>\n",
       "      <td>641.0</td>\n",
       "    </tr>\n",
       "    <tr>\n",
       "      <th>4</th>\n",
       "      <td>5</td>\n",
       "      <td>Andaman and Nicobar Islands</td>\n",
       "      <td>NICOBARS</td>\n",
       "      <td>2000</td>\n",
       "      <td>Whole Year</td>\n",
       "      <td>Cashewnut</td>\n",
       "      <td>720.0</td>\n",
       "      <td>165.0</td>\n",
       "    </tr>\n",
       "  </tbody>\n",
       "</table>\n",
       "</div>"
      ],
      "text/plain": [
       "   Sno                   State_Name District_Name  Crop_Year      Season  \\\n",
       "0    1  Andaman and Nicobar Islands      NICOBARS       2000      Kharif   \n",
       "1    2  Andaman and Nicobar Islands      NICOBARS       2000      Kharif   \n",
       "2    3  Andaman and Nicobar Islands      NICOBARS       2000      Kharif   \n",
       "3    4  Andaman and Nicobar Islands      NICOBARS       2000  Whole Year   \n",
       "4    5  Andaman and Nicobar Islands      NICOBARS       2000  Whole Year   \n",
       "\n",
       "                  Crop    Area  Production  \n",
       "0             Arecanut  1254.0      2000.0  \n",
       "1  Other Kharif pulses     2.0         1.0  \n",
       "2                 Rice   102.0       321.0  \n",
       "3               Banana   176.0       641.0  \n",
       "4            Cashewnut   720.0       165.0  "
      ]
     },
     "execution_count": 11,
     "metadata": {},
     "output_type": "execute_result"
    }
   ],
   "source": [
    "similar_columns.head()"
   ]
  },
  {
   "cell_type": "code",
   "execution_count": 12,
   "id": "a79271d2",
   "metadata": {},
   "outputs": [],
   "source": [
    "new_crop_df = pd.concat([similar_columns,similar_columns1],ignore_index=True)"
   ]
  },
  {
   "cell_type": "code",
   "execution_count": 13,
   "id": "c96de816",
   "metadata": {},
   "outputs": [
    {
     "data": {
      "text/html": [
       "<div>\n",
       "<style scoped>\n",
       "    .dataframe tbody tr th:only-of-type {\n",
       "        vertical-align: middle;\n",
       "    }\n",
       "\n",
       "    .dataframe tbody tr th {\n",
       "        vertical-align: top;\n",
       "    }\n",
       "\n",
       "    .dataframe thead th {\n",
       "        text-align: right;\n",
       "    }\n",
       "</style>\n",
       "<table border=\"1\" class=\"dataframe\">\n",
       "  <thead>\n",
       "    <tr style=\"text-align: right;\">\n",
       "      <th></th>\n",
       "      <th>Sno</th>\n",
       "      <th>State_Name</th>\n",
       "      <th>District_Name</th>\n",
       "      <th>Crop_Year</th>\n",
       "      <th>Season</th>\n",
       "      <th>Crop</th>\n",
       "      <th>Area</th>\n",
       "      <th>Production</th>\n",
       "    </tr>\n",
       "  </thead>\n",
       "  <tbody>\n",
       "    <tr>\n",
       "      <th>0</th>\n",
       "      <td>1.0</td>\n",
       "      <td>Andaman and Nicobar Islands</td>\n",
       "      <td>NICOBARS</td>\n",
       "      <td>2000.0</td>\n",
       "      <td>Kharif</td>\n",
       "      <td>Arecanut</td>\n",
       "      <td>1254.0</td>\n",
       "      <td>2000.0</td>\n",
       "    </tr>\n",
       "    <tr>\n",
       "      <th>1</th>\n",
       "      <td>2.0</td>\n",
       "      <td>Andaman and Nicobar Islands</td>\n",
       "      <td>NICOBARS</td>\n",
       "      <td>2000.0</td>\n",
       "      <td>Kharif</td>\n",
       "      <td>Other Kharif pulses</td>\n",
       "      <td>2.0</td>\n",
       "      <td>1.0</td>\n",
       "    </tr>\n",
       "    <tr>\n",
       "      <th>2</th>\n",
       "      <td>3.0</td>\n",
       "      <td>Andaman and Nicobar Islands</td>\n",
       "      <td>NICOBARS</td>\n",
       "      <td>2000.0</td>\n",
       "      <td>Kharif</td>\n",
       "      <td>Rice</td>\n",
       "      <td>102.0</td>\n",
       "      <td>321.0</td>\n",
       "    </tr>\n",
       "    <tr>\n",
       "      <th>3</th>\n",
       "      <td>4.0</td>\n",
       "      <td>Andaman and Nicobar Islands</td>\n",
       "      <td>NICOBARS</td>\n",
       "      <td>2000.0</td>\n",
       "      <td>Whole Year</td>\n",
       "      <td>Banana</td>\n",
       "      <td>176.0</td>\n",
       "      <td>641.0</td>\n",
       "    </tr>\n",
       "    <tr>\n",
       "      <th>4</th>\n",
       "      <td>5.0</td>\n",
       "      <td>Andaman and Nicobar Islands</td>\n",
       "      <td>NICOBARS</td>\n",
       "      <td>2000.0</td>\n",
       "      <td>Whole Year</td>\n",
       "      <td>Cashewnut</td>\n",
       "      <td>720.0</td>\n",
       "      <td>165.0</td>\n",
       "    </tr>\n",
       "    <tr>\n",
       "      <th>...</th>\n",
       "      <td>...</td>\n",
       "      <td>...</td>\n",
       "      <td>...</td>\n",
       "      <td>...</td>\n",
       "      <td>...</td>\n",
       "      <td>...</td>\n",
       "      <td>...</td>\n",
       "      <td>...</td>\n",
       "    </tr>\n",
       "    <tr>\n",
       "      <th>245828</th>\n",
       "      <td>246087.0</td>\n",
       "      <td>West Bengal</td>\n",
       "      <td>PURULIA</td>\n",
       "      <td>2014.0</td>\n",
       "      <td>Summer</td>\n",
       "      <td>Rice</td>\n",
       "      <td>306.0</td>\n",
       "      <td>801.0</td>\n",
       "    </tr>\n",
       "    <tr>\n",
       "      <th>245829</th>\n",
       "      <td>246088.0</td>\n",
       "      <td>West Bengal</td>\n",
       "      <td>PURULIA</td>\n",
       "      <td>2014.0</td>\n",
       "      <td>Summer</td>\n",
       "      <td>Sesamum</td>\n",
       "      <td>627.0</td>\n",
       "      <td>463.0</td>\n",
       "    </tr>\n",
       "    <tr>\n",
       "      <th>245830</th>\n",
       "      <td>246089.0</td>\n",
       "      <td>West Bengal</td>\n",
       "      <td>PURULIA</td>\n",
       "      <td>2014.0</td>\n",
       "      <td>Whole Year</td>\n",
       "      <td>Sugarcane</td>\n",
       "      <td>324.0</td>\n",
       "      <td>16250.0</td>\n",
       "    </tr>\n",
       "    <tr>\n",
       "      <th>245831</th>\n",
       "      <td>246090.0</td>\n",
       "      <td>West Bengal</td>\n",
       "      <td>PURULIA</td>\n",
       "      <td>2014.0</td>\n",
       "      <td>Winter</td>\n",
       "      <td>Rice</td>\n",
       "      <td>279151.0</td>\n",
       "      <td>597899.0</td>\n",
       "    </tr>\n",
       "    <tr>\n",
       "      <th>245832</th>\n",
       "      <td>246091.0</td>\n",
       "      <td>West Bengal</td>\n",
       "      <td>PURULIA</td>\n",
       "      <td>2014.0</td>\n",
       "      <td>Winter</td>\n",
       "      <td>Sesamum</td>\n",
       "      <td>175.0</td>\n",
       "      <td>88.0</td>\n",
       "    </tr>\n",
       "  </tbody>\n",
       "</table>\n",
       "<p>245833 rows × 8 columns</p>\n",
       "</div>"
      ],
      "text/plain": [
       "             Sno                   State_Name District_Name  Crop_Year  \\\n",
       "0            1.0  Andaman and Nicobar Islands      NICOBARS     2000.0   \n",
       "1            2.0  Andaman and Nicobar Islands      NICOBARS     2000.0   \n",
       "2            3.0  Andaman and Nicobar Islands      NICOBARS     2000.0   \n",
       "3            4.0  Andaman and Nicobar Islands      NICOBARS     2000.0   \n",
       "4            5.0  Andaman and Nicobar Islands      NICOBARS     2000.0   \n",
       "...          ...                          ...           ...        ...   \n",
       "245828  246087.0                  West Bengal       PURULIA     2014.0   \n",
       "245829  246088.0                  West Bengal       PURULIA     2014.0   \n",
       "245830  246089.0                  West Bengal       PURULIA     2014.0   \n",
       "245831  246090.0                  West Bengal       PURULIA     2014.0   \n",
       "245832  246091.0                  West Bengal       PURULIA     2014.0   \n",
       "\n",
       "            Season                 Crop      Area  Production  \n",
       "0           Kharif             Arecanut    1254.0      2000.0  \n",
       "1           Kharif  Other Kharif pulses       2.0         1.0  \n",
       "2           Kharif                 Rice     102.0       321.0  \n",
       "3       Whole Year               Banana     176.0       641.0  \n",
       "4       Whole Year            Cashewnut     720.0       165.0  \n",
       "...            ...                  ...       ...         ...  \n",
       "245828      Summer                 Rice     306.0       801.0  \n",
       "245829      Summer              Sesamum     627.0       463.0  \n",
       "245830  Whole Year            Sugarcane     324.0     16250.0  \n",
       "245831      Winter                 Rice  279151.0    597899.0  \n",
       "245832      Winter              Sesamum     175.0        88.0  \n",
       "\n",
       "[245833 rows x 8 columns]"
      ]
     },
     "execution_count": 13,
     "metadata": {},
     "output_type": "execute_result"
    }
   ],
   "source": [
    "new_crop_df"
   ]
  },
  {
   "cell_type": "code",
   "execution_count": 14,
   "id": "b8774d13",
   "metadata": {},
   "outputs": [
    {
     "name": "stdout",
     "output_type": "stream",
     "text": [
      "<class 'pandas.core.frame.DataFrame'>\n",
      "RangeIndex: 245833 entries, 0 to 245832\n",
      "Data columns (total 8 columns):\n",
      " #   Column         Non-Null Count   Dtype  \n",
      "---  ------         --------------   -----  \n",
      " 0   Sno            245833 non-null  float64\n",
      " 1   State_Name     245833 non-null  object \n",
      " 2   District_Name  245833 non-null  object \n",
      " 3   Crop_Year      245833 non-null  float64\n",
      " 4   Season         245833 non-null  object \n",
      " 5   Crop           245833 non-null  object \n",
      " 6   Area           245833 non-null  float64\n",
      " 7   Production     242361 non-null  float64\n",
      "dtypes: float64(4), object(4)\n",
      "memory usage: 15.0+ MB\n"
     ]
    }
   ],
   "source": [
    "new_crop_df.info()"
   ]
  },
  {
   "cell_type": "code",
   "execution_count": 15,
   "id": "91a29671",
   "metadata": {},
   "outputs": [],
   "source": [
    "new_crop_df = new_crop_df.astype({'Sno': int})\n",
    "new_crop_df = new_crop_df.astype({'Crop_Year': int})"
   ]
  },
  {
   "cell_type": "markdown",
   "id": "2f835073",
   "metadata": {},
   "source": [
    "Checking for how many years are provided in data"
   ]
  },
  {
   "cell_type": "code",
   "execution_count": 16,
   "id": "3e9a4479",
   "metadata": {},
   "outputs": [
    {
     "data": {
      "text/plain": [
       "19"
      ]
     },
     "execution_count": 16,
     "metadata": {},
     "output_type": "execute_result"
    }
   ],
   "source": [
    "new_crop_df[\"Crop_Year\"].nunique()"
   ]
  },
  {
   "cell_type": "markdown",
   "id": "23109be5",
   "metadata": {},
   "source": [
    "Checking for null values"
   ]
  },
  {
   "cell_type": "code",
   "execution_count": 17,
   "id": "5e18421c",
   "metadata": {},
   "outputs": [
    {
     "data": {
      "text/plain": [
       "Sno                 0\n",
       "State_Name          0\n",
       "District_Name       0\n",
       "Crop_Year           0\n",
       "Season              0\n",
       "Crop                0\n",
       "Area                0\n",
       "Production       3472\n",
       "dtype: int64"
      ]
     },
     "execution_count": 17,
     "metadata": {},
     "output_type": "execute_result"
    }
   ],
   "source": [
    "new_crop_df.isnull().sum()"
   ]
  },
  {
   "cell_type": "markdown",
   "id": "6791a807",
   "metadata": {},
   "source": [
    "We can observe from above null check , that there are nulls present in production, so basically we will have to drop null to get appropriate visualisations"
   ]
  },
  {
   "cell_type": "code",
   "execution_count": 18,
   "id": "b54e358e",
   "metadata": {},
   "outputs": [],
   "source": [
    "new_crop_df = new_crop_df.dropna()"
   ]
  },
  {
   "cell_type": "code",
   "execution_count": 19,
   "id": "6be27379",
   "metadata": {},
   "outputs": [
    {
     "data": {
      "text/html": [
       "<div>\n",
       "<style scoped>\n",
       "    .dataframe tbody tr th:only-of-type {\n",
       "        vertical-align: middle;\n",
       "    }\n",
       "\n",
       "    .dataframe tbody tr th {\n",
       "        vertical-align: top;\n",
       "    }\n",
       "\n",
       "    .dataframe thead th {\n",
       "        text-align: right;\n",
       "    }\n",
       "</style>\n",
       "<table border=\"1\" class=\"dataframe\">\n",
       "  <thead>\n",
       "    <tr style=\"text-align: right;\">\n",
       "      <th></th>\n",
       "      <th>Sno</th>\n",
       "      <th>State_Name</th>\n",
       "      <th>District_Name</th>\n",
       "      <th>Crop_Year</th>\n",
       "      <th>Season</th>\n",
       "      <th>Crop</th>\n",
       "      <th>Area</th>\n",
       "      <th>Production</th>\n",
       "    </tr>\n",
       "  </thead>\n",
       "  <tbody>\n",
       "    <tr>\n",
       "      <th>0</th>\n",
       "      <td>1</td>\n",
       "      <td>Andaman and Nicobar Islands</td>\n",
       "      <td>NICOBARS</td>\n",
       "      <td>2000</td>\n",
       "      <td>Kharif</td>\n",
       "      <td>Arecanut</td>\n",
       "      <td>1254.0</td>\n",
       "      <td>2000.0</td>\n",
       "    </tr>\n",
       "    <tr>\n",
       "      <th>1</th>\n",
       "      <td>2</td>\n",
       "      <td>Andaman and Nicobar Islands</td>\n",
       "      <td>NICOBARS</td>\n",
       "      <td>2000</td>\n",
       "      <td>Kharif</td>\n",
       "      <td>Other Kharif pulses</td>\n",
       "      <td>2.0</td>\n",
       "      <td>1.0</td>\n",
       "    </tr>\n",
       "    <tr>\n",
       "      <th>2</th>\n",
       "      <td>3</td>\n",
       "      <td>Andaman and Nicobar Islands</td>\n",
       "      <td>NICOBARS</td>\n",
       "      <td>2000</td>\n",
       "      <td>Kharif</td>\n",
       "      <td>Rice</td>\n",
       "      <td>102.0</td>\n",
       "      <td>321.0</td>\n",
       "    </tr>\n",
       "    <tr>\n",
       "      <th>3</th>\n",
       "      <td>4</td>\n",
       "      <td>Andaman and Nicobar Islands</td>\n",
       "      <td>NICOBARS</td>\n",
       "      <td>2000</td>\n",
       "      <td>Whole Year</td>\n",
       "      <td>Banana</td>\n",
       "      <td>176.0</td>\n",
       "      <td>641.0</td>\n",
       "    </tr>\n",
       "    <tr>\n",
       "      <th>4</th>\n",
       "      <td>5</td>\n",
       "      <td>Andaman and Nicobar Islands</td>\n",
       "      <td>NICOBARS</td>\n",
       "      <td>2000</td>\n",
       "      <td>Whole Year</td>\n",
       "      <td>Cashewnut</td>\n",
       "      <td>720.0</td>\n",
       "      <td>165.0</td>\n",
       "    </tr>\n",
       "    <tr>\n",
       "      <th>...</th>\n",
       "      <td>...</td>\n",
       "      <td>...</td>\n",
       "      <td>...</td>\n",
       "      <td>...</td>\n",
       "      <td>...</td>\n",
       "      <td>...</td>\n",
       "      <td>...</td>\n",
       "      <td>...</td>\n",
       "    </tr>\n",
       "    <tr>\n",
       "      <th>245828</th>\n",
       "      <td>246087</td>\n",
       "      <td>West Bengal</td>\n",
       "      <td>PURULIA</td>\n",
       "      <td>2014</td>\n",
       "      <td>Summer</td>\n",
       "      <td>Rice</td>\n",
       "      <td>306.0</td>\n",
       "      <td>801.0</td>\n",
       "    </tr>\n",
       "    <tr>\n",
       "      <th>245829</th>\n",
       "      <td>246088</td>\n",
       "      <td>West Bengal</td>\n",
       "      <td>PURULIA</td>\n",
       "      <td>2014</td>\n",
       "      <td>Summer</td>\n",
       "      <td>Sesamum</td>\n",
       "      <td>627.0</td>\n",
       "      <td>463.0</td>\n",
       "    </tr>\n",
       "    <tr>\n",
       "      <th>245830</th>\n",
       "      <td>246089</td>\n",
       "      <td>West Bengal</td>\n",
       "      <td>PURULIA</td>\n",
       "      <td>2014</td>\n",
       "      <td>Whole Year</td>\n",
       "      <td>Sugarcane</td>\n",
       "      <td>324.0</td>\n",
       "      <td>16250.0</td>\n",
       "    </tr>\n",
       "    <tr>\n",
       "      <th>245831</th>\n",
       "      <td>246090</td>\n",
       "      <td>West Bengal</td>\n",
       "      <td>PURULIA</td>\n",
       "      <td>2014</td>\n",
       "      <td>Winter</td>\n",
       "      <td>Rice</td>\n",
       "      <td>279151.0</td>\n",
       "      <td>597899.0</td>\n",
       "    </tr>\n",
       "    <tr>\n",
       "      <th>245832</th>\n",
       "      <td>246091</td>\n",
       "      <td>West Bengal</td>\n",
       "      <td>PURULIA</td>\n",
       "      <td>2014</td>\n",
       "      <td>Winter</td>\n",
       "      <td>Sesamum</td>\n",
       "      <td>175.0</td>\n",
       "      <td>88.0</td>\n",
       "    </tr>\n",
       "  </tbody>\n",
       "</table>\n",
       "<p>242361 rows × 8 columns</p>\n",
       "</div>"
      ],
      "text/plain": [
       "           Sno                   State_Name District_Name  Crop_Year  \\\n",
       "0            1  Andaman and Nicobar Islands      NICOBARS       2000   \n",
       "1            2  Andaman and Nicobar Islands      NICOBARS       2000   \n",
       "2            3  Andaman and Nicobar Islands      NICOBARS       2000   \n",
       "3            4  Andaman and Nicobar Islands      NICOBARS       2000   \n",
       "4            5  Andaman and Nicobar Islands      NICOBARS       2000   \n",
       "...        ...                          ...           ...        ...   \n",
       "245828  246087                  West Bengal       PURULIA       2014   \n",
       "245829  246088                  West Bengal       PURULIA       2014   \n",
       "245830  246089                  West Bengal       PURULIA       2014   \n",
       "245831  246090                  West Bengal       PURULIA       2014   \n",
       "245832  246091                  West Bengal       PURULIA       2014   \n",
       "\n",
       "            Season                 Crop      Area  Production  \n",
       "0           Kharif             Arecanut    1254.0      2000.0  \n",
       "1           Kharif  Other Kharif pulses       2.0         1.0  \n",
       "2           Kharif                 Rice     102.0       321.0  \n",
       "3       Whole Year               Banana     176.0       641.0  \n",
       "4       Whole Year            Cashewnut     720.0       165.0  \n",
       "...            ...                  ...       ...         ...  \n",
       "245828      Summer                 Rice     306.0       801.0  \n",
       "245829      Summer              Sesamum     627.0       463.0  \n",
       "245830  Whole Year            Sugarcane     324.0     16250.0  \n",
       "245831      Winter                 Rice  279151.0    597899.0  \n",
       "245832      Winter              Sesamum     175.0        88.0  \n",
       "\n",
       "[242361 rows x 8 columns]"
      ]
     },
     "execution_count": 19,
     "metadata": {},
     "output_type": "execute_result"
    }
   ],
   "source": [
    "new_crop_df"
   ]
  },
  {
   "cell_type": "code",
   "execution_count": 22,
   "id": "be373e32",
   "metadata": {},
   "outputs": [
    {
     "data": {
      "text/plain": [
       "Sno              0\n",
       "State_Name       0\n",
       "District_Name    0\n",
       "Crop_Year        0\n",
       "Season           0\n",
       "Crop             0\n",
       "Area             0\n",
       "Production       0\n",
       "dtype: int64"
      ]
     },
     "execution_count": 22,
     "metadata": {},
     "output_type": "execute_result"
    }
   ],
   "source": [
    "new_crop_df.isnull().sum()"
   ]
  },
  {
   "cell_type": "code",
   "execution_count": 44,
   "id": "f9096696",
   "metadata": {},
   "outputs": [
    {
     "data": {
      "text/plain": [
       "array(['Kharif', 'Whole Year', 'Autumn', 'Rabi', 'Summer', 'Winter'],\n",
       "      dtype=object)"
      ]
     },
     "execution_count": 44,
     "metadata": {},
     "output_type": "execute_result"
    }
   ],
   "source": [
    "new_crop_df[\"Season\"].unique()"
   ]
  },
  {
   "cell_type": "code",
   "execution_count": 74,
   "id": "a8994dc1",
   "metadata": {},
   "outputs": [
    {
     "data": {
      "text/plain": [
       "array([2000, 2001, 2002, 2003, 2004, 2005, 2006, 2010, 1997, 1998, 1999,\n",
       "       2007, 2008, 2009, 2011, 2012, 2013, 2014, 2015])"
      ]
     },
     "execution_count": 74,
     "metadata": {},
     "output_type": "execute_result"
    }
   ],
   "source": [
    "new_crop_df[\"Crop_Year\"].unique()"
   ]
  },
  {
   "cell_type": "code",
   "execution_count": 150,
   "id": "a190c792",
   "metadata": {},
   "outputs": [
    {
     "data": {
      "text/plain": [
       "Rice                 15082\n",
       "Maize                13787\n",
       "Moong(Green Gram)    10106\n",
       "Urad                  9710\n",
       "Sesamum               8821\n",
       "Groundnut             8770\n",
       "Wheat                 7878\n",
       "Sugarcane             7827\n",
       "Rapeseed &Mustard     7533\n",
       "Arhar/Tur             7476\n",
       "Name: Crop, dtype: int64"
      ]
     },
     "execution_count": 150,
     "metadata": {},
     "output_type": "execute_result"
    }
   ],
   "source": [
    "new_crop_df[\"Crop\"].value_counts()[:10]"
   ]
  },
  {
   "cell_type": "code",
   "execution_count": 153,
   "id": "b82c8e85",
   "metadata": {},
   "outputs": [],
   "source": [
    "wheat_df = new_crop_df[new_crop_df[\"Crop\"]==\"Rice\"]"
   ]
  },
  {
   "cell_type": "code",
   "execution_count": null,
   "id": "f5fc2a68",
   "metadata": {},
   "outputs": [],
   "source": []
  },
  {
   "cell_type": "code",
   "execution_count": null,
   "id": "48d38898",
   "metadata": {},
   "outputs": [],
   "source": []
  },
  {
   "cell_type": "code",
   "execution_count": null,
   "id": "6c77bc52",
   "metadata": {},
   "outputs": [],
   "source": []
  },
  {
   "cell_type": "code",
   "execution_count": null,
   "id": "21e6ccce",
   "metadata": {},
   "outputs": [],
   "source": []
  },
  {
   "cell_type": "code",
   "execution_count": 24,
   "id": "bdf2fbad",
   "metadata": {},
   "outputs": [],
   "source": [
    "import seaborn as sns\n",
    "import matplotlib.pyplot as plt"
   ]
  },
  {
   "cell_type": "markdown",
   "id": "6d9e702c",
   "metadata": {},
   "source": [
    "#### Year in which most crop was produced"
   ]
  },
  {
   "cell_type": "code",
   "execution_count": 31,
   "id": "c84d6d20",
   "metadata": {},
   "outputs": [
    {
     "data": {
      "image/png": "[encoded data removed]",
      "text/plain": [
       "<Figure size 1080x360 with 1 Axes>"
      ]
     },
     "metadata": {},
     "output_type": "display_data"
    }
   ],
   "source": [
    "sns.set_theme(style=\"whitegrid\")\n",
    "plt.figure(figsize=(15,5))\n",
    "ax = sns.barplot(x=\"Crop_Year\", y=\"Production\", data=new_crop_df)"
   ]
  },
  {
   "cell_type": "markdown",
   "id": "2030fbc1",
   "metadata": {},
   "source": [
    "From the above graph it can be observed that, in the year 2011 , most production was observed. From this observation insight can be obtained maybe there was more rain in year 2011."
   ]
  },
  {
   "cell_type": "markdown",
   "id": "98b45d09",
   "metadata": {},
   "source": [
    "#### Coorelation Among Variables"
   ]
  },
  {
   "cell_type": "code",
   "execution_count": 63,
   "id": "b3de61ef",
   "metadata": {},
   "outputs": [
    {
     "data": {
      "image/png": "[encoded data removed]",
      "text/plain": [
       "<Figure size 432x288 with 2 Axes>"
      ]
     },
     "metadata": {},
     "output_type": "display_data"
    }
   ],
   "source": [
    "plt.rcParams.update({'font.size': 10})\n",
    "plt.tick_params(axis='both', which='major', labelsize=12)\n",
    "sns.heatmap(new_crop_df.corr(),annot=True);"
   ]
  },
  {
   "cell_type": "markdown",
   "id": "2cbdf085",
   "metadata": {},
   "source": [
    "From above graph it can be observed that no value are correlated to each other, if there would be amount data available for rain , then basiclly we could have checked for correlation between production and amout of rain"
   ]
  },
  {
   "cell_type": "markdown",
   "id": "6fb70775",
   "metadata": {},
   "source": [
    "#### Top five crops produced in India"
   ]
  },
  {
   "cell_type": "code",
   "execution_count": 71,
   "id": "e94ddfa9",
   "metadata": {},
   "outputs": [],
   "source": [
    "pd.set_option('display.float_format', '{:.2f}'.format)\n",
    "df = new_crop_df.groupby('Crop').sum().reset_index()[['Crop','Production']]"
   ]
  },
  {
   "cell_type": "code",
   "execution_count": 80,
   "id": "eb685fc2",
   "metadata": {},
   "outputs": [],
   "source": [
    "df = df.sort_values('Production',ascending=False)"
   ]
  },
  {
   "cell_type": "code",
   "execution_count": 87,
   "id": "a35e6bd2",
   "metadata": {},
   "outputs": [
    {
     "data": {
      "text/plain": [
       "<AxesSubplot:xlabel='Crop', ylabel='Production'>"
      ]
     },
     "execution_count": 87,
     "metadata": {},
     "output_type": "execute_result"
    },
    {
     "data": {
      "image/png": "[encoded data removed]",
      "text/plain": [
       "<Figure size 576x360 with 1 Axes>"
      ]
     },
     "metadata": {},
     "output_type": "display_data"
    }
   ],
   "source": [
    "sns.set_theme(style=\"whitegrid\")\n",
    "plt.figure(figsize=(8,5))\n",
    "plt.yscale('log')\n",
    "sns.barplot(x=\"Crop\", y=\"Production\", data=df.head(5))"
   ]
  },
  {
   "cell_type": "markdown",
   "id": "286543d7",
   "metadata": {},
   "source": [
    "From the above table we can observe that, top produced crop in India is coconut, followed by sugarcane, reice, wheat, potatato"
   ]
  },
  {
   "cell_type": "markdown",
   "id": "51d30c5f",
   "metadata": {},
   "source": [
    "#### Top two crops grown per season"
   ]
  },
  {
   "cell_type": "code",
   "execution_count": 63,
   "id": "16bbbfa8",
   "metadata": {},
   "outputs": [],
   "source": [
    "pd.set_option('display.float_format', '{:.2f}'.format)\n",
    "df = new_crop_df[new_crop_df['Season'] == 'Autumn']\n",
    "df = df.groupby('Crop').sum().reset_index()[['Crop','Production']]"
   ]
  },
  {
   "cell_type": "code",
   "execution_count": 64,
   "id": "833f5712",
   "metadata": {},
   "outputs": [
    {
     "data": {
      "text/plain": [
       "<AxesSubplot:xlabel='Crop', ylabel='Production'>"
      ]
     },
     "execution_count": 64,
     "metadata": {},
     "output_type": "execute_result"
    },
    {
     "data": {
      "image/png": "[encoded data removed]",
      "text/plain": [
       "<Figure size 720x360 with 1 Axes>"
      ]
     },
     "metadata": {},
     "output_type": "display_data"
    }
   ],
   "source": [
    "sns.set_theme(style=\"whitegrid\")\n",
    "plt.figure(figsize=(10,5))\n",
    "sns.barplot(x=\"Crop\", y=\"Production\", data=df.head(2))"
   ]
  },
  {
   "cell_type": "markdown",
   "id": "c24067b3",
   "metadata": {},
   "source": [
    "From the above graph we observe that , in autumn season Banana is grown the most and at second number we have Arhar"
   ]
  },
  {
   "cell_type": "code",
   "execution_count": 72,
   "id": "5f57f5b0",
   "metadata": {},
   "outputs": [],
   "source": [
    "pd.set_option('display.float_format', '{:.2f}'.format)\n",
    "df = new_crop_df[new_crop_df['Season'] == 'Rabi']\n",
    "df = df.groupby('Crop').sum().reset_index()[['Crop','Production']]"
   ]
  },
  {
   "cell_type": "code",
   "execution_count": 73,
   "id": "2a746c64",
   "metadata": {},
   "outputs": [
    {
     "data": {
      "text/plain": [
       "<AxesSubplot:xlabel='Crop', ylabel='Production'>"
      ]
     },
     "execution_count": 73,
     "metadata": {},
     "output_type": "execute_result"
    },
    {
     "data": {
      "image/png": "[encoded data removed]",
      "text/plain": [
       "<Figure size 720x360 with 1 Axes>"
      ]
     },
     "metadata": {},
     "output_type": "display_data"
    }
   ],
   "source": [
    "sns.set_theme(style=\"whitegrid\")\n",
    "plt.figure(figsize=(10,5))\n",
    "sns.barplot(x=\"Crop\", y=\"Production\", data=df.head(2))"
   ]
  },
  {
   "cell_type": "markdown",
   "id": "f162140b",
   "metadata": {},
   "source": [
    "From the above graph we observe that , in Winter season Arecanut is grown the most and at second number we have Arhar"
   ]
  },
  {
   "cell_type": "markdown",
   "id": "9444bee3",
   "metadata": {},
   "source": [
    "#### Which state is popular for which crop"
   ]
  },
  {
   "cell_type": "code",
   "execution_count": 143,
   "id": "119046cb",
   "metadata": {},
   "outputs": [
    {
     "data": {
      "text/html": [
       "<div>\n",
       "<style scoped>\n",
       "    .dataframe tbody tr th:only-of-type {\n",
       "        vertical-align: middle;\n",
       "    }\n",
       "\n",
       "    .dataframe tbody tr th {\n",
       "        vertical-align: top;\n",
       "    }\n",
       "\n",
       "    .dataframe thead th {\n",
       "        text-align: right;\n",
       "    }\n",
       "</style>\n",
       "<table border=\"1\" class=\"dataframe\">\n",
       "  <thead>\n",
       "    <tr style=\"text-align: right;\">\n",
       "      <th></th>\n",
       "      <th>State_Name</th>\n",
       "      <th>Crop</th>\n",
       "      <th>Sno</th>\n",
       "      <th>Crop_Year</th>\n",
       "      <th>Area</th>\n",
       "      <th>Production</th>\n",
       "    </tr>\n",
       "  </thead>\n",
       "  <tbody>\n",
       "    <tr>\n",
       "      <th>5</th>\n",
       "      <td>Andaman and Nicobar Islands</td>\n",
       "      <td>Coconut</td>\n",
       "      <td>1638</td>\n",
       "      <td>36078</td>\n",
       "      <td>190722.25</td>\n",
       "      <td>717790000.00</td>\n",
       "    </tr>\n",
       "    <tr>\n",
       "      <th>32</th>\n",
       "      <td>Andhra Pradesh</td>\n",
       "      <td>Coconut</td>\n",
       "      <td>911116</td>\n",
       "      <td>339144</td>\n",
       "      <td>1332907.00</td>\n",
       "      <td>16806002260.00</td>\n",
       "    </tr>\n",
       "    <tr>\n",
       "      <th>96</th>\n",
       "      <td>Arunachal Pradesh</td>\n",
       "      <td>Rice</td>\n",
       "      <td>3048391</td>\n",
       "      <td>547621</td>\n",
       "      <td>2209673.00</td>\n",
       "      <td>2709476.60</td>\n",
       "    </tr>\n",
       "    <tr>\n",
       "      <th>110</th>\n",
       "      <td>Assam</td>\n",
       "      <td>Coconut</td>\n",
       "      <td>7543913</td>\n",
       "      <td>802144</td>\n",
       "      <td>322687.00</td>\n",
       "      <td>1954408105.00</td>\n",
       "    </tr>\n",
       "    <tr>\n",
       "      <th>178</th>\n",
       "      <td>Bihar</td>\n",
       "      <td>Sugarcane</td>\n",
       "      <td>19936182</td>\n",
       "      <td>1092831</td>\n",
       "      <td>2239010.00</td>\n",
       "      <td>106227183.00</td>\n",
       "    </tr>\n",
       "    <tr>\n",
       "      <th>196</th>\n",
       "      <td>Chandigarh</td>\n",
       "      <td>Wheat</td>\n",
       "      <td>597282</td>\n",
       "      <td>26052</td>\n",
       "      <td>8730.00</td>\n",
       "      <td>39465.00</td>\n",
       "    </tr>\n",
       "    <tr>\n",
       "      <th>227</th>\n",
       "      <td>Chhattisgarh</td>\n",
       "      <td>Rice</td>\n",
       "      <td>15017106</td>\n",
       "      <td>586298</td>\n",
       "      <td>58259645.00</td>\n",
       "      <td>81498618.00</td>\n",
       "    </tr>\n",
       "    <tr>\n",
       "      <th>258</th>\n",
       "      <td>Dadra and Nagar Haveli</td>\n",
       "      <td>Sugarcane</td>\n",
       "      <td>681769</td>\n",
       "      <td>24051</td>\n",
       "      <td>14456.00</td>\n",
       "      <td>1115995.00</td>\n",
       "    </tr>\n",
       "    <tr>\n",
       "      <th>266</th>\n",
       "      <td>Goa</td>\n",
       "      <td>Coconut</td>\n",
       "      <td>684481</td>\n",
       "      <td>24098</td>\n",
       "      <td>153021.00</td>\n",
       "      <td>503112559.00</td>\n",
       "    </tr>\n",
       "    <tr>\n",
       "      <th>304</th>\n",
       "      <td>Gujarat</td>\n",
       "      <td>Sugarcane</td>\n",
       "      <td>13912446</td>\n",
       "      <td>457007</td>\n",
       "      <td>3112400.00</td>\n",
       "      <td>212022800.00</td>\n",
       "    </tr>\n",
       "    <tr>\n",
       "      <th>346</th>\n",
       "      <td>Haryana</td>\n",
       "      <td>Wheat</td>\n",
       "      <td>21707622</td>\n",
       "      <td>635486</td>\n",
       "      <td>37734933.00</td>\n",
       "      <td>158647000.00</td>\n",
       "    </tr>\n",
       "    <tr>\n",
       "      <th>361</th>\n",
       "      <td>Himachal Pradesh</td>\n",
       "      <td>Maize</td>\n",
       "      <td>10463159</td>\n",
       "      <td>288516</td>\n",
       "      <td>3584997.00</td>\n",
       "      <td>7813360.00</td>\n",
       "    </tr>\n",
       "    <tr>\n",
       "      <th>399</th>\n",
       "      <td>Jammu and Kashmir</td>\n",
       "      <td>Maize</td>\n",
       "      <td>10156058</td>\n",
       "      <td>272545</td>\n",
       "      <td>3179109.00</td>\n",
       "      <td>4753864.00</td>\n",
       "    </tr>\n",
       "    <tr>\n",
       "      <th>433</th>\n",
       "      <td>Jharkhand</td>\n",
       "      <td>Rice</td>\n",
       "      <td>17276283</td>\n",
       "      <td>455064</td>\n",
       "      <td>7726361.13</td>\n",
       "      <td>7527411.94</td>\n",
       "    </tr>\n",
       "    <tr>\n",
       "      <th>486</th>\n",
       "      <td>Karnataka</td>\n",
       "      <td>Sugarcane</td>\n",
       "      <td>35205760</td>\n",
       "      <td>806526</td>\n",
       "      <td>5739787.00</td>\n",
       "      <td>515845482.00</td>\n",
       "    </tr>\n",
       "    <tr>\n",
       "      <th>505</th>\n",
       "      <td>Kerala</td>\n",
       "      <td>Coconut</td>\n",
       "      <td>25209173</td>\n",
       "      <td>505386</td>\n",
       "      <td>15504052.07</td>\n",
       "      <td>97803036000.00</td>\n",
       "    </tr>\n",
       "    <tr>\n",
       "      <th>598</th>\n",
       "      <td>Madhya Pradesh</td>\n",
       "      <td>Wheat</td>\n",
       "      <td>90909966</td>\n",
       "      <td>1612249</td>\n",
       "      <td>74390328.00</td>\n",
       "      <td>147153856.00</td>\n",
       "    </tr>\n",
       "    <tr>\n",
       "      <th>626</th>\n",
       "      <td>Maharashtra</td>\n",
       "      <td>Sugarcane</td>\n",
       "      <td>60235318</td>\n",
       "      <td>914761</td>\n",
       "      <td>11514728.00</td>\n",
       "      <td>938485965.00</td>\n",
       "    </tr>\n",
       "    <tr>\n",
       "      <th>666</th>\n",
       "      <td>Manipur</td>\n",
       "      <td>Rice</td>\n",
       "      <td>14808151</td>\n",
       "      <td>214182</td>\n",
       "      <td>1628585.00</td>\n",
       "      <td>3850798.00</td>\n",
       "    </tr>\n",
       "    <tr>\n",
       "      <th>703</th>\n",
       "      <td>Meghalaya</td>\n",
       "      <td>Rice</td>\n",
       "      <td>40213835</td>\n",
       "      <td>573986</td>\n",
       "      <td>1885907.00</td>\n",
       "      <td>3531474.00</td>\n",
       "    </tr>\n",
       "    <tr>\n",
       "      <th>728</th>\n",
       "      <td>Mizoram</td>\n",
       "      <td>Rice</td>\n",
       "      <td>13393178</td>\n",
       "      <td>188394</td>\n",
       "      <td>730332.00</td>\n",
       "      <td>1138604.00</td>\n",
       "    </tr>\n",
       "    <tr>\n",
       "      <th>773</th>\n",
       "      <td>Nagaland</td>\n",
       "      <td>Rice</td>\n",
       "      <td>27486486</td>\n",
       "      <td>381242</td>\n",
       "      <td>2946040.00</td>\n",
       "      <td>5269790.00</td>\n",
       "    </tr>\n",
       "    <tr>\n",
       "      <th>812</th>\n",
       "      <td>Odisha</td>\n",
       "      <td>Rice</td>\n",
       "      <td>207640902</td>\n",
       "      <td>2691122</td>\n",
       "      <td>85677043.00</td>\n",
       "      <td>119422742.00</td>\n",
       "    </tr>\n",
       "    <tr>\n",
       "      <th>831</th>\n",
       "      <td>Puducherry</td>\n",
       "      <td>Coconut</td>\n",
       "      <td>9165572</td>\n",
       "      <td>114353</td>\n",
       "      <td>30829.00</td>\n",
       "      <td>379139000.00</td>\n",
       "    </tr>\n",
       "    <tr>\n",
       "      <th>877</th>\n",
       "      <td>Punjab</td>\n",
       "      <td>Wheat</td>\n",
       "      <td>55074434</td>\n",
       "      <td>678025</td>\n",
       "      <td>62138000.00</td>\n",
       "      <td>276946000.00</td>\n",
       "    </tr>\n",
       "    <tr>\n",
       "      <th>926</th>\n",
       "      <td>Rajasthan</td>\n",
       "      <td>Wheat</td>\n",
       "      <td>76920742</td>\n",
       "      <td>903595</td>\n",
       "      <td>33613521.00</td>\n",
       "      <td>94669124.00</td>\n",
       "    </tr>\n",
       "    <tr>\n",
       "      <th>930</th>\n",
       "      <td>Sikkim</td>\n",
       "      <td>Maize</td>\n",
       "      <td>12767019</td>\n",
       "      <td>144468</td>\n",
       "      <td>692234.00</td>\n",
       "      <td>1323547.00</td>\n",
       "    </tr>\n",
       "    <tr>\n",
       "      <th>968</th>\n",
       "      <td>Tamil Nadu</td>\n",
       "      <td>Coconut</td>\n",
       "      <td>54383942</td>\n",
       "      <td>586026</td>\n",
       "      <td>3777232.00</td>\n",
       "      <td>10937742655.00</td>\n",
       "    </tr>\n",
       "    <tr>\n",
       "      <th>1042</th>\n",
       "      <td>Telangana</td>\n",
       "      <td>Coconut</td>\n",
       "      <td>10096577</td>\n",
       "      <td>104279</td>\n",
       "      <td>10592.00</td>\n",
       "      <td>105672992.00</td>\n",
       "    </tr>\n",
       "    <tr>\n",
       "      <th>1112</th>\n",
       "      <td>Tripura</td>\n",
       "      <td>Rice</td>\n",
       "      <td>15799428</td>\n",
       "      <td>160564</td>\n",
       "      <td>4288487.00</td>\n",
       "      <td>10685011.00</td>\n",
       "    </tr>\n",
       "    <tr>\n",
       "      <th>1152</th>\n",
       "      <td>Uttar Pradesh</td>\n",
       "      <td>Sugarcane</td>\n",
       "      <td>273383635</td>\n",
       "      <td>2559161</td>\n",
       "      <td>37469967.00</td>\n",
       "      <td>2202874890.00</td>\n",
       "    </tr>\n",
       "    <tr>\n",
       "      <th>1191</th>\n",
       "      <td>Uttarakhand</td>\n",
       "      <td>Sugarcane</td>\n",
       "      <td>17787818</td>\n",
       "      <td>152545</td>\n",
       "      <td>1655588.00</td>\n",
       "      <td>98902736.00</td>\n",
       "    </tr>\n",
       "    <tr>\n",
       "      <th>1205</th>\n",
       "      <td>West Bengal</td>\n",
       "      <td>Coconut</td>\n",
       "      <td>51785638</td>\n",
       "      <td>432540</td>\n",
       "      <td>304317.00</td>\n",
       "      <td>717841216.00</td>\n",
       "    </tr>\n",
       "  </tbody>\n",
       "</table>\n",
       "</div>"
      ],
      "text/plain": [
       "                       State_Name       Crop        Sno  Crop_Year  \\\n",
       "5     Andaman and Nicobar Islands    Coconut       1638      36078   \n",
       "32                 Andhra Pradesh    Coconut     911116     339144   \n",
       "96              Arunachal Pradesh       Rice    3048391     547621   \n",
       "110                         Assam    Coconut    7543913     802144   \n",
       "178                         Bihar  Sugarcane   19936182    1092831   \n",
       "196                    Chandigarh      Wheat     597282      26052   \n",
       "227                  Chhattisgarh       Rice   15017106     586298   \n",
       "258        Dadra and Nagar Haveli  Sugarcane     681769      24051   \n",
       "266                           Goa    Coconut     684481      24098   \n",
       "304                       Gujarat  Sugarcane   13912446     457007   \n",
       "346                       Haryana      Wheat   21707622     635486   \n",
       "361              Himachal Pradesh      Maize   10463159     288516   \n",
       "399             Jammu and Kashmir      Maize   10156058     272545   \n",
       "433                     Jharkhand       Rice   17276283     455064   \n",
       "486                     Karnataka  Sugarcane   35205760     806526   \n",
       "505                        Kerala    Coconut   25209173     505386   \n",
       "598                Madhya Pradesh      Wheat   90909966    1612249   \n",
       "626                   Maharashtra  Sugarcane   60235318     914761   \n",
       "666                       Manipur       Rice   14808151     214182   \n",
       "703                     Meghalaya       Rice   40213835     573986   \n",
       "728                       Mizoram       Rice   13393178     188394   \n",
       "773                      Nagaland       Rice   27486486     381242   \n",
       "812                        Odisha       Rice  207640902    2691122   \n",
       "831                    Puducherry    Coconut    9165572     114353   \n",
       "877                        Punjab      Wheat   55074434     678025   \n",
       "926                     Rajasthan      Wheat   76920742     903595   \n",
       "930                        Sikkim      Maize   12767019     144468   \n",
       "968                    Tamil Nadu    Coconut   54383942     586026   \n",
       "1042                    Telangana    Coconut   10096577     104279   \n",
       "1112                      Tripura       Rice   15799428     160564   \n",
       "1152                Uttar Pradesh  Sugarcane  273383635    2559161   \n",
       "1191                  Uttarakhand  Sugarcane   17787818     152545   \n",
       "1205                  West Bengal    Coconut   51785638     432540   \n",
       "\n",
       "            Area     Production  \n",
       "5      190722.25   717790000.00  \n",
       "32    1332907.00 16806002260.00  \n",
       "96    2209673.00     2709476.60  \n",
       "110    322687.00  1954408105.00  \n",
       "178   2239010.00   106227183.00  \n",
       "196      8730.00       39465.00  \n",
       "227  58259645.00    81498618.00  \n",
       "258     14456.00     1115995.00  \n",
       "266    153021.00   503112559.00  \n",
       "304   3112400.00   212022800.00  \n",
       "346  37734933.00   158647000.00  \n",
       "361   3584997.00     7813360.00  \n",
       "399   3179109.00     4753864.00  \n",
       "433   7726361.13     7527411.94  \n",
       "486   5739787.00   515845482.00  \n",
       "505  15504052.07 97803036000.00  \n",
       "598  74390328.00   147153856.00  \n",
       "626  11514728.00   938485965.00  \n",
       "666   1628585.00     3850798.00  \n",
       "703   1885907.00     3531474.00  \n",
       "728    730332.00     1138604.00  \n",
       "773   2946040.00     5269790.00  \n",
       "812  85677043.00   119422742.00  \n",
       "831     30829.00   379139000.00  \n",
       "877  62138000.00   276946000.00  \n",
       "926  33613521.00    94669124.00  \n",
       "930    692234.00     1323547.00  \n",
       "968   3777232.00 10937742655.00  \n",
       "1042    10592.00   105672992.00  \n",
       "1112  4288487.00    10685011.00  \n",
       "1152 37469967.00  2202874890.00  \n",
       "1191  1655588.00    98902736.00  \n",
       "1205   304317.00   717841216.00  "
      ]
     },
     "execution_count": 143,
     "metadata": {},
     "output_type": "execute_result"
    }
   ],
   "source": [
    "df = new_crop_df.groupby(['State_Name','Crop']).sum().reset_index()\n",
    "f = df[df['Production'] == df.groupby(['State_Name'])['Production'].transform('max')]\n",
    "f"
   ]
  },
  {
   "cell_type": "markdown",
   "id": "e0ce23d0",
   "metadata": {},
   "source": [
    "From above table we can get an insights of which state produces , which type of crop the most."
   ]
  },
  {
   "cell_type": "markdown",
   "id": "05f0689d",
   "metadata": {},
   "source": [
    "#### Which state has high production rate"
   ]
  },
  {
   "cell_type": "code",
   "execution_count": 78,
   "id": "e4450c10",
   "metadata": {},
   "outputs": [
    {
     "data": {
      "text/html": [
       "<div>\n",
       "<style scoped>\n",
       "    .dataframe tbody tr th:only-of-type {\n",
       "        vertical-align: middle;\n",
       "    }\n",
       "\n",
       "    .dataframe tbody tr th {\n",
       "        vertical-align: top;\n",
       "    }\n",
       "\n",
       "    .dataframe thead th {\n",
       "        text-align: right;\n",
       "    }\n",
       "</style>\n",
       "<table border=\"1\" class=\"dataframe\">\n",
       "  <thead>\n",
       "    <tr style=\"text-align: right;\">\n",
       "      <th></th>\n",
       "      <th>State_Name</th>\n",
       "      <th>Production</th>\n",
       "    </tr>\n",
       "  </thead>\n",
       "  <tbody>\n",
       "    <tr>\n",
       "      <th>15</th>\n",
       "      <td>Kerala</td>\n",
       "      <td>97880045375.70</td>\n",
       "    </tr>\n",
       "    <tr>\n",
       "      <th>1</th>\n",
       "      <td>Andhra Pradesh</td>\n",
       "      <td>17324590296.00</td>\n",
       "    </tr>\n",
       "    <tr>\n",
       "      <th>27</th>\n",
       "      <td>Tamil Nadu</td>\n",
       "      <td>12076443048.93</td>\n",
       "    </tr>\n",
       "    <tr>\n",
       "      <th>30</th>\n",
       "      <td>Uttar Pradesh</td>\n",
       "      <td>3234492662.70</td>\n",
       "    </tr>\n",
       "    <tr>\n",
       "      <th>3</th>\n",
       "      <td>Assam</td>\n",
       "      <td>2111751759.00</td>\n",
       "    </tr>\n",
       "    <tr>\n",
       "      <th>32</th>\n",
       "      <td>West Bengal</td>\n",
       "      <td>1397904389.70</td>\n",
       "    </tr>\n",
       "    <tr>\n",
       "      <th>17</th>\n",
       "      <td>Maharashtra</td>\n",
       "      <td>1263640606.20</td>\n",
       "    </tr>\n",
       "    <tr>\n",
       "      <th>14</th>\n",
       "      <td>Karnataka</td>\n",
       "      <td>863429811.68</td>\n",
       "    </tr>\n",
       "    <tr>\n",
       "      <th>0</th>\n",
       "      <td>Andaman and Nicobar Islands</td>\n",
       "      <td>718223239.99</td>\n",
       "    </tr>\n",
       "    <tr>\n",
       "      <th>24</th>\n",
       "      <td>Punjab</td>\n",
       "      <td>586385001.00</td>\n",
       "    </tr>\n",
       "    <tr>\n",
       "      <th>9</th>\n",
       "      <td>Gujarat</td>\n",
       "      <td>524291337.00</td>\n",
       "    </tr>\n",
       "    <tr>\n",
       "      <th>8</th>\n",
       "      <td>Goa</td>\n",
       "      <td>505755757.58</td>\n",
       "    </tr>\n",
       "    <tr>\n",
       "      <th>16</th>\n",
       "      <td>Madhya Pradesh</td>\n",
       "      <td>448840738.66</td>\n",
       "    </tr>\n",
       "    <tr>\n",
       "      <th>23</th>\n",
       "      <td>Puducherry</td>\n",
       "      <td>384724502.00</td>\n",
       "    </tr>\n",
       "    <tr>\n",
       "      <th>10</th>\n",
       "      <td>Haryana</td>\n",
       "      <td>381273890.00</td>\n",
       "    </tr>\n",
       "    <tr>\n",
       "      <th>4</th>\n",
       "      <td>Bihar</td>\n",
       "      <td>366483596.66</td>\n",
       "    </tr>\n",
       "    <tr>\n",
       "      <th>28</th>\n",
       "      <td>Telangana</td>\n",
       "      <td>335147930.00</td>\n",
       "    </tr>\n",
       "    <tr>\n",
       "      <th>25</th>\n",
       "      <td>Rajasthan</td>\n",
       "      <td>281320270.50</td>\n",
       "    </tr>\n",
       "    <tr>\n",
       "      <th>22</th>\n",
       "      <td>Odisha</td>\n",
       "      <td>160904070.10</td>\n",
       "    </tr>\n",
       "    <tr>\n",
       "      <th>31</th>\n",
       "      <td>Uttarakhand</td>\n",
       "      <td>132177355.00</td>\n",
       "    </tr>\n",
       "    <tr>\n",
       "      <th>6</th>\n",
       "      <td>Chhattisgarh</td>\n",
       "      <td>100951908.01</td>\n",
       "    </tr>\n",
       "    <tr>\n",
       "      <th>11</th>\n",
       "      <td>Himachal Pradesh</td>\n",
       "      <td>17805168.60</td>\n",
       "    </tr>\n",
       "    <tr>\n",
       "      <th>12</th>\n",
       "      <td>Jammu and Kashmir</td>\n",
       "      <td>13291015.70</td>\n",
       "    </tr>\n",
       "    <tr>\n",
       "      <th>21</th>\n",
       "      <td>Nagaland</td>\n",
       "      <td>12765950.00</td>\n",
       "    </tr>\n",
       "    <tr>\n",
       "      <th>29</th>\n",
       "      <td>Tripura</td>\n",
       "      <td>12522917.00</td>\n",
       "    </tr>\n",
       "    <tr>\n",
       "      <th>19</th>\n",
       "      <td>Meghalaya</td>\n",
       "      <td>12112496.00</td>\n",
       "    </tr>\n",
       "    <tr>\n",
       "      <th>13</th>\n",
       "      <td>Jharkhand</td>\n",
       "      <td>10777741.75</td>\n",
       "    </tr>\n",
       "    <tr>\n",
       "      <th>2</th>\n",
       "      <td>Arunachal Pradesh</td>\n",
       "      <td>6823912.60</td>\n",
       "    </tr>\n",
       "    <tr>\n",
       "      <th>18</th>\n",
       "      <td>Manipur</td>\n",
       "      <td>5230917.00</td>\n",
       "    </tr>\n",
       "    <tr>\n",
       "      <th>26</th>\n",
       "      <td>Sikkim</td>\n",
       "      <td>2435735.00</td>\n",
       "    </tr>\n",
       "    <tr>\n",
       "      <th>7</th>\n",
       "      <td>Dadra and Nagar Haveli</td>\n",
       "      <td>1847871.00</td>\n",
       "    </tr>\n",
       "    <tr>\n",
       "      <th>20</th>\n",
       "      <td>Mizoram</td>\n",
       "      <td>1661539.83</td>\n",
       "    </tr>\n",
       "    <tr>\n",
       "      <th>5</th>\n",
       "      <td>Chandigarh</td>\n",
       "      <td>63956.50</td>\n",
       "    </tr>\n",
       "  </tbody>\n",
       "</table>\n",
       "</div>"
      ],
      "text/plain": [
       "                     State_Name     Production\n",
       "15                       Kerala 97880045375.70\n",
       "1                Andhra Pradesh 17324590296.00\n",
       "27                   Tamil Nadu 12076443048.93\n",
       "30                Uttar Pradesh  3234492662.70\n",
       "3                         Assam  2111751759.00\n",
       "32                  West Bengal  1397904389.70\n",
       "17                  Maharashtra  1263640606.20\n",
       "14                    Karnataka   863429811.68\n",
       "0   Andaman and Nicobar Islands   718223239.99\n",
       "24                       Punjab   586385001.00\n",
       "9                       Gujarat   524291337.00\n",
       "8                           Goa   505755757.58\n",
       "16               Madhya Pradesh   448840738.66\n",
       "23                   Puducherry   384724502.00\n",
       "10                      Haryana   381273890.00\n",
       "4                         Bihar   366483596.66\n",
       "28                    Telangana   335147930.00\n",
       "25                    Rajasthan   281320270.50\n",
       "22                       Odisha   160904070.10\n",
       "31                  Uttarakhand   132177355.00\n",
       "6                  Chhattisgarh   100951908.01\n",
       "11             Himachal Pradesh    17805168.60\n",
       "12            Jammu and Kashmir    13291015.70\n",
       "21                     Nagaland    12765950.00\n",
       "29                      Tripura    12522917.00\n",
       "19                    Meghalaya    12112496.00\n",
       "13                    Jharkhand    10777741.75\n",
       "2             Arunachal Pradesh     6823912.60\n",
       "18                      Manipur     5230917.00\n",
       "26                       Sikkim     2435735.00\n",
       "7        Dadra and Nagar Haveli     1847871.00\n",
       "20                      Mizoram     1661539.83\n",
       "5                    Chandigarh       63956.50"
      ]
     },
     "execution_count": 78,
     "metadata": {},
     "output_type": "execute_result"
    }
   ],
   "source": [
    "prod_rate = new_crop_df.groupby('State_Name').sum().reset_index()[['State_Name','Production']]\n",
    "prod_rate = prod_rate.sort_values('Production',ascending=False)\n",
    "prod_rate"
   ]
  },
  {
   "cell_type": "code",
   "execution_count": 86,
   "id": "e7c2d433",
   "metadata": {},
   "outputs": [
    {
     "data": {
      "image/png": "[encoded data removed]",
      "text/plain": [
       "<Figure size 864x864 with 1 Axes>"
      ]
     },
     "metadata": {},
     "output_type": "display_data"
    }
   ],
   "source": [
    "plt.figure(figsize= (12,12))\n",
    "sns.barplot(x=prod_rate['Production'],y= prod_rate[\"State_Name\"])"
   ]
  },
  {
   "cell_type": "markdown",
   "id": "b210519d",
   "metadata": {},
   "source": [
    "From above graph we get to know that kerela is producing the highest amount of crops in India, we can guess that climate there is very suitable for all kind of vegetation and soil is fertile."
   ]
  },
  {
   "cell_type": "markdown",
   "id": "0740a0a1",
   "metadata": {},
   "source": [
    "#### Which 1 crops can be found in all seasons , and has almost equal production rate "
   ]
  },
  {
   "cell_type": "markdown",
   "id": "20855db9",
   "metadata": {},
   "source": [
    "While plotting graph for \"Top two crops grown per season , the conclusion which cn be drawn , is Arhar/Tur is the crop which is grown and found in all season, as i observed that Arhar was always found in top two spot, while plotting graph for top two crops grown per season."
   ]
  },
  {
   "cell_type": "markdown",
   "id": "2948cd73",
   "metadata": {},
   "source": [
    "#### Graph for wheat production"
   ]
  },
  {
   "cell_type": "code",
   "execution_count": 155,
   "id": "bb01a713",
   "metadata": {},
   "outputs": [
    {
     "data": {
      "image/png": "[encoded data removed]",
      "text/plain": [
       "<Figure size 936x720 with 1 Axes>"
      ]
     },
     "metadata": {},
     "output_type": "display_data"
    }
   ],
   "source": [
    "plt.figure(figsize=(13,10))\n",
    "sns.barplot(x=\"State_Name\",y=\"Production\",data=wheat_df)\n",
    "plt.xticks(rotation=90)\n",
    "plt.show()"
   ]
  },
  {
   "cell_type": "markdown",
   "id": "71d42787",
   "metadata": {},
   "source": [
    "As we saw previously in the table plotted above , that punjab is the highest producer of wheat, the graph above shows the clear representation of our insight"
   ]
  },
  {
   "cell_type": "code",
   "execution_count": 156,
   "id": "f45de227",
   "metadata": {},
   "outputs": [
    {
     "data": {
      "image/png": "[encoded data removed]",
      "text/plain": [
       "<Figure size 936x720 with 1 Axes>"
      ]
     },
     "metadata": {},
     "output_type": "display_data"
    }
   ],
   "source": [
    "plt.figure(figsize=(13,10))\n",
    "sns.barplot(x=\"Crop_Year\",y=\"Production\",data=wheat_df)\n",
    "plt.xticks(rotation=45)\n",
    "plt.show()"
   ]
  },
  {
   "cell_type": "markdown",
   "id": "d4aa55b9",
   "metadata": {},
   "source": [
    "The above graph shows that 2014 was the year in which we can observe the highest production of wheat"
   ]
  },
  {
   "cell_type": "markdown",
   "id": "99f51441",
   "metadata": {},
   "source": [
    "#### Which crop production require largest area"
   ]
  },
  {
   "cell_type": "code",
   "execution_count": 175,
   "id": "dd073177",
   "metadata": {},
   "outputs": [
    {
     "data": {
      "text/html": [
       "<div>\n",
       "<style scoped>\n",
       "    .dataframe tbody tr th:only-of-type {\n",
       "        vertical-align: middle;\n",
       "    }\n",
       "\n",
       "    .dataframe tbody tr th {\n",
       "        vertical-align: top;\n",
       "    }\n",
       "\n",
       "    .dataframe thead th {\n",
       "        text-align: right;\n",
       "    }\n",
       "</style>\n",
       "<table border=\"1\" class=\"dataframe\">\n",
       "  <thead>\n",
       "    <tr style=\"text-align: right;\">\n",
       "      <th></th>\n",
       "      <th>Crop</th>\n",
       "      <th>Area</th>\n",
       "    </tr>\n",
       "  </thead>\n",
       "  <tbody>\n",
       "    <tr>\n",
       "      <th>0</th>\n",
       "      <td>Apple</td>\n",
       "      <td>9.00</td>\n",
       "    </tr>\n",
       "    <tr>\n",
       "      <th>1</th>\n",
       "      <td>Arcanut (Processed)</td>\n",
       "      <td>144116.00</td>\n",
       "    </tr>\n",
       "    <tr>\n",
       "      <th>2</th>\n",
       "      <td>Arecanut</td>\n",
       "      <td>6000993.01</td>\n",
       "    </tr>\n",
       "    <tr>\n",
       "      <th>3</th>\n",
       "      <td>Arhar/Tur</td>\n",
       "      <td>57788325.21</td>\n",
       "    </tr>\n",
       "    <tr>\n",
       "      <th>4</th>\n",
       "      <td>Ash Gourd</td>\n",
       "      <td>1644.00</td>\n",
       "    </tr>\n",
       "    <tr>\n",
       "      <th>...</th>\n",
       "      <td>...</td>\n",
       "      <td>...</td>\n",
       "    </tr>\n",
       "    <tr>\n",
       "      <th>119</th>\n",
       "      <td>Wheat</td>\n",
       "      <td>470713244.96</td>\n",
       "    </tr>\n",
       "    <tr>\n",
       "      <th>120</th>\n",
       "      <td>Yam</td>\n",
       "      <td>1775.00</td>\n",
       "    </tr>\n",
       "    <tr>\n",
       "      <th>121</th>\n",
       "      <td>other fibres</td>\n",
       "      <td>12638.00</td>\n",
       "    </tr>\n",
       "    <tr>\n",
       "      <th>122</th>\n",
       "      <td>other misc. pulses</td>\n",
       "      <td>30843.00</td>\n",
       "    </tr>\n",
       "    <tr>\n",
       "      <th>123</th>\n",
       "      <td>other oilseeds</td>\n",
       "      <td>2234402.86</td>\n",
       "    </tr>\n",
       "  </tbody>\n",
       "</table>\n",
       "<p>124 rows × 2 columns</p>\n",
       "</div>"
      ],
      "text/plain": [
       "                    Crop         Area\n",
       "0                  Apple         9.00\n",
       "1    Arcanut (Processed)    144116.00\n",
       "2               Arecanut   6000993.01\n",
       "3              Arhar/Tur  57788325.21\n",
       "4              Ash Gourd      1644.00\n",
       "..                   ...          ...\n",
       "119                Wheat 470713244.96\n",
       "120                  Yam      1775.00\n",
       "121         other fibres     12638.00\n",
       "122   other misc. pulses     30843.00\n",
       "123       other oilseeds   2234402.86\n",
       "\n",
       "[124 rows x 2 columns]"
      ]
     },
     "execution_count": 175,
     "metadata": {},
     "output_type": "execute_result"
    }
   ],
   "source": [
    "large_area = new_crop_df.groupby('Crop').sum().reset_index()[['Crop','Area']]\n",
    "large_area"
   ]
  },
  {
   "cell_type": "code",
   "execution_count": 176,
   "id": "0011e611",
   "metadata": {},
   "outputs": [
    {
     "data": {
      "text/plain": [
       "<AxesSubplot:xlabel='Area', ylabel='Crop'>"
      ]
     },
     "execution_count": 176,
     "metadata": {},
     "output_type": "execute_result"
    },
    {
     "data": {
      "image/png": "[encoded data removed]",
      "text/plain": [
       "<Figure size 1080x1800 with 1 Axes>"
      ]
     },
     "metadata": {},
     "output_type": "display_data"
    }
   ],
   "source": [
    "plt.figure(figsize= (15,25))\n",
    "\n",
    "sns.barplot(x=large_area['Area'],y= large_area['Crop'])"
   ]
  },
  {
   "cell_type": "markdown",
   "id": "8de6dc8f",
   "metadata": {},
   "source": [
    "It's quite clear from graph the production of rice covers the largest area all over India, as compares to other crops"
   ]
  },
  {
   "cell_type": "markdown",
   "id": "a8844be7",
   "metadata": {},
   "source": [
    "#### Reading rain data"
   ]
  },
  {
   "cell_type": "code",
   "execution_count": 189,
   "id": "59b5b524",
   "metadata": {},
   "outputs": [
    {
     "data": {
      "text/html": [
       "<div>\n",
       "<style scoped>\n",
       "    .dataframe tbody tr th:only-of-type {\n",
       "        vertical-align: middle;\n",
       "    }\n",
       "\n",
       "    .dataframe tbody tr th {\n",
       "        vertical-align: top;\n",
       "    }\n",
       "\n",
       "    .dataframe thead th {\n",
       "        text-align: right;\n",
       "    }\n",
       "</style>\n",
       "<table border=\"1\" class=\"dataframe\">\n",
       "  <thead>\n",
       "    <tr style=\"text-align: right;\">\n",
       "      <th></th>\n",
       "      <th>State_Name</th>\n",
       "      <th>YEAR</th>\n",
       "      <th>JAN</th>\n",
       "      <th>FEB</th>\n",
       "      <th>MAR</th>\n",
       "      <th>APR</th>\n",
       "      <th>MAY</th>\n",
       "      <th>JUN</th>\n",
       "      <th>JUL</th>\n",
       "      <th>AUG</th>\n",
       "      <th>SEP</th>\n",
       "      <th>OCT</th>\n",
       "      <th>NOV</th>\n",
       "      <th>DEC</th>\n",
       "      <th>ANNUAL</th>\n",
       "      <th>Jan-Feb</th>\n",
       "      <th>Mar-May</th>\n",
       "      <th>Jun-Sep</th>\n",
       "      <th>Oct-Dec</th>\n",
       "      <th>Unnamed: 19</th>\n",
       "    </tr>\n",
       "  </thead>\n",
       "  <tbody>\n",
       "    <tr>\n",
       "      <th>0</th>\n",
       "      <td>Andaman &amp; Nicobar Islands</td>\n",
       "      <td>1997.00</td>\n",
       "      <td>9.50</td>\n",
       "      <td>0.00</td>\n",
       "      <td>0.20</td>\n",
       "      <td>15.60</td>\n",
       "      <td>281.10</td>\n",
       "      <td>199.50</td>\n",
       "      <td>918.50</td>\n",
       "      <td>430.60</td>\n",
       "      <td>440.20</td>\n",
       "      <td>128.70</td>\n",
       "      <td>292.80</td>\n",
       "      <td>38.40</td>\n",
       "      <td>2755.10</td>\n",
       "      <td>9.50</td>\n",
       "      <td>296.90</td>\n",
       "      <td>1988.80</td>\n",
       "      <td>459.90</td>\n",
       "      <td>NaN</td>\n",
       "    </tr>\n",
       "    <tr>\n",
       "      <th>1</th>\n",
       "      <td>Andaman &amp; Nicobar Islands</td>\n",
       "      <td>1998.00</td>\n",
       "      <td>0.90</td>\n",
       "      <td>0.00</td>\n",
       "      <td>0.00</td>\n",
       "      <td>0.00</td>\n",
       "      <td>348.90</td>\n",
       "      <td>600.00</td>\n",
       "      <td>364.50</td>\n",
       "      <td>258.90</td>\n",
       "      <td>337.80</td>\n",
       "      <td>618.60</td>\n",
       "      <td>227.80</td>\n",
       "      <td>89.00</td>\n",
       "      <td>2846.40</td>\n",
       "      <td>0.90</td>\n",
       "      <td>348.90</td>\n",
       "      <td>1561.20</td>\n",
       "      <td>935.40</td>\n",
       "      <td>NaN</td>\n",
       "    </tr>\n",
       "    <tr>\n",
       "      <th>2</th>\n",
       "      <td>Andaman &amp; Nicobar Islands</td>\n",
       "      <td>1999.00</td>\n",
       "      <td>46.80</td>\n",
       "      <td>44.60</td>\n",
       "      <td>14.20</td>\n",
       "      <td>270.60</td>\n",
       "      <td>257.40</td>\n",
       "      <td>295.00</td>\n",
       "      <td>408.50</td>\n",
       "      <td>329.20</td>\n",
       "      <td>325.30</td>\n",
       "      <td>437.50</td>\n",
       "      <td>124.90</td>\n",
       "      <td>145.70</td>\n",
       "      <td>2699.70</td>\n",
       "      <td>91.40</td>\n",
       "      <td>542.20</td>\n",
       "      <td>1358.00</td>\n",
       "      <td>708.10</td>\n",
       "      <td>NaN</td>\n",
       "    </tr>\n",
       "    <tr>\n",
       "      <th>3</th>\n",
       "      <td>Andaman &amp; Nicobar Islands</td>\n",
       "      <td>2000.00</td>\n",
       "      <td>53.00</td>\n",
       "      <td>59.00</td>\n",
       "      <td>171.30</td>\n",
       "      <td>218.10</td>\n",
       "      <td>422.80</td>\n",
       "      <td>357.00</td>\n",
       "      <td>176.30</td>\n",
       "      <td>460.80</td>\n",
       "      <td>250.10</td>\n",
       "      <td>321.20</td>\n",
       "      <td>158.30</td>\n",
       "      <td>115.20</td>\n",
       "      <td>2763.20</td>\n",
       "      <td>112.00</td>\n",
       "      <td>812.20</td>\n",
       "      <td>1244.20</td>\n",
       "      <td>594.70</td>\n",
       "      <td>NaN</td>\n",
       "    </tr>\n",
       "    <tr>\n",
       "      <th>4</th>\n",
       "      <td>Andaman &amp; Nicobar Islands</td>\n",
       "      <td>2001.00</td>\n",
       "      <td>89.00</td>\n",
       "      <td>15.70</td>\n",
       "      <td>143.30</td>\n",
       "      <td>30.10</td>\n",
       "      <td>705.30</td>\n",
       "      <td>370.70</td>\n",
       "      <td>341.30</td>\n",
       "      <td>469.00</td>\n",
       "      <td>334.40</td>\n",
       "      <td>267.60</td>\n",
       "      <td>222.60</td>\n",
       "      <td>91.80</td>\n",
       "      <td>3080.90</td>\n",
       "      <td>104.70</td>\n",
       "      <td>878.70</td>\n",
       "      <td>1515.40</td>\n",
       "      <td>582.00</td>\n",
       "      <td>NaN</td>\n",
       "    </tr>\n",
       "  </tbody>\n",
       "</table>\n",
       "</div>"
      ],
      "text/plain": [
       "                  State_Name    YEAR   JAN   FEB    MAR    APR    MAY    JUN  \\\n",
       "0  Andaman & Nicobar Islands 1997.00  9.50  0.00   0.20  15.60 281.10 199.50   \n",
       "1  Andaman & Nicobar Islands 1998.00  0.90  0.00   0.00   0.00 348.90 600.00   \n",
       "2  Andaman & Nicobar Islands 1999.00 46.80 44.60  14.20 270.60 257.40 295.00   \n",
       "3  Andaman & Nicobar Islands 2000.00 53.00 59.00 171.30 218.10 422.80 357.00   \n",
       "4  Andaman & Nicobar Islands 2001.00 89.00 15.70 143.30  30.10 705.30 370.70   \n",
       "\n",
       "     JUL    AUG    SEP    OCT    NOV    DEC  ANNUAL  Jan-Feb  Mar-May  \\\n",
       "0 918.50 430.60 440.20 128.70 292.80  38.40 2755.10     9.50   296.90   \n",
       "1 364.50 258.90 337.80 618.60 227.80  89.00 2846.40     0.90   348.90   \n",
       "2 408.50 329.20 325.30 437.50 124.90 145.70 2699.70    91.40   542.20   \n",
       "3 176.30 460.80 250.10 321.20 158.30 115.20 2763.20   112.00   812.20   \n",
       "4 341.30 469.00 334.40 267.60 222.60  91.80 3080.90   104.70   878.70   \n",
       "\n",
       "   Jun-Sep  Oct-Dec  Unnamed: 19  \n",
       "0  1988.80   459.90          NaN  \n",
       "1  1561.20   935.40          NaN  \n",
       "2  1358.00   708.10          NaN  \n",
       "3  1244.20   594.70          NaN  \n",
       "4  1515.40   582.00          NaN  "
      ]
     },
     "execution_count": 189,
     "metadata": {},
     "output_type": "execute_result"
    }
   ],
   "source": [
    "rain_df = pd.read_csv(r'D:\\Project\\Data Set - Rainfall.csv')\n",
    "rain_df.head()"
   ]
  },
  {
   "cell_type": "code",
   "execution_count": 214,
   "id": "3848d87a",
   "metadata": {},
   "outputs": [
    {
     "data": {
      "text/plain": [
       "State_Name    0\n",
       "YEAR          0\n",
       "JAN           0\n",
       "FEB           0\n",
       "MAR           0\n",
       "APR           0\n",
       "MAY           0\n",
       "JUN           0\n",
       "JUL           0\n",
       "AUG           0\n",
       "SEP           0\n",
       "OCT           0\n",
       "NOV           0\n",
       "DEC           0\n",
       "ANNUAL        0\n",
       "Jan-Feb       0\n",
       "Mar-May       0\n",
       "Jun-Sep       0\n",
       "Oct-Dec       0\n",
       "dtype: int64"
      ]
     },
     "execution_count": 214,
     "metadata": {},
     "output_type": "execute_result"
    }
   ],
   "source": [
    "rain_df.isnull().sum()"
   ]
  },
  {
   "cell_type": "code",
   "execution_count": 211,
   "id": "8501577b",
   "metadata": {},
   "outputs": [],
   "source": [
    "rain_df.drop(['Unnamed: 19'],axis = 1,inplace=True)"
   ]
  },
  {
   "cell_type": "code",
   "execution_count": 213,
   "id": "857418d7",
   "metadata": {},
   "outputs": [],
   "source": [
    "rain_df = rain_df.dropna()"
   ]
  },
  {
   "cell_type": "markdown",
   "id": "1ca82eae",
   "metadata": {},
   "source": [
    "#### Most rainfall for particular year"
   ]
  },
  {
   "cell_type": "code",
   "execution_count": 224,
   "id": "06be082a",
   "metadata": {},
   "outputs": [],
   "source": [
    "rain = rain_df.groupby('YEAR').sum().reset_index()[['YEAR','ANNUAL']]"
   ]
  },
  {
   "cell_type": "code",
   "execution_count": 226,
   "id": "beb42d4a",
   "metadata": {},
   "outputs": [
    {
     "data": {
      "image/png": "[encoded data removed]",
      "text/plain": [
       "<Figure size 936x720 with 1 Axes>"
      ]
     },
     "metadata": {},
     "output_type": "display_data"
    }
   ],
   "source": [
    "plt.figure(figsize=(13,10))\n",
    "sns.barplot(x=\"YEAR\",y=\"ANNUAL\",data=rain)\n",
    "plt.xticks(rotation=45)\n",
    "plt.show()"
   ]
  },
  {
   "cell_type": "markdown",
   "id": "57f204ad",
   "metadata": {},
   "source": [
    "It can observed from the graph that year 1998, 2007 and 2013 had huge amount of rainfall"
   ]
  },
  {
   "cell_type": "markdown",
   "id": "9bb9469e",
   "metadata": {},
   "source": [
    "#### Checking for month which had highest rainfall in 1998"
   ]
  },
  {
   "cell_type": "code",
   "execution_count": 227,
   "id": "57b86a01",
   "metadata": {},
   "outputs": [],
   "source": [
    "jan_98 = rain_df[rain_df['YEAR'] == 1998]"
   ]
  },
  {
   "cell_type": "code",
   "execution_count": 235,
   "id": "8aaf764e",
   "metadata": {},
   "outputs": [],
   "source": [
    "l1 =[]\n",
    "for x in [jan_98['JAN'],jan_98['FEB'],jan_98['MAR'],jan_98['APR'],jan_98['MAY'],jan_98['JUN'],jan_98['JUL'],jan_98['AUG'],jan_98['SEP'],jan_98['OCT'],jan_98['NOV'],jan_98['DEC']]:\n",
    "    l1.append(x.sum())"
   ]
  },
  {
   "cell_type": "code",
   "execution_count": 250,
   "id": "79364d7b",
   "metadata": {},
   "outputs": [
    {
     "data": {
      "text/html": [
       "<div>\n",
       "<style scoped>\n",
       "    .dataframe tbody tr th:only-of-type {\n",
       "        vertical-align: middle;\n",
       "    }\n",
       "\n",
       "    .dataframe tbody tr th {\n",
       "        vertical-align: top;\n",
       "    }\n",
       "\n",
       "    .dataframe thead th {\n",
       "        text-align: right;\n",
       "    }\n",
       "</style>\n",
       "<table border=\"1\" class=\"dataframe\">\n",
       "  <thead>\n",
       "    <tr style=\"text-align: right;\">\n",
       "      <th></th>\n",
       "      <th>0</th>\n",
       "    </tr>\n",
       "  </thead>\n",
       "  <tbody>\n",
       "    <tr>\n",
       "      <th>0</th>\n",
       "      <td>557.40</td>\n",
       "    </tr>\n",
       "    <tr>\n",
       "      <th>1</th>\n",
       "      <td>978.40</td>\n",
       "    </tr>\n",
       "    <tr>\n",
       "      <th>2</th>\n",
       "      <td>1522.60</td>\n",
       "    </tr>\n",
       "    <tr>\n",
       "      <th>3</th>\n",
       "      <td>1464.20</td>\n",
       "    </tr>\n",
       "    <tr>\n",
       "      <th>4</th>\n",
       "      <td>2527.50</td>\n",
       "    </tr>\n",
       "    <tr>\n",
       "      <th>5</th>\n",
       "      <td>8634.30</td>\n",
       "    </tr>\n",
       "    <tr>\n",
       "      <th>6</th>\n",
       "      <td>12434.60</td>\n",
       "    </tr>\n",
       "    <tr>\n",
       "      <th>7</th>\n",
       "      <td>10551.00</td>\n",
       "    </tr>\n",
       "    <tr>\n",
       "      <th>8</th>\n",
       "      <td>8649.70</td>\n",
       "    </tr>\n",
       "    <tr>\n",
       "      <th>9</th>\n",
       "      <td>5169.90</td>\n",
       "    </tr>\n",
       "    <tr>\n",
       "      <th>10</th>\n",
       "      <td>1778.50</td>\n",
       "    </tr>\n",
       "    <tr>\n",
       "      <th>11</th>\n",
       "      <td>695.80</td>\n",
       "    </tr>\n",
       "  </tbody>\n",
       "</table>\n",
       "</div>"
      ],
      "text/plain": [
       "          0\n",
       "0    557.40\n",
       "1    978.40\n",
       "2   1522.60\n",
       "3   1464.20\n",
       "4   2527.50\n",
       "5   8634.30\n",
       "6  12434.60\n",
       "7  10551.00\n",
       "8   8649.70\n",
       "9   5169.90\n",
       "10  1778.50\n",
       "11   695.80"
      ]
     },
     "execution_count": 250,
     "metadata": {},
     "output_type": "execute_result"
    }
   ],
   "source": [
    "df = pd.DataFrame(l1)\n",
    "df"
   ]
  },
  {
   "cell_type": "code",
   "execution_count": 249,
   "id": "73aa1228",
   "metadata": {},
   "outputs": [],
   "source": [
    "l = [ 'JAN',\n",
    " 'FEB',\n",
    " 'MAR',\n",
    " 'APR',\n",
    " 'MAY',\n",
    " 'JUN',\n",
    " 'JUL',\n",
    " 'AUG',\n",
    " 'SEP',\n",
    " 'OCT',\n",
    " 'NOV',\n",
    " 'DEC']"
   ]
  },
  {
   "cell_type": "code",
   "execution_count": 253,
   "id": "8483a9b5",
   "metadata": {},
   "outputs": [
    {
     "data": {
      "image/png": "[encoded data removed]",
      "text/plain": [
       "<Figure size 936x720 with 1 Axes>"
      ]
     },
     "metadata": {},
     "output_type": "display_data"
    }
   ],
   "source": [
    "plt.figure(figsize=(13,10))\n",
    "sns.barplot(x=df[0],y=l)\n",
    "plt.xticks(rotation=45)\n",
    "plt.show()"
   ]
  },
  {
   "cell_type": "markdown",
   "id": "593aaa11",
   "metadata": {},
   "source": [
    "We can see in the year 1998, most rain we had was in the month of july"
   ]
  }
 ],
 "metadata": {
  "kernelspec": {
   "display_name": "Python 3",
   "language": "python",
   "name": "python3"
  },
  "language_info": {
   "codemirror_mode": {
    "name": "ipython",
    "version": 3
   },
   "file_extension": ".py",
   "mimetype": "text/x-python",
   "name": "python",
   "nbconvert_exporter": "python",
   "pygments_lexer": "ipython3",
   "version": "3.8.8"
  }
 },
 "nbformat": 4,
 "nbformat_minor": 5
}
